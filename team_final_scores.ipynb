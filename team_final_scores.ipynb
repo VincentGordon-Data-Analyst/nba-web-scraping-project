{
 "cells": [
  {
   "cell_type": "code",
   "execution_count": 1,
   "metadata": {},
   "outputs": [
    {
     "name": "stdout",
     "output_type": "stream",
     "text": [
      "Webpage loaded successfully!\n"
     ]
    }
   ],
   "source": [
    "from selenium import webdriver\n",
    "import time\n",
    "from selenium.webdriver.support.ui import WebDriverWait\n",
    "from selenium.webdriver.support import expected_conditions as EC\n",
    "from selenium.webdriver.common.by import By\n",
    "from selenium.webdriver.support.ui import Select\n",
    "\n",
    "from selenium.common.exceptions import StaleElementReferenceException\n",
    "import time\n",
    "\n",
    "# Set up the Selenium WebDriver (make sure to have the appropriate webdriver installed)\n",
    "driver = webdriver.Edge(executable_path=r\"C:\\Program Files (x86)\\msedgedriver.exe\")\n",
    "# URL of the webpage containing the dropdown menu\n",
    "url = \"https://www.espn.com/nba/scoreboard/_/date/20231024\"\n",
    "driver.get(url)\n",
    "\n",
    "print(\"Webpage loaded successfully!\")"
   ]
  },
  {
   "cell_type": "code",
   "execution_count": 123,
   "metadata": {},
   "outputs": [],
   "source": [
    "# Open calendar\n",
    "calendar_button = driver.find_element(By.CLASS_NAME, 'DateCarousel__MonthTrigger').click()"
   ]
  },
  {
   "cell_type": "code",
   "execution_count": 118,
   "metadata": {},
   "outputs": [
    {
     "name": "stdout",
     "output_type": "stream",
     "text": [
      "Found a day with games: 1\n"
     ]
    },
    {
     "ename": "StaleElementReferenceException",
     "evalue": "Message: stale element reference: stale element not found\n  (Session info: MicrosoftEdge=119.0.2151.97)\n",
     "output_type": "error",
     "traceback": [
      "\u001b[1;31m---------------------------------------------------------------------------\u001b[0m",
      "\u001b[1;31mStaleElementReferenceException\u001b[0m            Traceback (most recent call last)",
      "\u001b[1;32mc:\\Users\\User\\Desktop\\Personal Projects\\Web Scraping\\nba-web-scraping-project\\team_final_scores.ipynb Cell 3\u001b[0m line \u001b[0;36m<cell line: 7>\u001b[1;34m()\u001b[0m\n\u001b[0;32m     <a href='vscode-notebook-cell:/c%3A/Users/User/Desktop/Personal%20Projects/Web%20Scraping/nba-web-scraping-project/team_final_scores.ipynb#X10sZmlsZQ%3D%3D?line=10'>11</a>\u001b[0m \u001b[39m# Iterate through each day\u001b[39;00m\n\u001b[0;32m     <a href='vscode-notebook-cell:/c%3A/Users/User/Desktop/Personal%20Projects/Web%20Scraping/nba-web-scraping-project/team_final_scores.ipynb#X10sZmlsZQ%3D%3D?line=11'>12</a>\u001b[0m \u001b[39mfor\u001b[39;00m day \u001b[39min\u001b[39;00m days:\n\u001b[1;32m---> <a href='vscode-notebook-cell:/c%3A/Users/User/Desktop/Personal%20Projects/Web%20Scraping/nba-web-scraping-project/team_final_scores.ipynb#X10sZmlsZQ%3D%3D?line=12'>13</a>\u001b[0m     \u001b[39mif\u001b[39;00m \u001b[39m'\u001b[39m\u001b[39mMonthContainer__Day--noEvent\u001b[39m\u001b[39m'\u001b[39m \u001b[39mnot\u001b[39;00m \u001b[39min\u001b[39;00m day\u001b[39m.\u001b[39;49mget_attribute(\u001b[39m'\u001b[39;49m\u001b[39mclass\u001b[39;49m\u001b[39m'\u001b[39;49m):\n\u001b[0;32m     <a href='vscode-notebook-cell:/c%3A/Users/User/Desktop/Personal%20Projects/Web%20Scraping/nba-web-scraping-project/team_final_scores.ipynb#X10sZmlsZQ%3D%3D?line=13'>14</a>\u001b[0m         \u001b[39mprint\u001b[39m(\u001b[39m'\u001b[39m\u001b[39mFound a day with games:\u001b[39m\u001b[39m'\u001b[39m, day\u001b[39m.\u001b[39mtext)\n\u001b[0;32m     <a href='vscode-notebook-cell:/c%3A/Users/User/Desktop/Personal%20Projects/Web%20Scraping/nba-web-scraping-project/team_final_scores.ipynb#X10sZmlsZQ%3D%3D?line=15'>16</a>\u001b[0m         \u001b[39m# Click on day\u001b[39;00m\n",
      "File \u001b[1;32mc:\\Users\\User\\anaconda3\\lib\\site-packages\\selenium\\webdriver\\remote\\webelement.py:139\u001b[0m, in \u001b[0;36mWebElement.get_attribute\u001b[1;34m(self, name)\u001b[0m\n\u001b[0;32m    137\u001b[0m attributeValue \u001b[39m=\u001b[39m \u001b[39m'\u001b[39m\u001b[39m'\u001b[39m\n\u001b[0;32m    138\u001b[0m \u001b[39mif\u001b[39;00m \u001b[39mself\u001b[39m\u001b[39m.\u001b[39m_w3c:\n\u001b[1;32m--> 139\u001b[0m     attributeValue \u001b[39m=\u001b[39m \u001b[39mself\u001b[39;49m\u001b[39m.\u001b[39;49mparent\u001b[39m.\u001b[39;49mexecute_script(\n\u001b[0;32m    140\u001b[0m         \u001b[39m\"\u001b[39;49m\u001b[39mreturn (\u001b[39;49m\u001b[39m%s\u001b[39;49;00m\u001b[39m).apply(null, arguments);\u001b[39;49m\u001b[39m\"\u001b[39;49m \u001b[39m%\u001b[39;49m getAttribute_js,\n\u001b[0;32m    141\u001b[0m         \u001b[39mself\u001b[39;49m, name)\n\u001b[0;32m    142\u001b[0m \u001b[39melse\u001b[39;00m:\n\u001b[0;32m    143\u001b[0m     resp \u001b[39m=\u001b[39m \u001b[39mself\u001b[39m\u001b[39m.\u001b[39m_execute(Command\u001b[39m.\u001b[39mGET_ELEMENT_ATTRIBUTE, {\u001b[39m'\u001b[39m\u001b[39mname\u001b[39m\u001b[39m'\u001b[39m: name})\n",
      "File \u001b[1;32mc:\\Users\\User\\anaconda3\\lib\\site-packages\\selenium\\webdriver\\remote\\webdriver.py:634\u001b[0m, in \u001b[0;36mWebDriver.execute_script\u001b[1;34m(self, script, *args)\u001b[0m\n\u001b[0;32m    631\u001b[0m \u001b[39melse\u001b[39;00m:\n\u001b[0;32m    632\u001b[0m     command \u001b[39m=\u001b[39m Command\u001b[39m.\u001b[39mEXECUTE_SCRIPT\n\u001b[1;32m--> 634\u001b[0m \u001b[39mreturn\u001b[39;00m \u001b[39mself\u001b[39;49m\u001b[39m.\u001b[39;49mexecute(command, {\n\u001b[0;32m    635\u001b[0m     \u001b[39m'\u001b[39;49m\u001b[39mscript\u001b[39;49m\u001b[39m'\u001b[39;49m: script,\n\u001b[0;32m    636\u001b[0m     \u001b[39m'\u001b[39;49m\u001b[39margs\u001b[39;49m\u001b[39m'\u001b[39;49m: converted_args})[\u001b[39m'\u001b[39m\u001b[39mvalue\u001b[39m\u001b[39m'\u001b[39m]\n",
      "File \u001b[1;32mc:\\Users\\User\\anaconda3\\lib\\site-packages\\selenium\\webdriver\\remote\\webdriver.py:321\u001b[0m, in \u001b[0;36mWebDriver.execute\u001b[1;34m(self, driver_command, params)\u001b[0m\n\u001b[0;32m    319\u001b[0m response \u001b[39m=\u001b[39m \u001b[39mself\u001b[39m\u001b[39m.\u001b[39mcommand_executor\u001b[39m.\u001b[39mexecute(driver_command, params)\n\u001b[0;32m    320\u001b[0m \u001b[39mif\u001b[39;00m response:\n\u001b[1;32m--> 321\u001b[0m     \u001b[39mself\u001b[39;49m\u001b[39m.\u001b[39;49merror_handler\u001b[39m.\u001b[39;49mcheck_response(response)\n\u001b[0;32m    322\u001b[0m     response[\u001b[39m'\u001b[39m\u001b[39mvalue\u001b[39m\u001b[39m'\u001b[39m] \u001b[39m=\u001b[39m \u001b[39mself\u001b[39m\u001b[39m.\u001b[39m_unwrap_value(\n\u001b[0;32m    323\u001b[0m         response\u001b[39m.\u001b[39mget(\u001b[39m'\u001b[39m\u001b[39mvalue\u001b[39m\u001b[39m'\u001b[39m, \u001b[39mNone\u001b[39;00m))\n\u001b[0;32m    324\u001b[0m     \u001b[39mreturn\u001b[39;00m response\n",
      "File \u001b[1;32mc:\\Users\\User\\anaconda3\\lib\\site-packages\\selenium\\webdriver\\remote\\errorhandler.py:242\u001b[0m, in \u001b[0;36mErrorHandler.check_response\u001b[1;34m(self, response)\u001b[0m\n\u001b[0;32m    240\u001b[0m         alert_text \u001b[39m=\u001b[39m value[\u001b[39m'\u001b[39m\u001b[39malert\u001b[39m\u001b[39m'\u001b[39m]\u001b[39m.\u001b[39mget(\u001b[39m'\u001b[39m\u001b[39mtext\u001b[39m\u001b[39m'\u001b[39m)\n\u001b[0;32m    241\u001b[0m     \u001b[39mraise\u001b[39;00m exception_class(message, screen, stacktrace, alert_text)\n\u001b[1;32m--> 242\u001b[0m \u001b[39mraise\u001b[39;00m exception_class(message, screen, stacktrace)\n",
      "\u001b[1;31mStaleElementReferenceException\u001b[0m: Message: stale element reference: stale element not found\n  (Session info: MicrosoftEdge=119.0.2151.97)\n"
     ]
    }
   ],
   "source": [
    "# Save calendar to select days in the game week\n",
    "calendar = driver.find_element(By.CLASS_NAME, 'DatePicker__MonthContainer')\n",
    "weeks = calendar.find_elements(By.CLASS_NAME, 'MonthContainer__Week')\n",
    "\n",
    "\n",
    "# Go through each week\n",
    "for week in weeks:\n",
    "    # Find all days in week\n",
    "    days =  week.find_elements(By.CLASS_NAME,'MonthContainer__Day')\n",
    "    \n",
    "    # Iterate through each day\n",
    "    for day in days:\n",
    "        if 'MonthContainer__Day--noEvent' not in day.get_attribute('class'):\n",
    "            print('Found a day with games:', day.text)\n",
    "            \n",
    "            # Click on day\n",
    "            day.click()\n"
   ]
  },
  {
   "cell_type": "code",
   "execution_count": 3,
   "metadata": {},
   "outputs": [
    {
     "ename": "ElementNotInteractableException",
     "evalue": "Message: element not interactable\n  (Session info: MicrosoftEdge=119.0.2151.97)\n",
     "output_type": "error",
     "traceback": [
      "\u001b[1;31m---------------------------------------------------------------------------\u001b[0m",
      "\u001b[1;31mElementNotInteractableException\u001b[0m           Traceback (most recent call last)",
      "\u001b[1;32mc:\\Users\\User\\Desktop\\Personal Projects\\Web Scraping\\nba-web-scraping-project\\team_final_scores.ipynb Cell 3\u001b[0m line \u001b[0;36m<cell line: 7>\u001b[1;34m()\u001b[0m\n\u001b[0;32m      <a href='vscode-notebook-cell:/c%3A/Users/User/Desktop/Personal%20Projects/Web%20Scraping/nba-web-scraping-project/team_final_scores.ipynb#W2sZmlsZQ%3D%3D?line=6'>7</a>\u001b[0m \u001b[39mfor\u001b[39;00m day \u001b[39min\u001b[39;00m days:\n\u001b[0;32m      <a href='vscode-notebook-cell:/c%3A/Users/User/Desktop/Personal%20Projects/Web%20Scraping/nba-web-scraping-project/team_final_scores.ipynb#W2sZmlsZQ%3D%3D?line=7'>8</a>\u001b[0m     \u001b[39mtry\u001b[39;00m:      \n\u001b[0;32m      <a href='vscode-notebook-cell:/c%3A/Users/User/Desktop/Personal%20Projects/Web%20Scraping/nba-web-scraping-project/team_final_scores.ipynb#W2sZmlsZQ%3D%3D?line=8'>9</a>\u001b[0m         \u001b[39m# Click on the day to load the content\u001b[39;00m\n\u001b[1;32m---> <a href='vscode-notebook-cell:/c%3A/Users/User/Desktop/Personal%20Projects/Web%20Scraping/nba-web-scraping-project/team_final_scores.ipynb#W2sZmlsZQ%3D%3D?line=9'>10</a>\u001b[0m         day\u001b[39m.\u001b[39;49mclick()  \n\u001b[0;32m     <a href='vscode-notebook-cell:/c%3A/Users/User/Desktop/Personal%20Projects/Web%20Scraping/nba-web-scraping-project/team_final_scores.ipynb#W2sZmlsZQ%3D%3D?line=10'>11</a>\u001b[0m         \u001b[39m# Find the table on the page\u001b[39;00m\n\u001b[0;32m     <a href='vscode-notebook-cell:/c%3A/Users/User/Desktop/Personal%20Projects/Web%20Scraping/nba-web-scraping-project/team_final_scores.ipynb#W2sZmlsZQ%3D%3D?line=11'>12</a>\u001b[0m         table \u001b[39m=\u001b[39m WebDriverWait(driver, \u001b[39m5\u001b[39m)\u001b[39m.\u001b[39muntil(\n\u001b[0;32m     <a href='vscode-notebook-cell:/c%3A/Users/User/Desktop/Personal%20Projects/Web%20Scraping/nba-web-scraping-project/team_final_scores.ipynb#W2sZmlsZQ%3D%3D?line=12'>13</a>\u001b[0m             EC\u001b[39m.\u001b[39mpresence_of_element_located((By\u001b[39m.\u001b[39mXPATH, \u001b[39m'\u001b[39m\u001b[39m//*[@id=\u001b[39m\u001b[39m\"\u001b[39m\u001b[39mfittPageContainer\u001b[39m\u001b[39m\"\u001b[39m\u001b[39m]/div[3]/div/div/div[1]/div/section/div\u001b[39m\u001b[39m'\u001b[39m))\n\u001b[0;32m     <a href='vscode-notebook-cell:/c%3A/Users/User/Desktop/Personal%20Projects/Web%20Scraping/nba-web-scraping-project/team_final_scores.ipynb#W2sZmlsZQ%3D%3D?line=13'>14</a>\u001b[0m         )\n",
      "File \u001b[1;32mc:\\Users\\User\\anaconda3\\lib\\site-packages\\selenium\\webdriver\\remote\\webelement.py:80\u001b[0m, in \u001b[0;36mWebElement.click\u001b[1;34m(self)\u001b[0m\n\u001b[0;32m     78\u001b[0m \u001b[39mdef\u001b[39;00m \u001b[39mclick\u001b[39m(\u001b[39mself\u001b[39m):\n\u001b[0;32m     79\u001b[0m     \u001b[39m\"\"\"Clicks the element.\"\"\"\u001b[39;00m\n\u001b[1;32m---> 80\u001b[0m     \u001b[39mself\u001b[39;49m\u001b[39m.\u001b[39;49m_execute(Command\u001b[39m.\u001b[39;49mCLICK_ELEMENT)\n",
      "File \u001b[1;32mc:\\Users\\User\\anaconda3\\lib\\site-packages\\selenium\\webdriver\\remote\\webelement.py:633\u001b[0m, in \u001b[0;36mWebElement._execute\u001b[1;34m(self, command, params)\u001b[0m\n\u001b[0;32m    631\u001b[0m     params \u001b[39m=\u001b[39m {}\n\u001b[0;32m    632\u001b[0m params[\u001b[39m'\u001b[39m\u001b[39mid\u001b[39m\u001b[39m'\u001b[39m] \u001b[39m=\u001b[39m \u001b[39mself\u001b[39m\u001b[39m.\u001b[39m_id\n\u001b[1;32m--> 633\u001b[0m \u001b[39mreturn\u001b[39;00m \u001b[39mself\u001b[39;49m\u001b[39m.\u001b[39;49m_parent\u001b[39m.\u001b[39;49mexecute(command, params)\n",
      "File \u001b[1;32mc:\\Users\\User\\anaconda3\\lib\\site-packages\\selenium\\webdriver\\remote\\webdriver.py:321\u001b[0m, in \u001b[0;36mWebDriver.execute\u001b[1;34m(self, driver_command, params)\u001b[0m\n\u001b[0;32m    319\u001b[0m response \u001b[39m=\u001b[39m \u001b[39mself\u001b[39m\u001b[39m.\u001b[39mcommand_executor\u001b[39m.\u001b[39mexecute(driver_command, params)\n\u001b[0;32m    320\u001b[0m \u001b[39mif\u001b[39;00m response:\n\u001b[1;32m--> 321\u001b[0m     \u001b[39mself\u001b[39;49m\u001b[39m.\u001b[39;49merror_handler\u001b[39m.\u001b[39;49mcheck_response(response)\n\u001b[0;32m    322\u001b[0m     response[\u001b[39m'\u001b[39m\u001b[39mvalue\u001b[39m\u001b[39m'\u001b[39m] \u001b[39m=\u001b[39m \u001b[39mself\u001b[39m\u001b[39m.\u001b[39m_unwrap_value(\n\u001b[0;32m    323\u001b[0m         response\u001b[39m.\u001b[39mget(\u001b[39m'\u001b[39m\u001b[39mvalue\u001b[39m\u001b[39m'\u001b[39m, \u001b[39mNone\u001b[39;00m))\n\u001b[0;32m    324\u001b[0m     \u001b[39mreturn\u001b[39;00m response\n",
      "File \u001b[1;32mc:\\Users\\User\\anaconda3\\lib\\site-packages\\selenium\\webdriver\\remote\\errorhandler.py:242\u001b[0m, in \u001b[0;36mErrorHandler.check_response\u001b[1;34m(self, response)\u001b[0m\n\u001b[0;32m    240\u001b[0m         alert_text \u001b[39m=\u001b[39m value[\u001b[39m'\u001b[39m\u001b[39malert\u001b[39m\u001b[39m'\u001b[39m]\u001b[39m.\u001b[39mget(\u001b[39m'\u001b[39m\u001b[39mtext\u001b[39m\u001b[39m'\u001b[39m)\n\u001b[0;32m    241\u001b[0m     \u001b[39mraise\u001b[39;00m exception_class(message, screen, stacktrace, alert_text)\n\u001b[1;32m--> 242\u001b[0m \u001b[39mraise\u001b[39;00m exception_class(message, screen, stacktrace)\n",
      "\u001b[1;31mElementNotInteractableException\u001b[0m: Message: element not interactable\n  (Session info: MicrosoftEdge=119.0.2151.97)\n"
     ]
    }
   ],
   "source": [
    "# Find all days with the class 'Day show has-events'\n",
    "days = WebDriverWait(driver, 10).until(\n",
    "    EC.presence_of_all_elements_located((By.CLASS_NAME, 'Day.show.has-events'))\n",
    ")\n",
    "\n",
    "# Iterate through each day\n",
    "for day in days:\n",
    "    try:      \n",
    "        # Click on the day to load the content\n",
    "        day.click()  \n",
    "        # Find the table on the page\n",
    "        table = WebDriverWait(driver, 5).until(\n",
    "            EC.presence_of_element_located((By.XPATH, '//*[@id=\"fittPageContainer\"]/div[3]/div/div/div[1]/div/section/div'))\n",
    "        )\n",
    "\n",
    "        sections = table.find_elements(By.XPATH, './section')\n",
    "        \n",
    "        # Iterate through each section and extract the unique ID\n",
    "        for i, section in enumerate(sections, start=0):\n",
    "            # Extract the unique ID\n",
    "            unique_id = section.get_attribute(\"id\")\n",
    "\n",
    "            # Return a list of team names and scores interleaved    \n",
    "            games_played = section.find_elements(By.XPATH, f'//*[@id=\"{unique_id}\"]/div[1]/div/div[1]/div/div/ul/li')\n",
    "\n",
    "            print(\"Day:\", day.text)\n",
    "            print(\"Game:\", i + 1)\n",
    "            for game in games_played: \n",
    "                # Inside each game element, locate the team name and points\n",
    "                team_name = game.find_element(By.XPATH, './div[1]/div[1]/a/div').text\n",
    "                score = game.find_element(By.XPATH, './div[3]').text\n",
    "\n",
    "                print(\"Team Name:\", team_name)\n",
    "                print(\"Score:\", score)\n",
    "                print()\n",
    "        \n",
    "\n",
    "    except StaleElementReferenceException:\n",
    "        print(\"StaleElementReferenceException occurred. Re-finding elements.\")\n",
    "        \n",
    "    "
   ]
  },
  {
   "cell_type": "code",
   "execution_count": 4,
   "metadata": {},
   "outputs": [
    {
     "name": "stdout",
     "output_type": "stream",
     "text": [
      "Game: 1\n",
      "Team Name: Lakers\n",
      "Score: 107\n",
      "\n",
      "Team Name: Nuggets\n",
      "Score: 119\n",
      "\n",
      "Game: 2\n",
      "Team Name: Suns\n",
      "Score: 108\n",
      "\n",
      "Team Name: Warriors\n",
      "Score: 104\n",
      "\n"
     ]
    }
   ],
   "source": [
    "# Find the table on the page\n",
    "table = WebDriverWait(driver, 5).until(\n",
    "EC.presence_of_element_located((By.XPATH, '//*[@id=\"fittPageContainer\"]/div[3]/div/div/div[1]/div/section/div'))\n",
    ")\n",
    "\n",
    "sections = table.find_elements(By.XPATH, './section')\n",
    "# Iterate through each section and extract the unique ID\n",
    "for i, section in enumerate(sections, start=0):\n",
    "    # Extract the unique ID\n",
    "    unique_id = section.get_attribute(\"id\")\n",
    "    \n",
    "    # Return a list of team names and scores interleaved    \n",
    "    games_played = sections[i].find_elements(By.XPATH, f'//*[@id=\"{unique_id}\"]/div[1]/div/div[1]/div/div/ul/li')\n",
    "    \n",
    "    print(\"Game:\", i + 1)\n",
    "    for game in games_played: \n",
    "        # Inside each game element, locate the team name and points\n",
    "        team_name = game.find_element(By.XPATH, './div[1]/div[1]/a/div').text\n",
    "        score = game.find_element(By.XPATH, './div[3]').text\n",
    "        \n",
    "        print(\"Team Name:\", team_name)\n",
    "        print(\"Score:\", score)\n",
    "        print()"
   ]
  },
  {
   "cell_type": "code",
   "execution_count": null,
   "metadata": {},
   "outputs": [],
   "source": []
  }
 ],
 "metadata": {
  "kernelspec": {
   "display_name": "base",
   "language": "python",
   "name": "python3"
  },
  "language_info": {
   "codemirror_mode": {
    "name": "ipython",
    "version": 3
   },
   "file_extension": ".py",
   "mimetype": "text/x-python",
   "name": "python",
   "nbconvert_exporter": "python",
   "pygments_lexer": "ipython3",
   "version": "3.9.12"
  }
 },
 "nbformat": 4,
 "nbformat_minor": 2
}
