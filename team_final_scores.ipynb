{
 "cells": [
  {
   "cell_type": "code",
   "execution_count": 14,
   "metadata": {},
   "outputs": [
    {
     "name": "stdout",
     "output_type": "stream",
     "text": [
      "Webpage loaded successfully!\n"
     ]
    }
   ],
   "source": [
    "from selenium import webdriver\n",
    "import time\n",
    "from selenium.webdriver.support.ui import WebDriverWait\n",
    "from selenium.webdriver.support import expected_conditions as EC\n",
    "from selenium.webdriver.common.by import By\n",
    "from selenium.common.exceptions import StaleElementReferenceException\n",
    "import time\n",
    "\n",
    "# Set up the Selenium WebDriver (make sure to have the appropriate webdriver installed)\n",
    "driver = webdriver.Edge(executable_path=r\"C:\\Program Files (x86)\\msedgedriver.exe\")\n",
    "# URL of the webpage containing the dropdown menu\n",
    "url = \"https://www.espn.com/nba/scoreboard/_/date/20231024\"\n",
    "driver.get(url)\n",
    "print(\"Webpage loaded successfully!\")"
   ]
  },
  {
   "cell_type": "code",
   "execution_count": 15,
   "metadata": {},
   "outputs": [],
   "source": [
    "\n",
    "# # Find the week containing games played\n",
    "# game_week = WebDriverWait(driver, 10).until(\n",
    "#         EC.presence_of_element_located((By.XPATH, '//*[@id=\"fittPageContainer\"]/div[3]/div/div[1]/div[1]/section/div/section/div/div/div/div/div/div[26]/div'))\n",
    "#     )\n",
    "\n",
    "# # Find all days that games were played on \n",
    "# days = WebDriverWait(driver, 10).until(\n",
    "#             EC.presence_of_all_elements_located((By.CLASS_NAME, 'has-events'))\n",
    "#         )\n",
    "# days = game_week.find_elements(By.CLASS_NAME, 'has-events')\n",
    "\n",
    "# # Iterate through each day\n",
    "# for i, day in enumerate(days, start=1):\n",
    "#     try:        \n",
    "#         # Find the table on the page\n",
    "#         table = WebDriverWait(driver, 10).until(\n",
    "#         EC.presence_of_element_located((By.XPATH, '//*[@id=\"fittPageContainer\"]/div[3]/div/div/div[1]/div/section/div'))\n",
    "#         )\n",
    "        \n",
    "#         print('Collecting final scores on day', day.text.split('\\n'))\n",
    "        \n",
    "#         time.sleep(10)\n",
    "                \n",
    "#         #  # Re-find the days elements to avoid StaleElementReferenceException\n",
    "#         updated_days = WebDriverWait(driver, 10).until(\n",
    "#             EC.presence_of_all_elements_located((By.CLASS_NAME, 'has-events'))\n",
    "#         )\n",
    "#         day.click()   \n",
    "        \n",
    "#         # Update the variable to use the newly found days\n",
    "#         days = updated_days     \n",
    "        \n",
    "           \n",
    "#     except StaleElementReferenceException:\n",
    "#         print(\"StaleElementReferenceException occurred. Re-finding elements.\")\n",
    "        \n",
    "#          # Re-find the days elements to avoid StaleElementReferenceException\n",
    "#         days = WebDriverWait(driver, 10).until(\n",
    "#             EC.presence_of_all_elements_located((By.CLASS_NAME, 'has-events'))\n",
    "#         )\n",
    "\n",
    "# # Introduce an implicit wait to ensure the next day is clicked after the page has fully loaded\n",
    "# driver.implicitly_wait(5)"
   ]
  },
  {
   "cell_type": "code",
   "execution_count": 18,
   "metadata": {},
   "outputs": [
    {
     "name": "stdout",
     "output_type": "stream",
     "text": [
      "Game: 1\n",
      "Team Name: Lakers\n",
      "Score: 107\n",
      "\n",
      "Team Name: Nuggets\n",
      "Score: 119\n",
      "\n",
      "Game: 2\n",
      "Team Name: Suns\n",
      "Score: 108\n",
      "\n",
      "Team Name: Warriors\n",
      "Score: 104\n",
      "\n"
     ]
    }
   ],
   "source": [
    "# Find the table on the page\n",
    "table = WebDriverWait(driver, 5).until(\n",
    "EC.presence_of_element_located((By.XPATH, '//*[@id=\"fittPageContainer\"]/div[3]/div/div/div[1]/div/section/div'))\n",
    ")\n",
    "\n",
    "sections = table.find_elements(By.XPATH, './section')\n",
    "# Iterate through each section and extract the unique ID\n",
    "for i, section in enumerate(sections, start=0):\n",
    "    # Extract the unique ID\n",
    "    unique_id = section.get_attribute(\"id\")\n",
    "    \n",
    "    # Return a list of team names and scores interleaved    \n",
    "    games_played = sections[i].find_elements(By.XPATH, f'//*[@id=\"{unique_id}\"]/div[1]/div/div[1]/div/div/ul/li')\n",
    "    \n",
    "    print(\"Game:\", i + 1)\n",
    "    for game in games_played: \n",
    "        # Inside each game element, locate the team name and points\n",
    "        team_name = game.find_element(By.XPATH, './div[1]/div[1]/a/div').text\n",
    "        score = game.find_element(By.XPATH, './div[3]').text\n",
    "        \n",
    "        print(\"Team Name:\", team_name)\n",
    "        print(\"Score:\", score)\n",
    "        print()\n"
   ]
  },
  {
   "cell_type": "code",
   "execution_count": null,
   "metadata": {},
   "outputs": [],
   "source": []
  }
 ],
 "metadata": {
  "kernelspec": {
   "display_name": "base",
   "language": "python",
   "name": "python3"
  },
  "language_info": {
   "codemirror_mode": {
    "name": "ipython",
    "version": 3
   },
   "file_extension": ".py",
   "mimetype": "text/x-python",
   "name": "python",
   "nbconvert_exporter": "python",
   "pygments_lexer": "ipython3",
   "version": "3.9.12"
  }
 },
 "nbformat": 4,
 "nbformat_minor": 2
}
