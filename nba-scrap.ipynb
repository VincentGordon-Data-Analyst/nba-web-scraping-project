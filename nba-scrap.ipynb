{
 "cells": [
  {
   "cell_type": "code",
   "execution_count": 241,
   "metadata": {},
   "outputs": [],
   "source": [
    "from splinter import Browser\n",
    "from bs4 import BeautifulSoup as bs\n",
    "\n",
    "import requests"
   ]
  },
  {
   "cell_type": "code",
   "execution_count": 242,
   "metadata": {},
   "outputs": [],
   "source": [
    "# Set up Splinter\n",
    "executable_path = {'executable_path':\"C:\\Program Files (x86)\\msedgedriver.exe\"}\n",
    "browser = Browser('edge', **executable_path)\n",
    "\n",
    "# Url for scraping\n",
    "url = \"https://www.nba.com/stats/leaders?SeasonType=Regular+Season&Season=2023-24\"\n",
    "\n",
    "browser.visit(url)\n",
    "html = browser.html\n",
    "\n",
    "soup = bs(html, 'html.parser')"
   ]
  },
  {
   "cell_type": "code",
   "execution_count": 243,
   "metadata": {},
   "outputs": [
    {
     "data": {
      "text/plain": [
       "['#',\n",
       " 'Player',\n",
       " 'TEAM',\n",
       " 'GP',\n",
       " 'MIN',\n",
       " 'PTS',\n",
       " 'FGM',\n",
       " 'FGA',\n",
       " 'FG%',\n",
       " '3PM',\n",
       " '3PA',\n",
       " '3P%',\n",
       " 'FTM',\n",
       " 'FTA',\n",
       " 'FT%',\n",
       " 'OREB',\n",
       " 'DREB',\n",
       " 'REB',\n",
       " 'AST',\n",
       " 'STL',\n",
       " 'BLK',\n",
       " 'TOV',\n",
       " 'EFF']"
      ]
     },
     "execution_count": 243,
     "metadata": {},
     "output_type": "execute_result"
    }
   ],
   "source": [
    "# Find table element\n",
    "table = soup.find(\"table\", class_=\"Crom_table__p1iZz\")\n",
    "\n",
    "# Get table headers\n",
    "headers = []\n",
    "for i in range(len(table.thead.find_all('th'))):\n",
    "    header = table.thead.find_all('th')[i].text\n",
    "    headers.append(header)\n",
    "\n",
    "headers"
   ]
  },
  {
   "cell_type": "code",
   "execution_count": 318,
   "metadata": {},
   "outputs": [
    {
     "name": "stdout",
     "output_type": "stream",
     "text": [
      "None\n"
     ]
    }
   ],
   "source": [
    "from selenium import webdriver\n",
    "from selenium.webdriver.support.ui import Select\n",
    "\n",
    "# Set up the Selenium WebDriver (make sure to have the appropriate webdriver installed)\n",
    "driver = webdriver.Edge(executable_path=r\"C:\\Program Files (x86)\\msedgedriver.exe\")\n",
    "\n",
    "# URL of the webpage containing the dropdown menu\n",
    "url = \"https://www.nba.com/stats/leaders?SeasonType=Regular+Season&Season=2023-24\"\n",
    "driver.get(url)"
   ]
  },
  {
   "cell_type": "code",
   "execution_count": 319,
   "metadata": {},
   "outputs": [
    {
     "name": "stdout",
     "output_type": "stream",
     "text": [
      "None\n"
     ]
    }
   ],
   "source": [
    "# Find the dropdown element using its HTML attribute, like 'id' or 'name'\n",
    "dropdown = Select(driver.find_elements_by_class_name(\"DropDown_select__4pIg9\")[5])\n",
    "\n",
    "# Change the selected option by index, value\n",
    "print(dropdown.select_by_index(0))"
   ]
  },
  {
   "cell_type": "code",
   "execution_count": null,
   "metadata": {},
   "outputs": [],
   "source": [
    "# "
   ]
  },
  {
   "cell_type": "code",
   "execution_count": null,
   "metadata": {},
   "outputs": [],
   "source": []
  },
  {
   "cell_type": "code",
   "execution_count": null,
   "metadata": {},
   "outputs": [],
   "source": []
  },
  {
   "cell_type": "code",
   "execution_count": null,
   "metadata": {},
   "outputs": [],
   "source": []
  },
  {
   "cell_type": "code",
   "execution_count": null,
   "metadata": {},
   "outputs": [],
   "source": []
  },
  {
   "cell_type": "code",
   "execution_count": null,
   "metadata": {},
   "outputs": [],
   "source": []
  },
  {
   "cell_type": "code",
   "execution_count": 244,
   "metadata": {},
   "outputs": [],
   "source": [
    "# Scrape data from all pages for current year\n",
    "# Get the last page of stats for selected year\n",
    "last_page = int(soup.find_all('select')[-1].contents[-1].text)\n",
    "\n",
    "data = []\n",
    "for x in range(last_page):\n",
    "    # Get data from table\n",
    "    for row in table.tbody.find_all('tr'):\n",
    "        cols = row.find_all('td')\n",
    "        \n",
    "        if len(cols) == 0:\n",
    "            cols.find_all('th')\n",
    "        cols = [ele.text.strip() for ele in cols]\n",
    "        data.append([ele for ele in cols if ele]) # Get rid of empty values\n",
    "    browser.find_by_css('.Pagination_button__sqGoH')[1].click()"
   ]
  },
  {
   "cell_type": "code",
   "execution_count": 245,
   "metadata": {},
   "outputs": [],
   "source": [
    "# data[-1]"
   ]
  },
  {
   "cell_type": "code",
   "execution_count": 246,
   "metadata": {},
   "outputs": [],
   "source": [
    "# # Get current year of stats\n",
    "# select_year = soup.find_all(\"select\")[0]\n",
    "# year_options = []\n",
    "# for i in range(1, len(select_year)):\n",
    "#     # Store each year in the years array\n",
    "#     year_options.append(select_year.contents[i].text)\n",
    "    \n",
    "# # Scrape stats for remaining years from dropdown menu\n",
    "# for x in range(len(year_options)):\n",
    "#     current_year_stats = year_options[x]\n",
    "    \n",
    "#     # Url for scraping the other years\n",
    "#     url = f\"https://www.nba.com/stats/leaders?Season={current_year_stats}\"\n",
    "#     browser.visit(url)\n",
    "#     html = browser.html\n",
    "#     soup = bs(html, 'html.parser')\n",
    "    \n",
    "    \n",
    "#     # Find table element\n",
    "#     table = soup.find(\"table\", class_=\"Crom_table__p1iZz\")\n",
    "\n",
    "#     # Get data from table\n",
    "#     data = []\n",
    "#     for row in table.tbody.find_all('tr'):\n",
    "#         cols = row.find_all('td')\n",
    "        \n",
    "#         if len(cols) == 0:\n",
    "#             cols.find_all('th')\n",
    "#         cols = [ele.text.strip() for ele in cols]\n",
    "#         data.append([ele for ele in cols if ele]) # Get rid of empty values\n",
    "\n",
    "#         print(f\"Gathering data for season: {current_year_stats}\")"
   ]
  },
  {
   "cell_type": "code",
   "execution_count": 247,
   "metadata": {},
   "outputs": [],
   "source": [
    "# import pandas as pd\n",
    "\n",
    "# # Getting the headers from the data array\n",
    "# # It is important to remove them from the data array afterwards in order to be parsed correctly by Pandas\n",
    "# df = pd.DataFrame(data, columns=headers)\n",
    "# df\n"
   ]
  },
  {
   "cell_type": "code",
   "execution_count": null,
   "metadata": {},
   "outputs": [],
   "source": []
  }
 ],
 "metadata": {
  "kernelspec": {
   "display_name": "base",
   "language": "python",
   "name": "python3"
  },
  "language_info": {
   "codemirror_mode": {
    "name": "ipython",
    "version": 3
   },
   "file_extension": ".py",
   "mimetype": "text/x-python",
   "name": "python",
   "nbconvert_exporter": "python",
   "pygments_lexer": "ipython3",
   "version": "3.9.12"
  }
 },
 "nbformat": 4,
 "nbformat_minor": 2
}
