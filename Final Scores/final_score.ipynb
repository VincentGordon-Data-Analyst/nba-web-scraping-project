{
 "cells": [
  {
   "cell_type": "code",
   "execution_count": 116,
   "metadata": {},
   "outputs": [],
   "source": [
    "from selenium import webdriver\n",
    "import time\n",
    "from selenium.webdriver.support.ui import WebDriverWait\n",
    "from selenium.webdriver.support import expected_conditions as EC\n",
    "from selenium.webdriver.support.ui import Select\n",
    "from selenium.webdriver.common.by import By\n",
    "\n",
    "# Set up the Selenium WebDriver (make sure to have the appropriate webdriver installed)\n",
    "driver = webdriver.Edge(executable_path=r\"C:\\Program Files (x86)\\msedgedriver.exe\")\n",
    "\n",
    "\n",
    "# URL of the webpage containing the dropdown menu\n",
    "url = f\"https://www.basketball-reference.com/leagues/NBA_2024_games.html\"\n",
    "driver.get(url)\n"
   ]
  },
  {
   "cell_type": "code",
   "execution_count": 117,
   "metadata": {},
   "outputs": [
    {
     "data": {
      "text/plain": [
       "<selenium.webdriver.remote.webelement.WebElement (session=\"cf27e95dc5f7199743e1094db7b502db\", element=\"57F06197074314D63FF6E2A0F58D20DD_element_39\")>"
      ]
     },
     "execution_count": 117,
     "metadata": {},
     "output_type": "execute_result"
    }
   ],
   "source": [
    "# Find months to filter data from\n",
    "month_filter = WebDriverWait(driver, 10).until(EC.presence_of_element_located((By.XPATH, '//*[@id=\"content\"]/div[2]')))\n",
    "\n",
    "# Get link to each month\n",
    "month = month_filter.find_elements(By.TAG_NAME, 'a')\n",
    "\n",
    "# October link\n",
    "month[0]"
   ]
  },
  {
   "cell_type": "code",
   "execution_count": 110,
   "metadata": {},
   "outputs": [
    {
     "data": {
      "text/plain": [
       "[<selenium.webdriver.remote.webelement.WebElement (session=\"78f1e403705c49c40f4c60bb1ed7ed2f\", element=\"ED6731C0C992FFDE85C1483F29FE813C_element_37\")>,\n",
       " <selenium.webdriver.remote.webelement.WebElement (session=\"78f1e403705c49c40f4c60bb1ed7ed2f\", element=\"ED6731C0C992FFDE85C1483F29FE813C_element_38\")>,\n",
       " <selenium.webdriver.remote.webelement.WebElement (session=\"78f1e403705c49c40f4c60bb1ed7ed2f\", element=\"ED6731C0C992FFDE85C1483F29FE813C_element_39\")>,\n",
       " <selenium.webdriver.remote.webelement.WebElement (session=\"78f1e403705c49c40f4c60bb1ed7ed2f\", element=\"ED6731C0C992FFDE85C1483F29FE813C_element_40\")>,\n",
       " <selenium.webdriver.remote.webelement.WebElement (session=\"78f1e403705c49c40f4c60bb1ed7ed2f\", element=\"ED6731C0C992FFDE85C1483F29FE813C_element_41\")>,\n",
       " <selenium.webdriver.remote.webelement.WebElement (session=\"78f1e403705c49c40f4c60bb1ed7ed2f\", element=\"ED6731C0C992FFDE85C1483F29FE813C_element_42\")>,\n",
       " <selenium.webdriver.remote.webelement.WebElement (session=\"78f1e403705c49c40f4c60bb1ed7ed2f\", element=\"ED6731C0C992FFDE85C1483F29FE813C_element_43\")>,\n",
       " <selenium.webdriver.remote.webelement.WebElement (session=\"78f1e403705c49c40f4c60bb1ed7ed2f\", element=\"ED6731C0C992FFDE85C1483F29FE813C_element_44\")>,\n",
       " <selenium.webdriver.remote.webelement.WebElement (session=\"78f1e403705c49c40f4c60bb1ed7ed2f\", element=\"ED6731C0C992FFDE85C1483F29FE813C_element_45\")>,\n",
       " <selenium.webdriver.remote.webelement.WebElement (session=\"78f1e403705c49c40f4c60bb1ed7ed2f\", element=\"ED6731C0C992FFDE85C1483F29FE813C_element_46\")>,\n",
       " <selenium.webdriver.remote.webelement.WebElement (session=\"78f1e403705c49c40f4c60bb1ed7ed2f\", element=\"ED6731C0C992FFDE85C1483F29FE813C_element_47\")>,\n",
       " <selenium.webdriver.remote.webelement.WebElement (session=\"78f1e403705c49c40f4c60bb1ed7ed2f\", element=\"ED6731C0C992FFDE85C1483F29FE813C_element_48\")>,\n",
       " <selenium.webdriver.remote.webelement.WebElement (session=\"78f1e403705c49c40f4c60bb1ed7ed2f\", element=\"ED6731C0C992FFDE85C1483F29FE813C_element_49\")>,\n",
       " <selenium.webdriver.remote.webelement.WebElement (session=\"78f1e403705c49c40f4c60bb1ed7ed2f\", element=\"ED6731C0C992FFDE85C1483F29FE813C_element_50\")>,\n",
       " <selenium.webdriver.remote.webelement.WebElement (session=\"78f1e403705c49c40f4c60bb1ed7ed2f\", element=\"ED6731C0C992FFDE85C1483F29FE813C_element_51\")>,\n",
       " <selenium.webdriver.remote.webelement.WebElement (session=\"78f1e403705c49c40f4c60bb1ed7ed2f\", element=\"ED6731C0C992FFDE85C1483F29FE813C_element_52\")>,\n",
       " <selenium.webdriver.remote.webelement.WebElement (session=\"78f1e403705c49c40f4c60bb1ed7ed2f\", element=\"ED6731C0C992FFDE85C1483F29FE813C_element_53\")>,\n",
       " <selenium.webdriver.remote.webelement.WebElement (session=\"78f1e403705c49c40f4c60bb1ed7ed2f\", element=\"ED6731C0C992FFDE85C1483F29FE813C_element_54\")>,\n",
       " <selenium.webdriver.remote.webelement.WebElement (session=\"78f1e403705c49c40f4c60bb1ed7ed2f\", element=\"ED6731C0C992FFDE85C1483F29FE813C_element_55\")>,\n",
       " <selenium.webdriver.remote.webelement.WebElement (session=\"78f1e403705c49c40f4c60bb1ed7ed2f\", element=\"ED6731C0C992FFDE85C1483F29FE813C_element_56\")>,\n",
       " <selenium.webdriver.remote.webelement.WebElement (session=\"78f1e403705c49c40f4c60bb1ed7ed2f\", element=\"ED6731C0C992FFDE85C1483F29FE813C_element_57\")>,\n",
       " <selenium.webdriver.remote.webelement.WebElement (session=\"78f1e403705c49c40f4c60bb1ed7ed2f\", element=\"ED6731C0C992FFDE85C1483F29FE813C_element_58\")>,\n",
       " <selenium.webdriver.remote.webelement.WebElement (session=\"78f1e403705c49c40f4c60bb1ed7ed2f\", element=\"ED6731C0C992FFDE85C1483F29FE813C_element_59\")>,\n",
       " <selenium.webdriver.remote.webelement.WebElement (session=\"78f1e403705c49c40f4c60bb1ed7ed2f\", element=\"ED6731C0C992FFDE85C1483F29FE813C_element_60\")>,\n",
       " <selenium.webdriver.remote.webelement.WebElement (session=\"78f1e403705c49c40f4c60bb1ed7ed2f\", element=\"ED6731C0C992FFDE85C1483F29FE813C_element_61\")>,\n",
       " <selenium.webdriver.remote.webelement.WebElement (session=\"78f1e403705c49c40f4c60bb1ed7ed2f\", element=\"ED6731C0C992FFDE85C1483F29FE813C_element_62\")>,\n",
       " <selenium.webdriver.remote.webelement.WebElement (session=\"78f1e403705c49c40f4c60bb1ed7ed2f\", element=\"ED6731C0C992FFDE85C1483F29FE813C_element_63\")>,\n",
       " <selenium.webdriver.remote.webelement.WebElement (session=\"78f1e403705c49c40f4c60bb1ed7ed2f\", element=\"ED6731C0C992FFDE85C1483F29FE813C_element_64\")>,\n",
       " <selenium.webdriver.remote.webelement.WebElement (session=\"78f1e403705c49c40f4c60bb1ed7ed2f\", element=\"ED6731C0C992FFDE85C1483F29FE813C_element_65\")>,\n",
       " <selenium.webdriver.remote.webelement.WebElement (session=\"78f1e403705c49c40f4c60bb1ed7ed2f\", element=\"ED6731C0C992FFDE85C1483F29FE813C_element_66\")>,\n",
       " <selenium.webdriver.remote.webelement.WebElement (session=\"78f1e403705c49c40f4c60bb1ed7ed2f\", element=\"ED6731C0C992FFDE85C1483F29FE813C_element_67\")>,\n",
       " <selenium.webdriver.remote.webelement.WebElement (session=\"78f1e403705c49c40f4c60bb1ed7ed2f\", element=\"ED6731C0C992FFDE85C1483F29FE813C_element_68\")>,\n",
       " <selenium.webdriver.remote.webelement.WebElement (session=\"78f1e403705c49c40f4c60bb1ed7ed2f\", element=\"ED6731C0C992FFDE85C1483F29FE813C_element_69\")>,\n",
       " <selenium.webdriver.remote.webelement.WebElement (session=\"78f1e403705c49c40f4c60bb1ed7ed2f\", element=\"ED6731C0C992FFDE85C1483F29FE813C_element_70\")>,\n",
       " <selenium.webdriver.remote.webelement.WebElement (session=\"78f1e403705c49c40f4c60bb1ed7ed2f\", element=\"ED6731C0C992FFDE85C1483F29FE813C_element_71\")>,\n",
       " <selenium.webdriver.remote.webelement.WebElement (session=\"78f1e403705c49c40f4c60bb1ed7ed2f\", element=\"ED6731C0C992FFDE85C1483F29FE813C_element_72\")>,\n",
       " <selenium.webdriver.remote.webelement.WebElement (session=\"78f1e403705c49c40f4c60bb1ed7ed2f\", element=\"ED6731C0C992FFDE85C1483F29FE813C_element_73\")>,\n",
       " <selenium.webdriver.remote.webelement.WebElement (session=\"78f1e403705c49c40f4c60bb1ed7ed2f\", element=\"ED6731C0C992FFDE85C1483F29FE813C_element_74\")>,\n",
       " <selenium.webdriver.remote.webelement.WebElement (session=\"78f1e403705c49c40f4c60bb1ed7ed2f\", element=\"ED6731C0C992FFDE85C1483F29FE813C_element_75\")>,\n",
       " <selenium.webdriver.remote.webelement.WebElement (session=\"78f1e403705c49c40f4c60bb1ed7ed2f\", element=\"ED6731C0C992FFDE85C1483F29FE813C_element_76\")>,\n",
       " <selenium.webdriver.remote.webelement.WebElement (session=\"78f1e403705c49c40f4c60bb1ed7ed2f\", element=\"ED6731C0C992FFDE85C1483F29FE813C_element_77\")>,\n",
       " <selenium.webdriver.remote.webelement.WebElement (session=\"78f1e403705c49c40f4c60bb1ed7ed2f\", element=\"ED6731C0C992FFDE85C1483F29FE813C_element_78\")>,\n",
       " <selenium.webdriver.remote.webelement.WebElement (session=\"78f1e403705c49c40f4c60bb1ed7ed2f\", element=\"ED6731C0C992FFDE85C1483F29FE813C_element_79\")>,\n",
       " <selenium.webdriver.remote.webelement.WebElement (session=\"78f1e403705c49c40f4c60bb1ed7ed2f\", element=\"ED6731C0C992FFDE85C1483F29FE813C_element_80\")>,\n",
       " <selenium.webdriver.remote.webelement.WebElement (session=\"78f1e403705c49c40f4c60bb1ed7ed2f\", element=\"ED6731C0C992FFDE85C1483F29FE813C_element_81\")>,\n",
       " <selenium.webdriver.remote.webelement.WebElement (session=\"78f1e403705c49c40f4c60bb1ed7ed2f\", element=\"ED6731C0C992FFDE85C1483F29FE813C_element_82\")>,\n",
       " <selenium.webdriver.remote.webelement.WebElement (session=\"78f1e403705c49c40f4c60bb1ed7ed2f\", element=\"ED6731C0C992FFDE85C1483F29FE813C_element_83\")>,\n",
       " <selenium.webdriver.remote.webelement.WebElement (session=\"78f1e403705c49c40f4c60bb1ed7ed2f\", element=\"ED6731C0C992FFDE85C1483F29FE813C_element_84\")>,\n",
       " <selenium.webdriver.remote.webelement.WebElement (session=\"78f1e403705c49c40f4c60bb1ed7ed2f\", element=\"ED6731C0C992FFDE85C1483F29FE813C_element_85\")>,\n",
       " <selenium.webdriver.remote.webelement.WebElement (session=\"78f1e403705c49c40f4c60bb1ed7ed2f\", element=\"ED6731C0C992FFDE85C1483F29FE813C_element_86\")>,\n",
       " <selenium.webdriver.remote.webelement.WebElement (session=\"78f1e403705c49c40f4c60bb1ed7ed2f\", element=\"ED6731C0C992FFDE85C1483F29FE813C_element_87\")>,\n",
       " <selenium.webdriver.remote.webelement.WebElement (session=\"78f1e403705c49c40f4c60bb1ed7ed2f\", element=\"ED6731C0C992FFDE85C1483F29FE813C_element_88\")>,\n",
       " <selenium.webdriver.remote.webelement.WebElement (session=\"78f1e403705c49c40f4c60bb1ed7ed2f\", element=\"ED6731C0C992FFDE85C1483F29FE813C_element_89\")>,\n",
       " <selenium.webdriver.remote.webelement.WebElement (session=\"78f1e403705c49c40f4c60bb1ed7ed2f\", element=\"ED6731C0C992FFDE85C1483F29FE813C_element_90\")>,\n",
       " <selenium.webdriver.remote.webelement.WebElement (session=\"78f1e403705c49c40f4c60bb1ed7ed2f\", element=\"ED6731C0C992FFDE85C1483F29FE813C_element_91\")>,\n",
       " <selenium.webdriver.remote.webelement.WebElement (session=\"78f1e403705c49c40f4c60bb1ed7ed2f\", element=\"ED6731C0C992FFDE85C1483F29FE813C_element_92\")>]"
      ]
     },
     "execution_count": 110,
     "metadata": {},
     "output_type": "execute_result"
    }
   ],
   "source": [
    "# Find the table on the page\n",
    "table = WebDriverWait(driver, 10).until(\n",
    "    EC.presence_of_element_located((By.XPATH, '//*[@id=\"schedule\"]'))\n",
    ")\n",
    "table\n",
    "\n",
    "# Get table headers\n",
    "thead = table.find_element(By.TAG_NAME, 'thead')\n",
    "\n",
    "# Get the table body\n",
    "tbody = table.find_elements(By.TAG_NAME, 'tbody')\n",
    "\n",
    "\n",
    "# Get date from each row in the table body\n",
    "rows = [row.find_elements(By.TAG_NAME, 'tr') for row in tbody][0]\n",
    "rows\n"
   ]
  },
  {
   "cell_type": "code",
   "execution_count": null,
   "metadata": {},
   "outputs": [],
   "source": []
  }
 ],
 "metadata": {
  "kernelspec": {
   "display_name": "base",
   "language": "python",
   "name": "python3"
  },
  "language_info": {
   "codemirror_mode": {
    "name": "ipython",
    "version": 3
   },
   "file_extension": ".py",
   "mimetype": "text/x-python",
   "name": "python",
   "nbconvert_exporter": "python",
   "pygments_lexer": "ipython3",
   "version": "3.9.12"
  }
 },
 "nbformat": 4,
 "nbformat_minor": 2
}
