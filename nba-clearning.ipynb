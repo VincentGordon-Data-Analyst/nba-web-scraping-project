{
 "cells": [
  {
   "cell_type": "code",
   "execution_count": 20,
   "metadata": {},
   "outputs": [],
   "source": [
    "import pandas as pd\n",
    "import matplotlib.pyplot as plt\n",
    "import seaborn as sns"
   ]
  },
  {
   "cell_type": "code",
   "execution_count": 21,
   "metadata": {},
   "outputs": [
    {
     "data": {
      "text/html": [
       "<div>\n",
       "<style scoped>\n",
       "    .dataframe tbody tr th:only-of-type {\n",
       "        vertical-align: middle;\n",
       "    }\n",
       "\n",
       "    .dataframe tbody tr th {\n",
       "        vertical-align: top;\n",
       "    }\n",
       "\n",
       "    .dataframe thead th {\n",
       "        text-align: right;\n",
       "    }\n",
       "</style>\n",
       "<table border=\"1\" class=\"dataframe\">\n",
       "  <thead>\n",
       "    <tr style=\"text-align: right;\">\n",
       "      <th></th>\n",
       "      <th>#</th>\n",
       "      <th>PLAYER</th>\n",
       "      <th>TEAM</th>\n",
       "      <th>GP</th>\n",
       "      <th>MIN</th>\n",
       "      <th>PTS</th>\n",
       "      <th>FGM</th>\n",
       "      <th>FGA</th>\n",
       "      <th>FG%</th>\n",
       "      <th>3PM</th>\n",
       "      <th>...</th>\n",
       "      <th>FT%</th>\n",
       "      <th>OREB</th>\n",
       "      <th>DREB</th>\n",
       "      <th>REB</th>\n",
       "      <th>AST</th>\n",
       "      <th>STL</th>\n",
       "      <th>BLK</th>\n",
       "      <th>TOV</th>\n",
       "      <th>EFF</th>\n",
       "      <th>YEAR</th>\n",
       "    </tr>\n",
       "  </thead>\n",
       "  <tbody>\n",
       "    <tr>\n",
       "      <th>0</th>\n",
       "      <td>2023-24</td>\n",
       "      <td>NaN</td>\n",
       "      <td>NaN</td>\n",
       "      <td>NaN</td>\n",
       "      <td>NaN</td>\n",
       "      <td>NaN</td>\n",
       "      <td>NaN</td>\n",
       "      <td>NaN</td>\n",
       "      <td>NaN</td>\n",
       "      <td>NaN</td>\n",
       "      <td>...</td>\n",
       "      <td>NaN</td>\n",
       "      <td>NaN</td>\n",
       "      <td>NaN</td>\n",
       "      <td>NaN</td>\n",
       "      <td>NaN</td>\n",
       "      <td>NaN</td>\n",
       "      <td>NaN</td>\n",
       "      <td>NaN</td>\n",
       "      <td>NaN</td>\n",
       "      <td>NaN</td>\n",
       "    </tr>\n",
       "    <tr>\n",
       "      <th>1</th>\n",
       "      <td>1</td>\n",
       "      <td>Luka Doncic</td>\n",
       "      <td>DAL</td>\n",
       "      <td>47.0</td>\n",
       "      <td>37.4</td>\n",
       "      <td>34.2</td>\n",
       "      <td>11.5</td>\n",
       "      <td>23.4</td>\n",
       "      <td>49.2</td>\n",
       "      <td>3.9</td>\n",
       "      <td>...</td>\n",
       "      <td>77.7</td>\n",
       "      <td>0.7</td>\n",
       "      <td>8.1</td>\n",
       "      <td>8.8</td>\n",
       "      <td>9.5</td>\n",
       "      <td>1.4</td>\n",
       "      <td>0.6</td>\n",
       "      <td>4.0</td>\n",
       "      <td>36.6</td>\n",
       "      <td>2023-24</td>\n",
       "    </tr>\n",
       "    <tr>\n",
       "      <th>2</th>\n",
       "      <td>2</td>\n",
       "      <td>Shai Gilgeous-Alexander</td>\n",
       "      <td>OKC</td>\n",
       "      <td>53.0</td>\n",
       "      <td>34.5</td>\n",
       "      <td>31.1</td>\n",
       "      <td>10.9</td>\n",
       "      <td>20.1</td>\n",
       "      <td>54.6</td>\n",
       "      <td>1.2</td>\n",
       "      <td>...</td>\n",
       "      <td>88.3</td>\n",
       "      <td>0.9</td>\n",
       "      <td>4.6</td>\n",
       "      <td>5.5</td>\n",
       "      <td>6.5</td>\n",
       "      <td>2.2</td>\n",
       "      <td>0.9</td>\n",
       "      <td>2.2</td>\n",
       "      <td>33.9</td>\n",
       "      <td>2023-24</td>\n",
       "    </tr>\n",
       "    <tr>\n",
       "      <th>3</th>\n",
       "      <td>3</td>\n",
       "      <td>Giannis Antetokounmpo</td>\n",
       "      <td>MIL</td>\n",
       "      <td>54.0</td>\n",
       "      <td>35.0</td>\n",
       "      <td>30.8</td>\n",
       "      <td>11.6</td>\n",
       "      <td>18.8</td>\n",
       "      <td>61.6</td>\n",
       "      <td>0.4</td>\n",
       "      <td>...</td>\n",
       "      <td>65.3</td>\n",
       "      <td>2.5</td>\n",
       "      <td>8.7</td>\n",
       "      <td>11.2</td>\n",
       "      <td>6.4</td>\n",
       "      <td>1.4</td>\n",
       "      <td>1.1</td>\n",
       "      <td>3.5</td>\n",
       "      <td>36.3</td>\n",
       "      <td>2023-24</td>\n",
       "    </tr>\n",
       "    <tr>\n",
       "      <th>4</th>\n",
       "      <td>4</td>\n",
       "      <td>Donovan Mitchell</td>\n",
       "      <td>CLE</td>\n",
       "      <td>44.0</td>\n",
       "      <td>35.5</td>\n",
       "      <td>28.4</td>\n",
       "      <td>9.9</td>\n",
       "      <td>20.9</td>\n",
       "      <td>47.3</td>\n",
       "      <td>3.3</td>\n",
       "      <td>...</td>\n",
       "      <td>86.4</td>\n",
       "      <td>1.0</td>\n",
       "      <td>4.5</td>\n",
       "      <td>5.4</td>\n",
       "      <td>6.3</td>\n",
       "      <td>1.9</td>\n",
       "      <td>0.5</td>\n",
       "      <td>2.8</td>\n",
       "      <td>27.9</td>\n",
       "      <td>2023-24</td>\n",
       "    </tr>\n",
       "    <tr>\n",
       "      <th>...</th>\n",
       "      <td>...</td>\n",
       "      <td>...</td>\n",
       "      <td>...</td>\n",
       "      <td>...</td>\n",
       "      <td>...</td>\n",
       "      <td>...</td>\n",
       "      <td>...</td>\n",
       "      <td>...</td>\n",
       "      <td>...</td>\n",
       "      <td>...</td>\n",
       "      <td>...</td>\n",
       "      <td>...</td>\n",
       "      <td>...</td>\n",
       "      <td>...</td>\n",
       "      <td>...</td>\n",
       "      <td>...</td>\n",
       "      <td>...</td>\n",
       "      <td>...</td>\n",
       "      <td>...</td>\n",
       "      <td>...</td>\n",
       "      <td>...</td>\n",
       "    </tr>\n",
       "    <tr>\n",
       "      <th>250</th>\n",
       "      <td>250</td>\n",
       "      <td>KJ Martin</td>\n",
       "      <td>PHI</td>\n",
       "      <td>40.0</td>\n",
       "      <td>11.2</td>\n",
       "      <td>3.4</td>\n",
       "      <td>1.5</td>\n",
       "      <td>2.7</td>\n",
       "      <td>54.6</td>\n",
       "      <td>0.1</td>\n",
       "      <td>...</td>\n",
       "      <td>50.0</td>\n",
       "      <td>0.4</td>\n",
       "      <td>1.2</td>\n",
       "      <td>1.6</td>\n",
       "      <td>0.7</td>\n",
       "      <td>0.4</td>\n",
       "      <td>0.1</td>\n",
       "      <td>0.5</td>\n",
       "      <td>4.1</td>\n",
       "      <td>2023-24</td>\n",
       "    </tr>\n",
       "    <tr>\n",
       "      <th>251</th>\n",
       "      <td>251</td>\n",
       "      <td>Zeke Nnaji</td>\n",
       "      <td>DEN</td>\n",
       "      <td>40.0</td>\n",
       "      <td>9.6</td>\n",
       "      <td>3.3</td>\n",
       "      <td>1.2</td>\n",
       "      <td>2.7</td>\n",
       "      <td>43.9</td>\n",
       "      <td>0.1</td>\n",
       "      <td>...</td>\n",
       "      <td>68.1</td>\n",
       "      <td>1.2</td>\n",
       "      <td>1.0</td>\n",
       "      <td>2.2</td>\n",
       "      <td>0.6</td>\n",
       "      <td>0.3</td>\n",
       "      <td>0.6</td>\n",
       "      <td>0.6</td>\n",
       "      <td>4.3</td>\n",
       "      <td>2023-24</td>\n",
       "    </tr>\n",
       "    <tr>\n",
       "      <th>252</th>\n",
       "      <td>252</td>\n",
       "      <td>Ish Smith</td>\n",
       "      <td>CHA</td>\n",
       "      <td>43.0</td>\n",
       "      <td>17.2</td>\n",
       "      <td>3.2</td>\n",
       "      <td>1.5</td>\n",
       "      <td>3.7</td>\n",
       "      <td>41.8</td>\n",
       "      <td>0.1</td>\n",
       "      <td>...</td>\n",
       "      <td>75.0</td>\n",
       "      <td>0.3</td>\n",
       "      <td>1.5</td>\n",
       "      <td>1.8</td>\n",
       "      <td>3.4</td>\n",
       "      <td>0.4</td>\n",
       "      <td>0.1</td>\n",
       "      <td>1.1</td>\n",
       "      <td>5.6</td>\n",
       "      <td>2023-24</td>\n",
       "    </tr>\n",
       "    <tr>\n",
       "      <th>253</th>\n",
       "      <td>253</td>\n",
       "      <td>JT Thor</td>\n",
       "      <td>CHA</td>\n",
       "      <td>43.0</td>\n",
       "      <td>13.4</td>\n",
       "      <td>3.0</td>\n",
       "      <td>1.2</td>\n",
       "      <td>3.2</td>\n",
       "      <td>36.7</td>\n",
       "      <td>0.4</td>\n",
       "      <td>...</td>\n",
       "      <td>53.8</td>\n",
       "      <td>0.9</td>\n",
       "      <td>1.6</td>\n",
       "      <td>2.5</td>\n",
       "      <td>0.4</td>\n",
       "      <td>0.2</td>\n",
       "      <td>0.4</td>\n",
       "      <td>0.3</td>\n",
       "      <td>4.0</td>\n",
       "      <td>2023-24</td>\n",
       "    </tr>\n",
       "    <tr>\n",
       "      <th>254</th>\n",
       "      <td>254</td>\n",
       "      <td>Andre Jackson Jr.</td>\n",
       "      <td>MIL</td>\n",
       "      <td>45.0</td>\n",
       "      <td>11.0</td>\n",
       "      <td>2.5</td>\n",
       "      <td>1.0</td>\n",
       "      <td>1.9</td>\n",
       "      <td>52.3</td>\n",
       "      <td>0.3</td>\n",
       "      <td>...</td>\n",
       "      <td>72.7</td>\n",
       "      <td>0.8</td>\n",
       "      <td>1.2</td>\n",
       "      <td>2.0</td>\n",
       "      <td>1.0</td>\n",
       "      <td>0.3</td>\n",
       "      <td>0.1</td>\n",
       "      <td>0.5</td>\n",
       "      <td>4.4</td>\n",
       "      <td>2023-24</td>\n",
       "    </tr>\n",
       "  </tbody>\n",
       "</table>\n",
       "<p>255 rows × 24 columns</p>\n",
       "</div>"
      ],
      "text/plain": [
       "           #                   PLAYER TEAM    GP   MIN   PTS   FGM   FGA  \\\n",
       "0    2023-24                      NaN  NaN   NaN   NaN   NaN   NaN   NaN   \n",
       "1          1              Luka Doncic  DAL  47.0  37.4  34.2  11.5  23.4   \n",
       "2          2  Shai Gilgeous-Alexander  OKC  53.0  34.5  31.1  10.9  20.1   \n",
       "3          3    Giannis Antetokounmpo  MIL  54.0  35.0  30.8  11.6  18.8   \n",
       "4          4         Donovan Mitchell  CLE  44.0  35.5  28.4   9.9  20.9   \n",
       "..       ...                      ...  ...   ...   ...   ...   ...   ...   \n",
       "250      250                KJ Martin  PHI  40.0  11.2   3.4   1.5   2.7   \n",
       "251      251               Zeke Nnaji  DEN  40.0   9.6   3.3   1.2   2.7   \n",
       "252      252                Ish Smith  CHA  43.0  17.2   3.2   1.5   3.7   \n",
       "253      253                  JT Thor  CHA  43.0  13.4   3.0   1.2   3.2   \n",
       "254      254        Andre Jackson Jr.  MIL  45.0  11.0   2.5   1.0   1.9   \n",
       "\n",
       "      FG%  3PM  ...   FT%  OREB  DREB   REB  AST  STL  BLK  TOV   EFF     YEAR  \n",
       "0     NaN  NaN  ...   NaN   NaN   NaN   NaN  NaN  NaN  NaN  NaN   NaN      NaN  \n",
       "1    49.2  3.9  ...  77.7   0.7   8.1   8.8  9.5  1.4  0.6  4.0  36.6  2023-24  \n",
       "2    54.6  1.2  ...  88.3   0.9   4.6   5.5  6.5  2.2  0.9  2.2  33.9  2023-24  \n",
       "3    61.6  0.4  ...  65.3   2.5   8.7  11.2  6.4  1.4  1.1  3.5  36.3  2023-24  \n",
       "4    47.3  3.3  ...  86.4   1.0   4.5   5.4  6.3  1.9  0.5  2.8  27.9  2023-24  \n",
       "..    ...  ...  ...   ...   ...   ...   ...  ...  ...  ...  ...   ...      ...  \n",
       "250  54.6  0.1  ...  50.0   0.4   1.2   1.6  0.7  0.4  0.1  0.5   4.1  2023-24  \n",
       "251  43.9  0.1  ...  68.1   1.2   1.0   2.2  0.6  0.3  0.6  0.6   4.3  2023-24  \n",
       "252  41.8  0.1  ...  75.0   0.3   1.5   1.8  3.4  0.4  0.1  1.1   5.6  2023-24  \n",
       "253  36.7  0.4  ...  53.8   0.9   1.6   2.5  0.4  0.2  0.4  0.3   4.0  2023-24  \n",
       "254  52.3  0.3  ...  72.7   0.8   1.2   2.0  1.0  0.3  0.1  0.5   4.4  2023-24  \n",
       "\n",
       "[255 rows x 24 columns]"
      ]
     },
     "execution_count": 21,
     "metadata": {},
     "output_type": "execute_result"
    }
   ],
   "source": [
    "df = pd.read_csv('./nba_scraped_data.csv')\n",
    "df"
   ]
  },
  {
   "cell_type": "code",
   "execution_count": 22,
   "metadata": {},
   "outputs": [
    {
     "name": "stdout",
     "output_type": "stream",
     "text": [
      "<class 'pandas.core.frame.DataFrame'>\n",
      "RangeIndex: 255 entries, 0 to 254\n",
      "Data columns (total 24 columns):\n",
      " #   Column  Non-Null Count  Dtype  \n",
      "---  ------  --------------  -----  \n",
      " 0   #       255 non-null    object \n",
      " 1   PLAYER  254 non-null    object \n",
      " 2   TEAM    254 non-null    object \n",
      " 3   GP      254 non-null    float64\n",
      " 4   MIN     254 non-null    float64\n",
      " 5   PTS     254 non-null    float64\n",
      " 6   FGM     254 non-null    float64\n",
      " 7   FGA     254 non-null    float64\n",
      " 8   FG%     254 non-null    float64\n",
      " 9   3PM     254 non-null    float64\n",
      " 10  3PA     254 non-null    float64\n",
      " 11  3P%     254 non-null    float64\n",
      " 12  FTM     254 non-null    float64\n",
      " 13  FTA     254 non-null    float64\n",
      " 14  FT%     254 non-null    float64\n",
      " 15  OREB    254 non-null    float64\n",
      " 16  DREB    254 non-null    float64\n",
      " 17  REB     254 non-null    float64\n",
      " 18  AST     254 non-null    float64\n",
      " 19  STL     254 non-null    float64\n",
      " 20  BLK     254 non-null    float64\n",
      " 21  TOV     254 non-null    float64\n",
      " 22  EFF     254 non-null    float64\n",
      " 23  YEAR    254 non-null    object \n",
      "dtypes: float64(20), object(4)\n",
      "memory usage: 47.9+ KB\n"
     ]
    }
   ],
   "source": [
    "df.info()"
   ]
  },
  {
   "cell_type": "markdown",
   "metadata": {},
   "source": [
    "# Data Cleaning"
   ]
  },
  {
   "cell_type": "code",
   "execution_count": 23,
   "metadata": {},
   "outputs": [],
   "source": [
    "# Drop rows that have 'NaN' values and '#' column\n",
    "df = df.dropna()\n",
    "df = df.drop('#', axis=1)"
   ]
  },
  {
   "cell_type": "code",
   "execution_count": 24,
   "metadata": {},
   "outputs": [
    {
     "data": {
      "text/html": [
       "<div>\n",
       "<style scoped>\n",
       "    .dataframe tbody tr th:only-of-type {\n",
       "        vertical-align: middle;\n",
       "    }\n",
       "\n",
       "    .dataframe tbody tr th {\n",
       "        vertical-align: top;\n",
       "    }\n",
       "\n",
       "    .dataframe thead th {\n",
       "        text-align: right;\n",
       "    }\n",
       "</style>\n",
       "<table border=\"1\" class=\"dataframe\">\n",
       "  <thead>\n",
       "    <tr style=\"text-align: right;\">\n",
       "      <th></th>\n",
       "      <th>YEAR</th>\n",
       "      <th>PLAYER</th>\n",
       "      <th>TEAM</th>\n",
       "      <th>GP</th>\n",
       "      <th>MIN</th>\n",
       "      <th>PTS</th>\n",
       "      <th>FGM</th>\n",
       "      <th>FGA</th>\n",
       "      <th>FG%</th>\n",
       "      <th>3PM</th>\n",
       "      <th>...</th>\n",
       "      <th>FTA</th>\n",
       "      <th>FT%</th>\n",
       "      <th>OREB</th>\n",
       "      <th>DREB</th>\n",
       "      <th>REB</th>\n",
       "      <th>AST</th>\n",
       "      <th>STL</th>\n",
       "      <th>BLK</th>\n",
       "      <th>TOV</th>\n",
       "      <th>EFF</th>\n",
       "    </tr>\n",
       "  </thead>\n",
       "  <tbody>\n",
       "    <tr>\n",
       "      <th>1</th>\n",
       "      <td>2023-24</td>\n",
       "      <td>Luka Doncic</td>\n",
       "      <td>DAL</td>\n",
       "      <td>47.0</td>\n",
       "      <td>37.4</td>\n",
       "      <td>34.2</td>\n",
       "      <td>11.5</td>\n",
       "      <td>23.4</td>\n",
       "      <td>49.2</td>\n",
       "      <td>3.9</td>\n",
       "      <td>...</td>\n",
       "      <td>9.3</td>\n",
       "      <td>77.7</td>\n",
       "      <td>0.7</td>\n",
       "      <td>8.1</td>\n",
       "      <td>8.8</td>\n",
       "      <td>9.5</td>\n",
       "      <td>1.4</td>\n",
       "      <td>0.6</td>\n",
       "      <td>4.0</td>\n",
       "      <td>36.6</td>\n",
       "    </tr>\n",
       "    <tr>\n",
       "      <th>2</th>\n",
       "      <td>2023-24</td>\n",
       "      <td>Shai Gilgeous-Alexander</td>\n",
       "      <td>OKC</td>\n",
       "      <td>53.0</td>\n",
       "      <td>34.5</td>\n",
       "      <td>31.1</td>\n",
       "      <td>10.9</td>\n",
       "      <td>20.1</td>\n",
       "      <td>54.6</td>\n",
       "      <td>1.2</td>\n",
       "      <td>...</td>\n",
       "      <td>9.1</td>\n",
       "      <td>88.3</td>\n",
       "      <td>0.9</td>\n",
       "      <td>4.6</td>\n",
       "      <td>5.5</td>\n",
       "      <td>6.5</td>\n",
       "      <td>2.2</td>\n",
       "      <td>0.9</td>\n",
       "      <td>2.2</td>\n",
       "      <td>33.9</td>\n",
       "    </tr>\n",
       "    <tr>\n",
       "      <th>3</th>\n",
       "      <td>2023-24</td>\n",
       "      <td>Giannis Antetokounmpo</td>\n",
       "      <td>MIL</td>\n",
       "      <td>54.0</td>\n",
       "      <td>35.0</td>\n",
       "      <td>30.8</td>\n",
       "      <td>11.6</td>\n",
       "      <td>18.8</td>\n",
       "      <td>61.6</td>\n",
       "      <td>0.4</td>\n",
       "      <td>...</td>\n",
       "      <td>10.9</td>\n",
       "      <td>65.3</td>\n",
       "      <td>2.5</td>\n",
       "      <td>8.7</td>\n",
       "      <td>11.2</td>\n",
       "      <td>6.4</td>\n",
       "      <td>1.4</td>\n",
       "      <td>1.1</td>\n",
       "      <td>3.5</td>\n",
       "      <td>36.3</td>\n",
       "    </tr>\n",
       "    <tr>\n",
       "      <th>4</th>\n",
       "      <td>2023-24</td>\n",
       "      <td>Donovan Mitchell</td>\n",
       "      <td>CLE</td>\n",
       "      <td>44.0</td>\n",
       "      <td>35.5</td>\n",
       "      <td>28.4</td>\n",
       "      <td>9.9</td>\n",
       "      <td>20.9</td>\n",
       "      <td>47.3</td>\n",
       "      <td>3.3</td>\n",
       "      <td>...</td>\n",
       "      <td>6.2</td>\n",
       "      <td>86.4</td>\n",
       "      <td>1.0</td>\n",
       "      <td>4.5</td>\n",
       "      <td>5.4</td>\n",
       "      <td>6.3</td>\n",
       "      <td>1.9</td>\n",
       "      <td>0.5</td>\n",
       "      <td>2.8</td>\n",
       "      <td>27.9</td>\n",
       "    </tr>\n",
       "    <tr>\n",
       "      <th>5</th>\n",
       "      <td>2023-24</td>\n",
       "      <td>Kevin Durant</td>\n",
       "      <td>PHX</td>\n",
       "      <td>48.0</td>\n",
       "      <td>37.0</td>\n",
       "      <td>28.2</td>\n",
       "      <td>10.2</td>\n",
       "      <td>19.0</td>\n",
       "      <td>53.8</td>\n",
       "      <td>2.3</td>\n",
       "      <td>...</td>\n",
       "      <td>6.3</td>\n",
       "      <td>87.1</td>\n",
       "      <td>0.5</td>\n",
       "      <td>6.1</td>\n",
       "      <td>6.6</td>\n",
       "      <td>5.7</td>\n",
       "      <td>0.9</td>\n",
       "      <td>1.3</td>\n",
       "      <td>3.2</td>\n",
       "      <td>29.9</td>\n",
       "    </tr>\n",
       "  </tbody>\n",
       "</table>\n",
       "<p>5 rows × 23 columns</p>\n",
       "</div>"
      ],
      "text/plain": [
       "      YEAR                   PLAYER TEAM    GP   MIN   PTS   FGM   FGA   FG%  \\\n",
       "1  2023-24              Luka Doncic  DAL  47.0  37.4  34.2  11.5  23.4  49.2   \n",
       "2  2023-24  Shai Gilgeous-Alexander  OKC  53.0  34.5  31.1  10.9  20.1  54.6   \n",
       "3  2023-24    Giannis Antetokounmpo  MIL  54.0  35.0  30.8  11.6  18.8  61.6   \n",
       "4  2023-24         Donovan Mitchell  CLE  44.0  35.5  28.4   9.9  20.9  47.3   \n",
       "5  2023-24             Kevin Durant  PHX  48.0  37.0  28.2  10.2  19.0  53.8   \n",
       "\n",
       "   3PM  ...   FTA   FT%  OREB  DREB   REB  AST  STL  BLK  TOV   EFF  \n",
       "1  3.9  ...   9.3  77.7   0.7   8.1   8.8  9.5  1.4  0.6  4.0  36.6  \n",
       "2  1.2  ...   9.1  88.3   0.9   4.6   5.5  6.5  2.2  0.9  2.2  33.9  \n",
       "3  0.4  ...  10.9  65.3   2.5   8.7  11.2  6.4  1.4  1.1  3.5  36.3  \n",
       "4  3.3  ...   6.2  86.4   1.0   4.5   5.4  6.3  1.9  0.5  2.8  27.9  \n",
       "5  2.3  ...   6.3  87.1   0.5   6.1   6.6  5.7  0.9  1.3  3.2  29.9  \n",
       "\n",
       "[5 rows x 23 columns]"
      ]
     },
     "execution_count": 24,
     "metadata": {},
     "output_type": "execute_result"
    }
   ],
   "source": [
    "# Create a rearranged list \n",
    "arrange_columns = ['YEAR', 'PLAYER', 'TEAM', 'GP', 'MIN', 'PTS', 'FGM', 'FGA', 'FG%', '3PM', '3PA',\n",
    "       '3P%', 'FTM', 'FTA', 'FT%', 'OREB', 'DREB', 'REB', 'AST', 'STL', 'BLK',\n",
    "       'TOV', 'EFF']\n",
    "\n",
    "# Set dataframe to new columns\n",
    "df = df[arrange_columns]\n",
    "\n",
    "df.head()"
   ]
  },
  {
   "cell_type": "code",
   "execution_count": 25,
   "metadata": {},
   "outputs": [
    {
     "name": "stdout",
     "output_type": "stream",
     "text": [
      "<class 'pandas.core.frame.DataFrame'>\n",
      "Int64Index: 254 entries, 1 to 254\n",
      "Data columns (total 23 columns):\n",
      " #   Column  Non-Null Count  Dtype  \n",
      "---  ------  --------------  -----  \n",
      " 0   YEAR    254 non-null    object \n",
      " 1   PLAYER  254 non-null    object \n",
      " 2   TEAM    254 non-null    object \n",
      " 3   GP      254 non-null    float64\n",
      " 4   MIN     254 non-null    float64\n",
      " 5   PTS     254 non-null    float64\n",
      " 6   FGM     254 non-null    float64\n",
      " 7   FGA     254 non-null    float64\n",
      " 8   FG%     254 non-null    float64\n",
      " 9   3PM     254 non-null    float64\n",
      " 10  3PA     254 non-null    float64\n",
      " 11  3P%     254 non-null    float64\n",
      " 12  FTM     254 non-null    float64\n",
      " 13  FTA     254 non-null    float64\n",
      " 14  FT%     254 non-null    float64\n",
      " 15  OREB    254 non-null    float64\n",
      " 16  DREB    254 non-null    float64\n",
      " 17  REB     254 non-null    float64\n",
      " 18  AST     254 non-null    float64\n",
      " 19  STL     254 non-null    float64\n",
      " 20  BLK     254 non-null    float64\n",
      " 21  TOV     254 non-null    float64\n",
      " 22  EFF     254 non-null    float64\n",
      "dtypes: float64(20), object(3)\n",
      "memory usage: 47.6+ KB\n"
     ]
    }
   ],
   "source": [
    "# Show the change\n",
    "df.info()"
   ]
  },
  {
   "cell_type": "code",
   "execution_count": 27,
   "metadata": {},
   "outputs": [
    {
     "data": {
      "text/html": [
       "<div>\n",
       "<style scoped>\n",
       "    .dataframe tbody tr th:only-of-type {\n",
       "        vertical-align: middle;\n",
       "    }\n",
       "\n",
       "    .dataframe tbody tr th {\n",
       "        vertical-align: top;\n",
       "    }\n",
       "\n",
       "    .dataframe thead th {\n",
       "        text-align: right;\n",
       "    }\n",
       "</style>\n",
       "<table border=\"1\" class=\"dataframe\">\n",
       "  <thead>\n",
       "    <tr style=\"text-align: right;\">\n",
       "      <th></th>\n",
       "      <th>YEAR</th>\n",
       "      <th>PLAYER</th>\n",
       "      <th>TEAM</th>\n",
       "      <th>GP</th>\n",
       "      <th>MIN</th>\n",
       "      <th>PTS</th>\n",
       "      <th>FGM</th>\n",
       "      <th>FGA</th>\n",
       "      <th>FG%</th>\n",
       "      <th>3PM</th>\n",
       "      <th>...</th>\n",
       "      <th>FTA</th>\n",
       "      <th>FT%</th>\n",
       "      <th>OREB</th>\n",
       "      <th>DREB</th>\n",
       "      <th>REB</th>\n",
       "      <th>AST</th>\n",
       "      <th>STL</th>\n",
       "      <th>BLK</th>\n",
       "      <th>TOV</th>\n",
       "      <th>EFF</th>\n",
       "    </tr>\n",
       "  </thead>\n",
       "  <tbody>\n",
       "    <tr>\n",
       "      <th>11</th>\n",
       "      <td>2023-24</td>\n",
       "      <td>Trae Young</td>\n",
       "      <td>ATL</td>\n",
       "      <td>50.0</td>\n",
       "      <td>36.5</td>\n",
       "      <td>26.7</td>\n",
       "      <td>8.3</td>\n",
       "      <td>19.4</td>\n",
       "      <td>42.7</td>\n",
       "      <td>3.3</td>\n",
       "      <td>...</td>\n",
       "      <td>7.9</td>\n",
       "      <td>85.8</td>\n",
       "      <td>0.4</td>\n",
       "      <td>2.3</td>\n",
       "      <td>2.7</td>\n",
       "      <td>10.9</td>\n",
       "      <td>1.4</td>\n",
       "      <td>0.2</td>\n",
       "      <td>4.3</td>\n",
       "      <td>25.4</td>\n",
       "    </tr>\n",
       "    <tr>\n",
       "      <th>1</th>\n",
       "      <td>2023-24</td>\n",
       "      <td>Luka Doncic</td>\n",
       "      <td>DAL</td>\n",
       "      <td>47.0</td>\n",
       "      <td>37.4</td>\n",
       "      <td>34.2</td>\n",
       "      <td>11.5</td>\n",
       "      <td>23.4</td>\n",
       "      <td>49.2</td>\n",
       "      <td>3.9</td>\n",
       "      <td>...</td>\n",
       "      <td>9.3</td>\n",
       "      <td>77.7</td>\n",
       "      <td>0.7</td>\n",
       "      <td>8.1</td>\n",
       "      <td>8.8</td>\n",
       "      <td>9.5</td>\n",
       "      <td>1.4</td>\n",
       "      <td>0.6</td>\n",
       "      <td>4.0</td>\n",
       "      <td>36.6</td>\n",
       "    </tr>\n",
       "    <tr>\n",
       "      <th>13</th>\n",
       "      <td>2023-24</td>\n",
       "      <td>Nikola Jokic</td>\n",
       "      <td>DEN</td>\n",
       "      <td>53.0</td>\n",
       "      <td>33.8</td>\n",
       "      <td>26.1</td>\n",
       "      <td>10.2</td>\n",
       "      <td>17.7</td>\n",
       "      <td>57.7</td>\n",
       "      <td>1.1</td>\n",
       "      <td>...</td>\n",
       "      <td>5.7</td>\n",
       "      <td>81.3</td>\n",
       "      <td>3.0</td>\n",
       "      <td>9.1</td>\n",
       "      <td>12.0</td>\n",
       "      <td>8.9</td>\n",
       "      <td>1.2</td>\n",
       "      <td>0.9</td>\n",
       "      <td>2.9</td>\n",
       "      <td>37.6</td>\n",
       "    </tr>\n",
       "    <tr>\n",
       "      <th>16</th>\n",
       "      <td>2023-24</td>\n",
       "      <td>LeBron James</td>\n",
       "      <td>LAL</td>\n",
       "      <td>49.0</td>\n",
       "      <td>34.9</td>\n",
       "      <td>24.8</td>\n",
       "      <td>9.3</td>\n",
       "      <td>17.9</td>\n",
       "      <td>52.0</td>\n",
       "      <td>2.1</td>\n",
       "      <td>...</td>\n",
       "      <td>5.5</td>\n",
       "      <td>74.1</td>\n",
       "      <td>0.9</td>\n",
       "      <td>6.3</td>\n",
       "      <td>7.2</td>\n",
       "      <td>7.8</td>\n",
       "      <td>1.3</td>\n",
       "      <td>0.6</td>\n",
       "      <td>3.2</td>\n",
       "      <td>28.3</td>\n",
       "    </tr>\n",
       "    <tr>\n",
       "      <th>8</th>\n",
       "      <td>2023-24</td>\n",
       "      <td>Devin Booker</td>\n",
       "      <td>PHX</td>\n",
       "      <td>45.0</td>\n",
       "      <td>35.5</td>\n",
       "      <td>27.5</td>\n",
       "      <td>9.6</td>\n",
       "      <td>19.2</td>\n",
       "      <td>50.0</td>\n",
       "      <td>2.2</td>\n",
       "      <td>...</td>\n",
       "      <td>7.0</td>\n",
       "      <td>87.0</td>\n",
       "      <td>0.7</td>\n",
       "      <td>3.9</td>\n",
       "      <td>4.6</td>\n",
       "      <td>7.0</td>\n",
       "      <td>0.9</td>\n",
       "      <td>0.4</td>\n",
       "      <td>2.6</td>\n",
       "      <td>27.4</td>\n",
       "    </tr>\n",
       "    <tr>\n",
       "      <th>2</th>\n",
       "      <td>2023-24</td>\n",
       "      <td>Shai Gilgeous-Alexander</td>\n",
       "      <td>OKC</td>\n",
       "      <td>53.0</td>\n",
       "      <td>34.5</td>\n",
       "      <td>31.1</td>\n",
       "      <td>10.9</td>\n",
       "      <td>20.1</td>\n",
       "      <td>54.6</td>\n",
       "      <td>1.2</td>\n",
       "      <td>...</td>\n",
       "      <td>9.1</td>\n",
       "      <td>88.3</td>\n",
       "      <td>0.9</td>\n",
       "      <td>4.6</td>\n",
       "      <td>5.5</td>\n",
       "      <td>6.5</td>\n",
       "      <td>2.2</td>\n",
       "      <td>0.9</td>\n",
       "      <td>2.2</td>\n",
       "      <td>33.9</td>\n",
       "    </tr>\n",
       "    <tr>\n",
       "      <th>7</th>\n",
       "      <td>2023-24</td>\n",
       "      <td>Jalen Brunson</td>\n",
       "      <td>NYK</td>\n",
       "      <td>52.0</td>\n",
       "      <td>35.9</td>\n",
       "      <td>27.6</td>\n",
       "      <td>9.8</td>\n",
       "      <td>20.4</td>\n",
       "      <td>48.3</td>\n",
       "      <td>2.7</td>\n",
       "      <td>...</td>\n",
       "      <td>6.3</td>\n",
       "      <td>83.5</td>\n",
       "      <td>0.6</td>\n",
       "      <td>3.3</td>\n",
       "      <td>3.8</td>\n",
       "      <td>6.5</td>\n",
       "      <td>0.9</td>\n",
       "      <td>0.2</td>\n",
       "      <td>2.4</td>\n",
       "      <td>25.0</td>\n",
       "    </tr>\n",
       "    <tr>\n",
       "      <th>3</th>\n",
       "      <td>2023-24</td>\n",
       "      <td>Giannis Antetokounmpo</td>\n",
       "      <td>MIL</td>\n",
       "      <td>54.0</td>\n",
       "      <td>35.0</td>\n",
       "      <td>30.8</td>\n",
       "      <td>11.6</td>\n",
       "      <td>18.8</td>\n",
       "      <td>61.6</td>\n",
       "      <td>0.4</td>\n",
       "      <td>...</td>\n",
       "      <td>10.9</td>\n",
       "      <td>65.3</td>\n",
       "      <td>2.5</td>\n",
       "      <td>8.7</td>\n",
       "      <td>11.2</td>\n",
       "      <td>6.4</td>\n",
       "      <td>1.4</td>\n",
       "      <td>1.1</td>\n",
       "      <td>3.5</td>\n",
       "      <td>36.3</td>\n",
       "    </tr>\n",
       "    <tr>\n",
       "      <th>14</th>\n",
       "      <td>2023-24</td>\n",
       "      <td>Tyrese Maxey</td>\n",
       "      <td>PHI</td>\n",
       "      <td>49.0</td>\n",
       "      <td>37.2</td>\n",
       "      <td>25.7</td>\n",
       "      <td>8.9</td>\n",
       "      <td>19.9</td>\n",
       "      <td>44.9</td>\n",
       "      <td>3.0</td>\n",
       "      <td>...</td>\n",
       "      <td>5.6</td>\n",
       "      <td>85.4</td>\n",
       "      <td>0.6</td>\n",
       "      <td>3.1</td>\n",
       "      <td>3.7</td>\n",
       "      <td>6.4</td>\n",
       "      <td>1.0</td>\n",
       "      <td>0.5</td>\n",
       "      <td>1.7</td>\n",
       "      <td>23.8</td>\n",
       "    </tr>\n",
       "    <tr>\n",
       "      <th>4</th>\n",
       "      <td>2023-24</td>\n",
       "      <td>Donovan Mitchell</td>\n",
       "      <td>CLE</td>\n",
       "      <td>44.0</td>\n",
       "      <td>35.5</td>\n",
       "      <td>28.4</td>\n",
       "      <td>9.9</td>\n",
       "      <td>20.9</td>\n",
       "      <td>47.3</td>\n",
       "      <td>3.3</td>\n",
       "      <td>...</td>\n",
       "      <td>6.2</td>\n",
       "      <td>86.4</td>\n",
       "      <td>1.0</td>\n",
       "      <td>4.5</td>\n",
       "      <td>5.4</td>\n",
       "      <td>6.3</td>\n",
       "      <td>1.9</td>\n",
       "      <td>0.5</td>\n",
       "      <td>2.8</td>\n",
       "      <td>27.9</td>\n",
       "    </tr>\n",
       "  </tbody>\n",
       "</table>\n",
       "<p>10 rows × 23 columns</p>\n",
       "</div>"
      ],
      "text/plain": [
       "       YEAR                   PLAYER TEAM    GP   MIN   PTS   FGM   FGA   FG%  \\\n",
       "11  2023-24               Trae Young  ATL  50.0  36.5  26.7   8.3  19.4  42.7   \n",
       "1   2023-24              Luka Doncic  DAL  47.0  37.4  34.2  11.5  23.4  49.2   \n",
       "13  2023-24             Nikola Jokic  DEN  53.0  33.8  26.1  10.2  17.7  57.7   \n",
       "16  2023-24             LeBron James  LAL  49.0  34.9  24.8   9.3  17.9  52.0   \n",
       "8   2023-24             Devin Booker  PHX  45.0  35.5  27.5   9.6  19.2  50.0   \n",
       "2   2023-24  Shai Gilgeous-Alexander  OKC  53.0  34.5  31.1  10.9  20.1  54.6   \n",
       "7   2023-24            Jalen Brunson  NYK  52.0  35.9  27.6   9.8  20.4  48.3   \n",
       "3   2023-24    Giannis Antetokounmpo  MIL  54.0  35.0  30.8  11.6  18.8  61.6   \n",
       "14  2023-24             Tyrese Maxey  PHI  49.0  37.2  25.7   8.9  19.9  44.9   \n",
       "4   2023-24         Donovan Mitchell  CLE  44.0  35.5  28.4   9.9  20.9  47.3   \n",
       "\n",
       "    3PM  ...   FTA   FT%  OREB  DREB   REB   AST  STL  BLK  TOV   EFF  \n",
       "11  3.3  ...   7.9  85.8   0.4   2.3   2.7  10.9  1.4  0.2  4.3  25.4  \n",
       "1   3.9  ...   9.3  77.7   0.7   8.1   8.8   9.5  1.4  0.6  4.0  36.6  \n",
       "13  1.1  ...   5.7  81.3   3.0   9.1  12.0   8.9  1.2  0.9  2.9  37.6  \n",
       "16  2.1  ...   5.5  74.1   0.9   6.3   7.2   7.8  1.3  0.6  3.2  28.3  \n",
       "8   2.2  ...   7.0  87.0   0.7   3.9   4.6   7.0  0.9  0.4  2.6  27.4  \n",
       "2   1.2  ...   9.1  88.3   0.9   4.6   5.5   6.5  2.2  0.9  2.2  33.9  \n",
       "7   2.7  ...   6.3  83.5   0.6   3.3   3.8   6.5  0.9  0.2  2.4  25.0  \n",
       "3   0.4  ...  10.9  65.3   2.5   8.7  11.2   6.4  1.4  1.1  3.5  36.3  \n",
       "14  3.0  ...   5.6  85.4   0.6   3.1   3.7   6.4  1.0  0.5  1.7  23.8  \n",
       "4   3.3  ...   6.2  86.4   1.0   4.5   5.4   6.3  1.9  0.5  2.8  27.9  \n",
       "\n",
       "[10 rows x 23 columns]"
      ]
     },
     "execution_count": 27,
     "metadata": {},
     "output_type": "execute_result"
    }
   ],
   "source": [
    "# Find the top 10 players with the most assists the of the 2023-24 season\n",
    "assists_df = df.loc[df['AST'] >=6].head(10)\n",
    "assists_df.sort_values(by='AST', ascending=False, inplace=True)\n",
    "assists_df"
   ]
  },
  {
   "cell_type": "code",
   "execution_count": 28,
   "metadata": {},
   "outputs": [
    {
     "data": {
      "text/html": [
       "<div>\n",
       "<style scoped>\n",
       "    .dataframe tbody tr th:only-of-type {\n",
       "        vertical-align: middle;\n",
       "    }\n",
       "\n",
       "    .dataframe tbody tr th {\n",
       "        vertical-align: top;\n",
       "    }\n",
       "\n",
       "    .dataframe thead th {\n",
       "        text-align: right;\n",
       "    }\n",
       "</style>\n",
       "<table border=\"1\" class=\"dataframe\">\n",
       "  <thead>\n",
       "    <tr style=\"text-align: right;\">\n",
       "      <th></th>\n",
       "      <th>YEAR</th>\n",
       "      <th>PLAYER</th>\n",
       "      <th>TEAM</th>\n",
       "      <th>GP</th>\n",
       "      <th>MIN</th>\n",
       "      <th>PTS</th>\n",
       "      <th>FGM</th>\n",
       "      <th>FGA</th>\n",
       "      <th>FG%</th>\n",
       "      <th>3PM</th>\n",
       "      <th>...</th>\n",
       "      <th>FTA</th>\n",
       "      <th>FT%</th>\n",
       "      <th>OREB</th>\n",
       "      <th>DREB</th>\n",
       "      <th>REB</th>\n",
       "      <th>AST</th>\n",
       "      <th>STL</th>\n",
       "      <th>BLK</th>\n",
       "      <th>TOV</th>\n",
       "      <th>EFF</th>\n",
       "    </tr>\n",
       "  </thead>\n",
       "  <tbody>\n",
       "    <tr>\n",
       "      <th>15</th>\n",
       "      <td>2023-24</td>\n",
       "      <td>Anthony Davis</td>\n",
       "      <td>LAL</td>\n",
       "      <td>52.0</td>\n",
       "      <td>35.7</td>\n",
       "      <td>24.9</td>\n",
       "      <td>9.5</td>\n",
       "      <td>17.2</td>\n",
       "      <td>55.3</td>\n",
       "      <td>0.4</td>\n",
       "      <td>...</td>\n",
       "      <td>6.9</td>\n",
       "      <td>81.0</td>\n",
       "      <td>3.0</td>\n",
       "      <td>9.1</td>\n",
       "      <td>12.2</td>\n",
       "      <td>3.8</td>\n",
       "      <td>1.1</td>\n",
       "      <td>2.5</td>\n",
       "      <td>2.1</td>\n",
       "      <td>33.4</td>\n",
       "    </tr>\n",
       "    <tr>\n",
       "      <th>13</th>\n",
       "      <td>2023-24</td>\n",
       "      <td>Nikola Jokic</td>\n",
       "      <td>DEN</td>\n",
       "      <td>53.0</td>\n",
       "      <td>33.8</td>\n",
       "      <td>26.1</td>\n",
       "      <td>10.2</td>\n",
       "      <td>17.7</td>\n",
       "      <td>57.7</td>\n",
       "      <td>1.1</td>\n",
       "      <td>...</td>\n",
       "      <td>5.7</td>\n",
       "      <td>81.3</td>\n",
       "      <td>3.0</td>\n",
       "      <td>9.1</td>\n",
       "      <td>12.0</td>\n",
       "      <td>8.9</td>\n",
       "      <td>1.2</td>\n",
       "      <td>0.9</td>\n",
       "      <td>2.9</td>\n",
       "      <td>37.6</td>\n",
       "    </tr>\n",
       "    <tr>\n",
       "      <th>3</th>\n",
       "      <td>2023-24</td>\n",
       "      <td>Giannis Antetokounmpo</td>\n",
       "      <td>MIL</td>\n",
       "      <td>54.0</td>\n",
       "      <td>35.0</td>\n",
       "      <td>30.8</td>\n",
       "      <td>11.6</td>\n",
       "      <td>18.8</td>\n",
       "      <td>61.6</td>\n",
       "      <td>0.4</td>\n",
       "      <td>...</td>\n",
       "      <td>10.9</td>\n",
       "      <td>65.3</td>\n",
       "      <td>2.5</td>\n",
       "      <td>8.7</td>\n",
       "      <td>11.2</td>\n",
       "      <td>6.4</td>\n",
       "      <td>1.4</td>\n",
       "      <td>1.1</td>\n",
       "      <td>3.5</td>\n",
       "      <td>36.3</td>\n",
       "    </tr>\n",
       "    <tr>\n",
       "      <th>19</th>\n",
       "      <td>2023-24</td>\n",
       "      <td>Julius Randle</td>\n",
       "      <td>NYK</td>\n",
       "      <td>46.0</td>\n",
       "      <td>35.4</td>\n",
       "      <td>24.0</td>\n",
       "      <td>8.6</td>\n",
       "      <td>18.2</td>\n",
       "      <td>47.2</td>\n",
       "      <td>1.7</td>\n",
       "      <td>...</td>\n",
       "      <td>6.6</td>\n",
       "      <td>78.1</td>\n",
       "      <td>2.2</td>\n",
       "      <td>7.0</td>\n",
       "      <td>9.2</td>\n",
       "      <td>5.0</td>\n",
       "      <td>0.5</td>\n",
       "      <td>0.3</td>\n",
       "      <td>3.5</td>\n",
       "      <td>24.5</td>\n",
       "    </tr>\n",
       "    <tr>\n",
       "      <th>1</th>\n",
       "      <td>2023-24</td>\n",
       "      <td>Luka Doncic</td>\n",
       "      <td>DAL</td>\n",
       "      <td>47.0</td>\n",
       "      <td>37.4</td>\n",
       "      <td>34.2</td>\n",
       "      <td>11.5</td>\n",
       "      <td>23.4</td>\n",
       "      <td>49.2</td>\n",
       "      <td>3.9</td>\n",
       "      <td>...</td>\n",
       "      <td>9.3</td>\n",
       "      <td>77.7</td>\n",
       "      <td>0.7</td>\n",
       "      <td>8.1</td>\n",
       "      <td>8.8</td>\n",
       "      <td>9.5</td>\n",
       "      <td>1.4</td>\n",
       "      <td>0.6</td>\n",
       "      <td>4.0</td>\n",
       "      <td>36.6</td>\n",
       "    </tr>\n",
       "    <tr>\n",
       "      <th>9</th>\n",
       "      <td>2023-24</td>\n",
       "      <td>Jayson Tatum</td>\n",
       "      <td>BOS</td>\n",
       "      <td>52.0</td>\n",
       "      <td>35.8</td>\n",
       "      <td>27.1</td>\n",
       "      <td>9.3</td>\n",
       "      <td>19.5</td>\n",
       "      <td>47.5</td>\n",
       "      <td>3.1</td>\n",
       "      <td>...</td>\n",
       "      <td>6.8</td>\n",
       "      <td>82.4</td>\n",
       "      <td>0.9</td>\n",
       "      <td>7.7</td>\n",
       "      <td>8.6</td>\n",
       "      <td>4.8</td>\n",
       "      <td>1.0</td>\n",
       "      <td>0.6</td>\n",
       "      <td>2.5</td>\n",
       "      <td>28.2</td>\n",
       "    </tr>\n",
       "    <tr>\n",
       "      <th>20</th>\n",
       "      <td>2023-24</td>\n",
       "      <td>Lauri Markkanen</td>\n",
       "      <td>UTA</td>\n",
       "      <td>46.0</td>\n",
       "      <td>32.8</td>\n",
       "      <td>23.4</td>\n",
       "      <td>7.9</td>\n",
       "      <td>16.2</td>\n",
       "      <td>49.1</td>\n",
       "      <td>3.2</td>\n",
       "      <td>...</td>\n",
       "      <td>4.8</td>\n",
       "      <td>88.7</td>\n",
       "      <td>2.3</td>\n",
       "      <td>6.2</td>\n",
       "      <td>8.6</td>\n",
       "      <td>1.9</td>\n",
       "      <td>0.8</td>\n",
       "      <td>0.5</td>\n",
       "      <td>1.3</td>\n",
       "      <td>25.1</td>\n",
       "    </tr>\n",
       "    <tr>\n",
       "      <th>16</th>\n",
       "      <td>2023-24</td>\n",
       "      <td>LeBron James</td>\n",
       "      <td>LAL</td>\n",
       "      <td>49.0</td>\n",
       "      <td>34.9</td>\n",
       "      <td>24.8</td>\n",
       "      <td>9.3</td>\n",
       "      <td>17.9</td>\n",
       "      <td>52.0</td>\n",
       "      <td>2.1</td>\n",
       "      <td>...</td>\n",
       "      <td>5.5</td>\n",
       "      <td>74.1</td>\n",
       "      <td>0.9</td>\n",
       "      <td>6.3</td>\n",
       "      <td>7.2</td>\n",
       "      <td>7.8</td>\n",
       "      <td>1.3</td>\n",
       "      <td>0.6</td>\n",
       "      <td>3.2</td>\n",
       "      <td>28.3</td>\n",
       "    </tr>\n",
       "    <tr>\n",
       "      <th>5</th>\n",
       "      <td>2023-24</td>\n",
       "      <td>Kevin Durant</td>\n",
       "      <td>PHX</td>\n",
       "      <td>48.0</td>\n",
       "      <td>37.0</td>\n",
       "      <td>28.2</td>\n",
       "      <td>10.2</td>\n",
       "      <td>19.0</td>\n",
       "      <td>53.8</td>\n",
       "      <td>2.3</td>\n",
       "      <td>...</td>\n",
       "      <td>6.3</td>\n",
       "      <td>87.1</td>\n",
       "      <td>0.5</td>\n",
       "      <td>6.1</td>\n",
       "      <td>6.6</td>\n",
       "      <td>5.7</td>\n",
       "      <td>0.9</td>\n",
       "      <td>1.3</td>\n",
       "      <td>3.2</td>\n",
       "      <td>29.9</td>\n",
       "    </tr>\n",
       "    <tr>\n",
       "      <th>18</th>\n",
       "      <td>2023-24</td>\n",
       "      <td>Kawhi Leonard</td>\n",
       "      <td>LAC</td>\n",
       "      <td>48.0</td>\n",
       "      <td>34.3</td>\n",
       "      <td>24.1</td>\n",
       "      <td>9.0</td>\n",
       "      <td>17.1</td>\n",
       "      <td>52.7</td>\n",
       "      <td>2.3</td>\n",
       "      <td>...</td>\n",
       "      <td>4.2</td>\n",
       "      <td>89.1</td>\n",
       "      <td>1.2</td>\n",
       "      <td>5.0</td>\n",
       "      <td>6.2</td>\n",
       "      <td>3.7</td>\n",
       "      <td>1.7</td>\n",
       "      <td>0.9</td>\n",
       "      <td>1.6</td>\n",
       "      <td>26.3</td>\n",
       "    </tr>\n",
       "  </tbody>\n",
       "</table>\n",
       "<p>10 rows × 23 columns</p>\n",
       "</div>"
      ],
      "text/plain": [
       "       YEAR                 PLAYER TEAM    GP   MIN   PTS   FGM   FGA   FG%  \\\n",
       "15  2023-24          Anthony Davis  LAL  52.0  35.7  24.9   9.5  17.2  55.3   \n",
       "13  2023-24           Nikola Jokic  DEN  53.0  33.8  26.1  10.2  17.7  57.7   \n",
       "3   2023-24  Giannis Antetokounmpo  MIL  54.0  35.0  30.8  11.6  18.8  61.6   \n",
       "19  2023-24          Julius Randle  NYK  46.0  35.4  24.0   8.6  18.2  47.2   \n",
       "1   2023-24            Luka Doncic  DAL  47.0  37.4  34.2  11.5  23.4  49.2   \n",
       "9   2023-24           Jayson Tatum  BOS  52.0  35.8  27.1   9.3  19.5  47.5   \n",
       "20  2023-24        Lauri Markkanen  UTA  46.0  32.8  23.4   7.9  16.2  49.1   \n",
       "16  2023-24           LeBron James  LAL  49.0  34.9  24.8   9.3  17.9  52.0   \n",
       "5   2023-24           Kevin Durant  PHX  48.0  37.0  28.2  10.2  19.0  53.8   \n",
       "18  2023-24          Kawhi Leonard  LAC  48.0  34.3  24.1   9.0  17.1  52.7   \n",
       "\n",
       "    3PM  ...   FTA   FT%  OREB  DREB   REB  AST  STL  BLK  TOV   EFF  \n",
       "15  0.4  ...   6.9  81.0   3.0   9.1  12.2  3.8  1.1  2.5  2.1  33.4  \n",
       "13  1.1  ...   5.7  81.3   3.0   9.1  12.0  8.9  1.2  0.9  2.9  37.6  \n",
       "3   0.4  ...  10.9  65.3   2.5   8.7  11.2  6.4  1.4  1.1  3.5  36.3  \n",
       "19  1.7  ...   6.6  78.1   2.2   7.0   9.2  5.0  0.5  0.3  3.5  24.5  \n",
       "1   3.9  ...   9.3  77.7   0.7   8.1   8.8  9.5  1.4  0.6  4.0  36.6  \n",
       "9   3.1  ...   6.8  82.4   0.9   7.7   8.6  4.8  1.0  0.6  2.5  28.2  \n",
       "20  3.2  ...   4.8  88.7   2.3   6.2   8.6  1.9  0.8  0.5  1.3  25.1  \n",
       "16  2.1  ...   5.5  74.1   0.9   6.3   7.2  7.8  1.3  0.6  3.2  28.3  \n",
       "5   2.3  ...   6.3  87.1   0.5   6.1   6.6  5.7  0.9  1.3  3.2  29.9  \n",
       "18  2.3  ...   4.2  89.1   1.2   5.0   6.2  3.7  1.7  0.9  1.6  26.3  \n",
       "\n",
       "[10 rows x 23 columns]"
      ]
     },
     "execution_count": 28,
     "metadata": {},
     "output_type": "execute_result"
    }
   ],
   "source": [
    "# Find the top 10 players with the most rebounds the of the 2023-24 season\n",
    "rebounds_df = df.loc[df['REB'] >= 6].head(10)\n",
    "rebounds_df .sort_values(by='REB', ascending=False, inplace=True)\n",
    "rebounds_df "
   ]
  },
  {
   "cell_type": "code",
   "execution_count": 60,
   "metadata": {},
   "outputs": [
    {
     "data": {
      "text/html": [
       "<div>\n",
       "<style scoped>\n",
       "    .dataframe tbody tr th:only-of-type {\n",
       "        vertical-align: middle;\n",
       "    }\n",
       "\n",
       "    .dataframe tbody tr th {\n",
       "        vertical-align: top;\n",
       "    }\n",
       "\n",
       "    .dataframe thead th {\n",
       "        text-align: right;\n",
       "    }\n",
       "</style>\n",
       "<table border=\"1\" class=\"dataframe\">\n",
       "  <thead>\n",
       "    <tr style=\"text-align: right;\">\n",
       "      <th></th>\n",
       "      <th>YEAR</th>\n",
       "      <th>PLAYER</th>\n",
       "      <th>TEAM</th>\n",
       "      <th>GP</th>\n",
       "      <th>MIN</th>\n",
       "      <th>PTS</th>\n",
       "      <th>FGM</th>\n",
       "      <th>FGA</th>\n",
       "      <th>FG%</th>\n",
       "      <th>3PM</th>\n",
       "      <th>...</th>\n",
       "      <th>FTA</th>\n",
       "      <th>FT%</th>\n",
       "      <th>OREB</th>\n",
       "      <th>DREB</th>\n",
       "      <th>REB</th>\n",
       "      <th>AST</th>\n",
       "      <th>STL</th>\n",
       "      <th>BLK</th>\n",
       "      <th>TOV</th>\n",
       "      <th>EFF</th>\n",
       "    </tr>\n",
       "  </thead>\n",
       "  <tbody>\n",
       "    <tr>\n",
       "      <th>1</th>\n",
       "      <td>2023-24</td>\n",
       "      <td>Luka Doncic</td>\n",
       "      <td>DAL</td>\n",
       "      <td>47.0</td>\n",
       "      <td>37.4</td>\n",
       "      <td>34.2</td>\n",
       "      <td>11.5</td>\n",
       "      <td>23.4</td>\n",
       "      <td>49.2</td>\n",
       "      <td>3.9</td>\n",
       "      <td>...</td>\n",
       "      <td>9.3</td>\n",
       "      <td>77.7</td>\n",
       "      <td>0.7</td>\n",
       "      <td>8.1</td>\n",
       "      <td>8.8</td>\n",
       "      <td>9.5</td>\n",
       "      <td>1.4</td>\n",
       "      <td>0.6</td>\n",
       "      <td>4.0</td>\n",
       "      <td>36.6</td>\n",
       "    </tr>\n",
       "    <tr>\n",
       "      <th>2</th>\n",
       "      <td>2023-24</td>\n",
       "      <td>Shai Gilgeous-Alexander</td>\n",
       "      <td>OKC</td>\n",
       "      <td>53.0</td>\n",
       "      <td>34.5</td>\n",
       "      <td>31.1</td>\n",
       "      <td>10.9</td>\n",
       "      <td>20.1</td>\n",
       "      <td>54.6</td>\n",
       "      <td>1.2</td>\n",
       "      <td>...</td>\n",
       "      <td>9.1</td>\n",
       "      <td>88.3</td>\n",
       "      <td>0.9</td>\n",
       "      <td>4.6</td>\n",
       "      <td>5.5</td>\n",
       "      <td>6.5</td>\n",
       "      <td>2.2</td>\n",
       "      <td>0.9</td>\n",
       "      <td>2.2</td>\n",
       "      <td>33.9</td>\n",
       "    </tr>\n",
       "    <tr>\n",
       "      <th>3</th>\n",
       "      <td>2023-24</td>\n",
       "      <td>Giannis Antetokounmpo</td>\n",
       "      <td>MIL</td>\n",
       "      <td>54.0</td>\n",
       "      <td>35.0</td>\n",
       "      <td>30.8</td>\n",
       "      <td>11.6</td>\n",
       "      <td>18.8</td>\n",
       "      <td>61.6</td>\n",
       "      <td>0.4</td>\n",
       "      <td>...</td>\n",
       "      <td>10.9</td>\n",
       "      <td>65.3</td>\n",
       "      <td>2.5</td>\n",
       "      <td>8.7</td>\n",
       "      <td>11.2</td>\n",
       "      <td>6.4</td>\n",
       "      <td>1.4</td>\n",
       "      <td>1.1</td>\n",
       "      <td>3.5</td>\n",
       "      <td>36.3</td>\n",
       "    </tr>\n",
       "    <tr>\n",
       "      <th>4</th>\n",
       "      <td>2023-24</td>\n",
       "      <td>Donovan Mitchell</td>\n",
       "      <td>CLE</td>\n",
       "      <td>44.0</td>\n",
       "      <td>35.5</td>\n",
       "      <td>28.4</td>\n",
       "      <td>9.9</td>\n",
       "      <td>20.9</td>\n",
       "      <td>47.3</td>\n",
       "      <td>3.3</td>\n",
       "      <td>...</td>\n",
       "      <td>6.2</td>\n",
       "      <td>86.4</td>\n",
       "      <td>1.0</td>\n",
       "      <td>4.5</td>\n",
       "      <td>5.4</td>\n",
       "      <td>6.3</td>\n",
       "      <td>1.9</td>\n",
       "      <td>0.5</td>\n",
       "      <td>2.8</td>\n",
       "      <td>27.9</td>\n",
       "    </tr>\n",
       "    <tr>\n",
       "      <th>5</th>\n",
       "      <td>2023-24</td>\n",
       "      <td>Kevin Durant</td>\n",
       "      <td>PHX</td>\n",
       "      <td>48.0</td>\n",
       "      <td>37.0</td>\n",
       "      <td>28.2</td>\n",
       "      <td>10.2</td>\n",
       "      <td>19.0</td>\n",
       "      <td>53.8</td>\n",
       "      <td>2.3</td>\n",
       "      <td>...</td>\n",
       "      <td>6.3</td>\n",
       "      <td>87.1</td>\n",
       "      <td>0.5</td>\n",
       "      <td>6.1</td>\n",
       "      <td>6.6</td>\n",
       "      <td>5.7</td>\n",
       "      <td>0.9</td>\n",
       "      <td>1.3</td>\n",
       "      <td>3.2</td>\n",
       "      <td>29.9</td>\n",
       "    </tr>\n",
       "    <tr>\n",
       "      <th>6</th>\n",
       "      <td>2023-24</td>\n",
       "      <td>Stephen Curry</td>\n",
       "      <td>GSW</td>\n",
       "      <td>50.0</td>\n",
       "      <td>33.5</td>\n",
       "      <td>28.0</td>\n",
       "      <td>9.1</td>\n",
       "      <td>19.8</td>\n",
       "      <td>46.2</td>\n",
       "      <td>5.0</td>\n",
       "      <td>...</td>\n",
       "      <td>5.1</td>\n",
       "      <td>92.2</td>\n",
       "      <td>0.5</td>\n",
       "      <td>3.9</td>\n",
       "      <td>4.4</td>\n",
       "      <td>5.0</td>\n",
       "      <td>0.8</td>\n",
       "      <td>0.4</td>\n",
       "      <td>3.0</td>\n",
       "      <td>24.6</td>\n",
       "    </tr>\n",
       "    <tr>\n",
       "      <th>7</th>\n",
       "      <td>2023-24</td>\n",
       "      <td>Jalen Brunson</td>\n",
       "      <td>NYK</td>\n",
       "      <td>52.0</td>\n",
       "      <td>35.9</td>\n",
       "      <td>27.6</td>\n",
       "      <td>9.8</td>\n",
       "      <td>20.4</td>\n",
       "      <td>48.3</td>\n",
       "      <td>2.7</td>\n",
       "      <td>...</td>\n",
       "      <td>6.3</td>\n",
       "      <td>83.5</td>\n",
       "      <td>0.6</td>\n",
       "      <td>3.3</td>\n",
       "      <td>3.8</td>\n",
       "      <td>6.5</td>\n",
       "      <td>0.9</td>\n",
       "      <td>0.2</td>\n",
       "      <td>2.4</td>\n",
       "      <td>25.0</td>\n",
       "    </tr>\n",
       "    <tr>\n",
       "      <th>8</th>\n",
       "      <td>2023-24</td>\n",
       "      <td>Devin Booker</td>\n",
       "      <td>PHX</td>\n",
       "      <td>45.0</td>\n",
       "      <td>35.5</td>\n",
       "      <td>27.5</td>\n",
       "      <td>9.6</td>\n",
       "      <td>19.2</td>\n",
       "      <td>50.0</td>\n",
       "      <td>2.2</td>\n",
       "      <td>...</td>\n",
       "      <td>7.0</td>\n",
       "      <td>87.0</td>\n",
       "      <td>0.7</td>\n",
       "      <td>3.9</td>\n",
       "      <td>4.6</td>\n",
       "      <td>7.0</td>\n",
       "      <td>0.9</td>\n",
       "      <td>0.4</td>\n",
       "      <td>2.6</td>\n",
       "      <td>27.4</td>\n",
       "    </tr>\n",
       "    <tr>\n",
       "      <th>9</th>\n",
       "      <td>2023-24</td>\n",
       "      <td>Jayson Tatum</td>\n",
       "      <td>BOS</td>\n",
       "      <td>52.0</td>\n",
       "      <td>35.8</td>\n",
       "      <td>27.1</td>\n",
       "      <td>9.3</td>\n",
       "      <td>19.5</td>\n",
       "      <td>47.5</td>\n",
       "      <td>3.1</td>\n",
       "      <td>...</td>\n",
       "      <td>6.8</td>\n",
       "      <td>82.4</td>\n",
       "      <td>0.9</td>\n",
       "      <td>7.7</td>\n",
       "      <td>8.6</td>\n",
       "      <td>4.8</td>\n",
       "      <td>1.0</td>\n",
       "      <td>0.6</td>\n",
       "      <td>2.5</td>\n",
       "      <td>28.2</td>\n",
       "    </tr>\n",
       "    <tr>\n",
       "      <th>10</th>\n",
       "      <td>2023-24</td>\n",
       "      <td>De'Aaron Fox</td>\n",
       "      <td>SAC</td>\n",
       "      <td>48.0</td>\n",
       "      <td>35.6</td>\n",
       "      <td>26.8</td>\n",
       "      <td>9.6</td>\n",
       "      <td>20.7</td>\n",
       "      <td>46.4</td>\n",
       "      <td>2.9</td>\n",
       "      <td>...</td>\n",
       "      <td>6.5</td>\n",
       "      <td>70.6</td>\n",
       "      <td>0.9</td>\n",
       "      <td>3.2</td>\n",
       "      <td>4.1</td>\n",
       "      <td>5.5</td>\n",
       "      <td>1.9</td>\n",
       "      <td>0.4</td>\n",
       "      <td>2.6</td>\n",
       "      <td>23.1</td>\n",
       "    </tr>\n",
       "  </tbody>\n",
       "</table>\n",
       "<p>10 rows × 23 columns</p>\n",
       "</div>"
      ],
      "text/plain": [
       "       YEAR                   PLAYER TEAM    GP   MIN   PTS   FGM   FGA   FG%  \\\n",
       "1   2023-24              Luka Doncic  DAL  47.0  37.4  34.2  11.5  23.4  49.2   \n",
       "2   2023-24  Shai Gilgeous-Alexander  OKC  53.0  34.5  31.1  10.9  20.1  54.6   \n",
       "3   2023-24    Giannis Antetokounmpo  MIL  54.0  35.0  30.8  11.6  18.8  61.6   \n",
       "4   2023-24         Donovan Mitchell  CLE  44.0  35.5  28.4   9.9  20.9  47.3   \n",
       "5   2023-24             Kevin Durant  PHX  48.0  37.0  28.2  10.2  19.0  53.8   \n",
       "6   2023-24            Stephen Curry  GSW  50.0  33.5  28.0   9.1  19.8  46.2   \n",
       "7   2023-24            Jalen Brunson  NYK  52.0  35.9  27.6   9.8  20.4  48.3   \n",
       "8   2023-24             Devin Booker  PHX  45.0  35.5  27.5   9.6  19.2  50.0   \n",
       "9   2023-24             Jayson Tatum  BOS  52.0  35.8  27.1   9.3  19.5  47.5   \n",
       "10  2023-24             De'Aaron Fox  SAC  48.0  35.6  26.8   9.6  20.7  46.4   \n",
       "\n",
       "    3PM  ...   FTA   FT%  OREB  DREB   REB  AST  STL  BLK  TOV   EFF  \n",
       "1   3.9  ...   9.3  77.7   0.7   8.1   8.8  9.5  1.4  0.6  4.0  36.6  \n",
       "2   1.2  ...   9.1  88.3   0.9   4.6   5.5  6.5  2.2  0.9  2.2  33.9  \n",
       "3   0.4  ...  10.9  65.3   2.5   8.7  11.2  6.4  1.4  1.1  3.5  36.3  \n",
       "4   3.3  ...   6.2  86.4   1.0   4.5   5.4  6.3  1.9  0.5  2.8  27.9  \n",
       "5   2.3  ...   6.3  87.1   0.5   6.1   6.6  5.7  0.9  1.3  3.2  29.9  \n",
       "6   5.0  ...   5.1  92.2   0.5   3.9   4.4  5.0  0.8  0.4  3.0  24.6  \n",
       "7   2.7  ...   6.3  83.5   0.6   3.3   3.8  6.5  0.9  0.2  2.4  25.0  \n",
       "8   2.2  ...   7.0  87.0   0.7   3.9   4.6  7.0  0.9  0.4  2.6  27.4  \n",
       "9   3.1  ...   6.8  82.4   0.9   7.7   8.6  4.8  1.0  0.6  2.5  28.2  \n",
       "10  2.9  ...   6.5  70.6   0.9   3.2   4.1  5.5  1.9  0.4  2.6  23.1  \n",
       "\n",
       "[10 rows x 23 columns]"
      ]
     },
     "execution_count": 60,
     "metadata": {},
     "output_type": "execute_result"
    }
   ],
   "source": [
    "# Find the top 10 scorers of the 2023-24 season\n",
    "top_ten_df = df.loc[df['YEAR'] == '2023-24'].head(10)\n",
    "top_ten_df.sort_values(by='PTS', ascending=False, inplace=True)\n",
    "top_ten_df"
   ]
  },
  {
   "cell_type": "markdown",
   "metadata": {},
   "source": []
  },
  {
   "cell_type": "code",
   "execution_count": 59,
   "metadata": {},
   "outputs": [
    {
     "data": {
      "image/png": "[encoded data removed]",
      "text/plain": [
       "<Figure size 864x720 with 1 Axes>"
      ]
     },
     "metadata": {},
     "output_type": "display_data"
    }
   ],
   "source": [
    "# Create a scatter plot on minutes vs points scored\n",
    "plt.figure(figsize=(12, 10))\n",
    "sns.scatterplot(x='MIN', y='PTS', data=df, hue='YEAR', palette='viridis')\n",
    "plt.title('Scatter Plot of Minutes Played vs. Points')\n",
    "plt.xlabel('Minutes Played')\n",
    "plt.ylabel('Points')\n",
    "plt.show()\n"
   ]
  },
  {
   "cell_type": "code",
   "execution_count": 30,
   "metadata": {},
   "outputs": [
    {
     "data": {
      "image/png": "[encoded data removed]",
      "text/plain": [
       "<Figure size 864x576 with 1 Axes>"
      ]
     },
     "metadata": {},
     "output_type": "display_data"
    }
   ],
   "source": [
    "# Create stacked bar plot\n",
    "fig, ax = plt.subplots(figsize=(12, 8))\n",
    "\n",
    "# Stack the bars for different categories\n",
    "bottom = None\n",
    "for col in ['PTS', 'FGM', '3PM', 'FTM']:\n",
    "    ax.bar(top_ten_df['PLAYER'], top_ten_df[col], label=col, bottom=bottom)\n",
    "    if bottom is None:\n",
    "        bottom = top_ten_df[col]\n",
    "    else:\n",
    "        bottom += top_ten_df[col]\n",
    "\n",
    "ax.set_ylabel('Points')\n",
    "ax.set_title('Stacked Bar Chart of Points Breakdown')\n",
    "ax.legend()\n",
    "plt.xticks(rotation=45)\n",
    "plt.show()"
   ]
  },
  {
   "cell_type": "code",
   "execution_count": 31,
   "metadata": {},
   "outputs": [],
   "source": [
    "# Create a dataframe for players with the most rebounds\n",
    "top_ten_rebounds = df.loc[df['REB'] > 4].head(10)\n",
    "top_ten_rebounds = top_ten_rebounds[['PLAYER', 'YEAR', 'MIN', 'PTS', 'REB']]\n",
    "top_ten_rebounds_sorted = top_ten_rebounds.sort_values(by='REB', ascending=False)"
   ]
  },
  {
   "cell_type": "code",
   "execution_count": 32,
   "metadata": {},
   "outputs": [
    {
     "name": "stdout",
     "output_type": "stream",
     "text": [
      "                     PLAYER     YEAR   MIN   PTS   REB\n",
      "3     Giannis Antetokounmpo  2023-24  35.0  30.8  11.2\n",
      "1               Luka Doncic  2023-24  37.4  34.2   8.8\n",
      "9              Jayson Tatum  2023-24  35.8  27.1   8.6\n",
      "5              Kevin Durant  2023-24  37.0  28.2   6.6\n",
      "2   Shai Gilgeous-Alexander  2023-24  34.5  31.1   5.5\n",
      "4          Donovan Mitchell  2023-24  35.5  28.4   5.4\n",
      "12          Anthony Edwards  2023-24  35.0  26.3   5.2\n",
      "8              Devin Booker  2023-24  35.5  27.5   4.6\n",
      "6             Stephen Curry  2023-24  33.5  28.0   4.4\n",
      "10             De'Aaron Fox  2023-24  35.6  26.8   4.1\n"
     ]
    }
   ],
   "source": [
    "print(top_ten_rebounds_sorted)"
   ]
  },
  {
   "cell_type": "code",
   "execution_count": 33,
   "metadata": {},
   "outputs": [
    {
     "data": {
      "image/png": "[encoded data removed]",
      "text/plain": [
       "<Figure size 864x576 with 1 Axes>"
      ]
     },
     "metadata": {},
     "output_type": "display_data"
    }
   ],
   "source": [
    "# Plotting bars in descending order\n",
    "top_ten_rebounds_sorted.plot.barh(x='PLAYER', y='REB', color='maroon', figsize=(12, 8))\n",
    "\n",
    "# Adding labels and title\n",
    "plt.xlabel('Average Rebounds')\n",
    "plt.title('Top Ten Players - Average Rebounds Per Game')\n",
    "\n",
    "# Display the plot\n",
    "plt.show()"
   ]
  },
  {
   "cell_type": "code",
   "execution_count": 34,
   "metadata": {},
   "outputs": [
    {
     "name": "stdout",
     "output_type": "stream",
     "text": [
      "<class 'pandas.core.frame.DataFrame'>\n",
      "Int64Index: 254 entries, 1 to 254\n",
      "Data columns (total 23 columns):\n",
      " #   Column  Non-Null Count  Dtype  \n",
      "---  ------  --------------  -----  \n",
      " 0   YEAR    254 non-null    object \n",
      " 1   PLAYER  254 non-null    object \n",
      " 2   TEAM    254 non-null    object \n",
      " 3   GP      254 non-null    float64\n",
      " 4   MIN     254 non-null    float64\n",
      " 5   PTS     254 non-null    float64\n",
      " 6   FGM     254 non-null    float64\n",
      " 7   FGA     254 non-null    float64\n",
      " 8   FG%     254 non-null    float64\n",
      " 9   3PM     254 non-null    float64\n",
      " 10  3PA     254 non-null    float64\n",
      " 11  3P%     254 non-null    float64\n",
      " 12  FTM     254 non-null    float64\n",
      " 13  FTA     254 non-null    float64\n",
      " 14  FT%     254 non-null    float64\n",
      " 15  OREB    254 non-null    float64\n",
      " 16  DREB    254 non-null    float64\n",
      " 17  REB     254 non-null    float64\n",
      " 18  AST     254 non-null    float64\n",
      " 19  STL     254 non-null    float64\n",
      " 20  BLK     254 non-null    float64\n",
      " 21  TOV     254 non-null    float64\n",
      " 22  EFF     254 non-null    float64\n",
      "dtypes: float64(20), object(3)\n",
      "memory usage: 47.6+ KB\n"
     ]
    }
   ],
   "source": [
    "df.info()"
   ]
  },
  {
   "cell_type": "code",
   "execution_count": 35,
   "metadata": {},
   "outputs": [],
   "source": [
    "# Export cleaned data frame\n",
    "file_path = 'nba_cleaned_data.csv'\n",
    "df.to_csv(file_path, index=False)"
   ]
  },
  {
   "cell_type": "markdown",
   "metadata": {},
   "source": [
    "# Statistics\n"
   ]
  },
  {
   "cell_type": "code",
   "execution_count": 36,
   "metadata": {},
   "outputs": [
    {
     "data": {
      "text/plain": [
       "Index(['YEAR', 'PLAYER', 'TEAM', 'GP', 'MIN', 'PTS', 'FGM', 'FGA', 'FG%',\n",
       "       '3PM', '3PA', '3P%', 'FTM', 'FTA', 'FT%', 'OREB', 'DREB', 'REB', 'AST',\n",
       "       'STL', 'BLK', 'TOV', 'EFF'],\n",
       "      dtype='object')"
      ]
     },
     "execution_count": 36,
     "metadata": {},
     "output_type": "execute_result"
    }
   ],
   "source": [
    "df.columns"
   ]
  },
  {
   "cell_type": "code",
   "execution_count": 37,
   "metadata": {},
   "outputs": [
    {
     "data": {
      "text/plain": [
       "Text(0.5, 1.0, 'Correlation')"
      ]
     },
     "execution_count": 37,
     "metadata": {},
     "output_type": "execute_result"
    },
    {
     "data": {
      "image/png": "[encoded data removed]",
      "text/plain": [
       "<Figure size 1152x864 with 2 Axes>"
      ]
     },
     "metadata": {},
     "output_type": "display_data"
    }
   ],
   "source": [
    "heatmap_columns = ['GP', 'MIN', 'PTS', 'FGM', 'FGA', 'FG%',\n",
    "       '3PM', '3PA', '3P%', 'FTM', 'FTA', 'FT%']\n",
    "\n",
    "# Create heatmap dataframe\n",
    "heatmap_data = df[heatmap_columns]\n",
    "\n",
    "# Create heatmap\n",
    "plt.figure(figsize=(16, 12))\n",
    "sns.heatmap(heatmap_data.corr(), annot=True, cmap='coolwarm', fmt='.2f')\n",
    "plt.title('Correlation')"
   ]
  },
  {
   "cell_type": "code",
   "execution_count": 44,
   "metadata": {},
   "outputs": [
    {
     "data": {
      "application/vnd.plotly.v1+json": {
       "config": {
        "plotlyServerURL": "https://plot.ly"
       },
       "data": [
        {
         "hovertemplate": "FGM=%{x}<br>PTS=%{marker.size}<extra></extra>",
         "legendgroup": "",
         "marker": {
          "color": "#636efa",
          "size": [
           34.2,
           31.1,
           30.8,
           28.4,
           28.2,
           28,
           27.6,
           27.5,
           27.1,
           26.8,
           26.7,
           26.3,
           26.1,
           25.7,
           24.9,
           24.8,
           24.6,
           24.1,
           24,
           23.4,
           23,
           22.7,
           22.5,
           22.5,
           22.4,
           22.3,
           22,
           22,
           21.9,
           21.8,
           21.8,
           21.7,
           21.7,
           21.5,
           21.4,
           21.4,
           21.2,
           21.2,
           21.1,
           20.6,
           20.5,
           20.5,
           20.2,
           20.2,
           20.1,
           20.1,
           19.6,
           19.2,
           19.2,
           19,
           18.9,
           18,
           17.9,
           17.7,
           17.5,
           17.5,
           17.5,
           17.3,
           17.3,
           17.3,
           17.2,
           16.9,
           16.7,
           16.6,
           16.5,
           16.1,
           15.9,
           15.8,
           15.7,
           15.7,
           15.6,
           15.6,
           15.6,
           15.5,
           15.5,
           15.3,
           15.3,
           15.1,
           14.8,
           14.8,
           14.4,
           14.3,
           14.2,
           14.1,
           14,
           14,
           13.8,
           13.8,
           13.7,
           13.7,
           13.7,
           13.6,
           13.5,
           13.4,
           13.4,
           13.3,
           13.3,
           13.2,
           13.1,
           13,
           12.9,
           12.9,
           12.8,
           12.7,
           12.7,
           12.6,
           12.6,
           12.6,
           12.6,
           12.5,
           12.4,
           12.3,
           12.2,
           12.2,
           12.2,
           12.2,
           12,
           12,
           11.9,
           11.9,
           11.8,
           11.7,
           11.5,
           11.5,
           11.5,
           11.5,
           11.4,
           11.4,
           11.4,
           11.3,
           11.1,
           11.1,
           11,
           11,
           10.9,
           10.8,
           10.7,
           10.7,
           10.6,
           10.6,
           10.4,
           10.2,
           10.1,
           10,
           10,
           9.9,
           9.9,
           9.8,
           9.7,
           9.6,
           9.6,
           9.6,
           9.6,
           9.6,
           9.4,
           9.3,
           9,
           9,
           9,
           9,
           8.9,
           8.9,
           8.7,
           8.7,
           8.6,
           8.5,
           8.5,
           8.3,
           8.3,
           8.3,
           8.2,
           8.2,
           8.2,
           8.2,
           8.1,
           8.1,
           8.1,
           8,
           8,
           8,
           7.8,
           7.8,
           7.6,
           7.6,
           7.5,
           7.4,
           7.4,
           7.4,
           7.3,
           7.3,
           7.2,
           7.1,
           7.1,
           7,
           7,
           7,
           6.9,
           6.9,
           6.9,
           6.9,
           6.8,
           6.6,
           6.5,
           6.4,
           6.3,
           6.3,
           6.3,
           6.2,
           6.2,
           6.1,
           6.1,
           6,
           5.9,
           5.9,
           5.9,
           5.9,
           5.8,
           5.7,
           5.6,
           5.6,
           5.5,
           5.4,
           5.3,
           5.3,
           5.2,
           5.2,
           5.1,
           5,
           5,
           5,
           4.9,
           4.9,
           4.9,
           4.8,
           4.7,
           4.7,
           4.7,
           4.5,
           4.4,
           4.4,
           4.4,
           4.3,
           4.1,
           4.1,
           3.9,
           3.9,
           3.7,
           3.6,
           3.6,
           3.4,
           3.3,
           3.2,
           3,
           2.5
          ],
          "sizemode": "area",
          "sizeref": 0.0855,
          "symbol": "circle"
         },
         "mode": "markers",
         "name": "",
         "orientation": "v",
         "showlegend": false,
         "type": "scatter",
         "x": [
          11.5,
          10.9,
          11.6,
          9.9,
          10.2,
          9.1,
          9.8,
          9.6,
          9.3,
          9.6,
          8.3,
          9.1,
          10.2,
          8.9,
          9.5,
          9.3,
          7.4,
          9,
          8.6,
          7.9,
          8.2,
          7.8,
          8,
          7.9,
          8.8,
          7.7,
          8.5,
          8.5,
          8.2,
          8.6,
          7.8,
          7.3,
          7.6,
          8.2,
          8.2,
          8,
          8.4,
          7.6,
          7.8,
          7.5,
          7.6,
          7.7,
          6.8,
          7.6,
          8.1,
          7.5,
          7,
          7,
          7.5,
          6.9,
          6.9,
          6.2,
          6.1,
          6.8,
          7.4,
          5.1,
          6.4,
          6.1,
          5.9,
          6.1,
          6.3,
          6,
          6.3,
          6.2,
          5.5,
          5.9,
          6.1,
          5.5,
          5.6,
          6.3,
          5.6,
          5.4,
          6.4,
          5.9,
          5.2,
          5.8,
          5.4,
          5.3,
          5.6,
          5.6,
          5.3,
          5.7,
          5.1,
          4.9,
          5.2,
          6.1,
          5.4,
          5.1,
          5.2,
          5.4,
          5,
          4.8,
          4.6,
          4.8,
          4.7,
          4.6,
          5.1,
          4.9,
          5,
          4.9,
          4.4,
          5,
          4.3,
          4.7,
          5.1,
          4.6,
          5.2,
          3.8,
          4.6,
          4.8,
          4,
          4.4,
          4.6,
          4.2,
          5.3,
          4.4,
          4.3,
          4.6,
          5,
          4.1,
          4.6,
          3.7,
          4.8,
          4.4,
          4.2,
          4.6,
          4.1,
          4.6,
          4.5,
          4.3,
          4.6,
          4.2,
          4.9,
          3.9,
          4.3,
          4.1,
          4.4,
          4.2,
          3.6,
          3.5,
          3.9,
          4,
          3.9,
          3.5,
          3.7,
          3.9,
          3.6,
          3.4,
          3.8,
          3.1,
          3.8,
          3.5,
          3.2,
          3.5,
          3.3,
          3.4,
          3.8,
          3.4,
          3.2,
          2.8,
          3.3,
          3.3,
          3.2,
          3,
          3.6,
          2.9,
          3.8,
          3,
          3,
          3.2,
          3,
          3,
          3.7,
          2.9,
          2.9,
          2.8,
          3.3,
          2.8,
          3.3,
          3,
          3.3,
          3,
          2.9,
          2.6,
          2.6,
          2.9,
          2.9,
          2.6,
          2.5,
          2.6,
          2.9,
          2.9,
          2.6,
          2.6,
          2.5,
          2.5,
          2.5,
          2.8,
          2.6,
          2.8,
          2.6,
          2.9,
          2.3,
          2.7,
          2,
          2.2,
          2.2,
          2.5,
          2.4,
          2.3,
          2.1,
          2.4,
          2.4,
          2.1,
          2,
          2.1,
          1.9,
          2.3,
          1.8,
          1.9,
          2.2,
          2.2,
          2.1,
          1.9,
          1.9,
          2,
          2,
          1.8,
          1.6,
          1.8,
          2.1,
          2.1,
          1.8,
          1.5,
          1.6,
          1.7,
          1.8,
          1.7,
          1.8,
          1.9,
          1.5,
          1.7,
          1.4,
          1.4,
          1.5,
          1.5,
          1.2,
          1.5,
          1.2,
          1.5,
          1.2,
          1.5,
          1.2,
          1
         ],
         "xaxis": "x",
         "y": [
          34.2,
          31.1,
          30.8,
          28.4,
          28.2,
          28,
          27.6,
          27.5,
          27.1,
          26.8,
          26.7,
          26.3,
          26.1,
          25.7,
          24.9,
          24.8,
          24.6,
          24.1,
          24,
          23.4,
          23,
          22.7,
          22.5,
          22.5,
          22.4,
          22.3,
          22,
          22,
          21.9,
          21.8,
          21.8,
          21.7,
          21.7,
          21.5,
          21.4,
          21.4,
          21.2,
          21.2,
          21.1,
          20.6,
          20.5,
          20.5,
          20.2,
          20.2,
          20.1,
          20.1,
          19.6,
          19.2,
          19.2,
          19,
          18.9,
          18,
          17.9,
          17.7,
          17.5,
          17.5,
          17.5,
          17.3,
          17.3,
          17.3,
          17.2,
          16.9,
          16.7,
          16.6,
          16.5,
          16.1,
          15.9,
          15.8,
          15.7,
          15.7,
          15.6,
          15.6,
          15.6,
          15.5,
          15.5,
          15.3,
          15.3,
          15.1,
          14.8,
          14.8,
          14.4,
          14.3,
          14.2,
          14.1,
          14,
          14,
          13.8,
          13.8,
          13.7,
          13.7,
          13.7,
          13.6,
          13.5,
          13.4,
          13.4,
          13.3,
          13.3,
          13.2,
          13.1,
          13,
          12.9,
          12.9,
          12.8,
          12.7,
          12.7,
          12.6,
          12.6,
          12.6,
          12.6,
          12.5,
          12.4,
          12.3,
          12.2,
          12.2,
          12.2,
          12.2,
          12,
          12,
          11.9,
          11.9,
          11.8,
          11.7,
          11.5,
          11.5,
          11.5,
          11.5,
          11.4,
          11.4,
          11.4,
          11.3,
          11.1,
          11.1,
          11,
          11,
          10.9,
          10.8,
          10.7,
          10.7,
          10.6,
          10.6,
          10.4,
          10.2,
          10.1,
          10,
          10,
          9.9,
          9.9,
          9.8,
          9.7,
          9.6,
          9.6,
          9.6,
          9.6,
          9.6,
          9.4,
          9.3,
          9,
          9,
          9,
          9,
          8.9,
          8.9,
          8.7,
          8.7,
          8.6,
          8.5,
          8.5,
          8.3,
          8.3,
          8.3,
          8.2,
          8.2,
          8.2,
          8.2,
          8.1,
          8.1,
          8.1,
          8,
          8,
          8,
          7.8,
          7.8,
          7.6,
          7.6,
          7.5,
          7.4,
          7.4,
          7.4,
          7.3,
          7.3,
          7.2,
          7.1,
          7.1,
          7,
          7,
          7,
          6.9,
          6.9,
          6.9,
          6.9,
          6.8,
          6.6,
          6.5,
          6.4,
          6.3,
          6.3,
          6.3,
          6.2,
          6.2,
          6.1,
          6.1,
          6,
          5.9,
          5.9,
          5.9,
          5.9,
          5.8,
          5.7,
          5.6,
          5.6,
          5.5,
          5.4,
          5.3,
          5.3,
          5.2,
          5.2,
          5.1,
          5,
          5,
          5,
          4.9,
          4.9,
          4.9,
          4.8,
          4.7,
          4.7,
          4.7,
          4.5,
          4.4,
          4.4,
          4.4,
          4.3,
          4.1,
          4.1,
          3.9,
          3.9,
          3.7,
          3.6,
          3.6,
          3.4,
          3.3,
          3.2,
          3,
          2.5
         ],
         "yaxis": "y"
        },
        {
         "hovertemplate": "<b>OLS trendline</b><br>PTS = 2.77584 * FGM + -0.244977<br>R<sup>2</sup>=0.978298<br><br>FGM=%{x}<br>PTS=%{y} <b>(trend)</b><extra></extra>",
         "legendgroup": "",
         "marker": {
          "color": "#636efa",
          "symbol": "circle"
         },
         "mode": "lines",
         "name": "",
         "showlegend": false,
         "type": "scatter",
         "x": [
          1,
          1.2,
          1.2,
          1.2,
          1.2,
          1.4,
          1.4,
          1.5,
          1.5,
          1.5,
          1.5,
          1.5,
          1.5,
          1.5,
          1.6,
          1.6,
          1.7,
          1.7,
          1.7,
          1.8,
          1.8,
          1.8,
          1.8,
          1.8,
          1.8,
          1.9,
          1.9,
          1.9,
          1.9,
          1.9,
          2,
          2,
          2,
          2,
          2.1,
          2.1,
          2.1,
          2.1,
          2.1,
          2.1,
          2.2,
          2.2,
          2.2,
          2.2,
          2.3,
          2.3,
          2.3,
          2.4,
          2.4,
          2.4,
          2.5,
          2.5,
          2.5,
          2.5,
          2.5,
          2.6,
          2.6,
          2.6,
          2.6,
          2.6,
          2.6,
          2.6,
          2.6,
          2.7,
          2.8,
          2.8,
          2.8,
          2.8,
          2.8,
          2.9,
          2.9,
          2.9,
          2.9,
          2.9,
          2.9,
          2.9,
          2.9,
          2.9,
          3,
          3,
          3,
          3,
          3,
          3,
          3,
          3.1,
          3.2,
          3.2,
          3.2,
          3.2,
          3.3,
          3.3,
          3.3,
          3.3,
          3.3,
          3.3,
          3.4,
          3.4,
          3.4,
          3.5,
          3.5,
          3.5,
          3.5,
          3.6,
          3.6,
          3.6,
          3.7,
          3.7,
          3.7,
          3.8,
          3.8,
          3.8,
          3.8,
          3.8,
          3.9,
          3.9,
          3.9,
          3.9,
          4,
          4,
          4.1,
          4.1,
          4.1,
          4.2,
          4.2,
          4.2,
          4.2,
          4.3,
          4.3,
          4.3,
          4.3,
          4.4,
          4.4,
          4.4,
          4.4,
          4.4,
          4.5,
          4.6,
          4.6,
          4.6,
          4.6,
          4.6,
          4.6,
          4.6,
          4.6,
          4.6,
          4.6,
          4.7,
          4.7,
          4.8,
          4.8,
          4.8,
          4.8,
          4.9,
          4.9,
          4.9,
          4.9,
          5,
          5,
          5,
          5,
          5.1,
          5.1,
          5.1,
          5.1,
          5.1,
          5.2,
          5.2,
          5.2,
          5.2,
          5.3,
          5.3,
          5.3,
          5.4,
          5.4,
          5.4,
          5.4,
          5.5,
          5.5,
          5.6,
          5.6,
          5.6,
          5.6,
          5.7,
          5.8,
          5.9,
          5.9,
          5.9,
          6,
          6.1,
          6.1,
          6.1,
          6.1,
          6.1,
          6.2,
          6.2,
          6.3,
          6.3,
          6.3,
          6.4,
          6.4,
          6.8,
          6.8,
          6.9,
          6.9,
          7,
          7,
          7.3,
          7.4,
          7.4,
          7.5,
          7.5,
          7.5,
          7.6,
          7.6,
          7.6,
          7.6,
          7.7,
          7.7,
          7.8,
          7.8,
          7.8,
          7.9,
          7.9,
          8,
          8,
          8.1,
          8.2,
          8.2,
          8.2,
          8.2,
          8.3,
          8.4,
          8.5,
          8.5,
          8.6,
          8.6,
          8.8,
          8.9,
          9,
          9.1,
          9.1,
          9.3,
          9.3,
          9.5,
          9.6,
          9.6,
          9.8,
          9.9,
          10.2,
          10.2,
          10.9,
          11.5,
          11.6
         ],
         "xaxis": "x",
         "y": [
          2.53085838775336,
          3.0860255199195503,
          3.0860255199195503,
          3.0860255199195503,
          3.0860255199195503,
          3.6411926520857403,
          3.6411926520857403,
          3.918776218168836,
          3.918776218168836,
          3.918776218168836,
          3.918776218168836,
          3.918776218168836,
          3.918776218168836,
          3.918776218168836,
          4.196359784251931,
          4.196359784251931,
          4.473943350335026,
          4.473943350335026,
          4.473943350335026,
          4.751526916418122,
          4.751526916418122,
          4.751526916418122,
          4.751526916418122,
          4.751526916418122,
          4.751526916418122,
          5.029110482501216,
          5.029110482501216,
          5.029110482501216,
          5.029110482501216,
          5.029110482501216,
          5.306694048584312,
          5.306694048584312,
          5.306694048584312,
          5.306694048584312,
          5.584277614667408,
          5.584277614667408,
          5.584277614667408,
          5.584277614667408,
          5.584277614667408,
          5.584277614667408,
          5.861861180750503,
          5.861861180750503,
          5.861861180750503,
          5.861861180750503,
          6.139444746833597,
          6.139444746833597,
          6.139444746833597,
          6.417028312916693,
          6.417028312916693,
          6.417028312916693,
          6.694611878999788,
          6.694611878999788,
          6.694611878999788,
          6.694611878999788,
          6.694611878999788,
          6.972195445082884,
          6.972195445082884,
          6.972195445082884,
          6.972195445082884,
          6.972195445082884,
          6.972195445082884,
          6.972195445082884,
          6.972195445082884,
          7.249779011165979,
          7.527362577249073,
          7.527362577249073,
          7.527362577249073,
          7.527362577249073,
          7.527362577249073,
          7.804946143332168,
          7.804946143332168,
          7.804946143332168,
          7.804946143332168,
          7.804946143332168,
          7.804946143332168,
          7.804946143332168,
          7.804946143332168,
          7.804946143332168,
          8.082529709415263,
          8.082529709415263,
          8.082529709415263,
          8.082529709415263,
          8.082529709415263,
          8.082529709415263,
          8.082529709415263,
          8.360113275498358,
          8.637696841581453,
          8.637696841581453,
          8.637696841581453,
          8.637696841581453,
          8.915280407664548,
          8.915280407664548,
          8.915280407664548,
          8.915280407664548,
          8.915280407664548,
          8.915280407664548,
          9.192863973747643,
          9.192863973747643,
          9.192863973747643,
          9.470447539830738,
          9.470447539830738,
          9.470447539830738,
          9.470447539830738,
          9.748031105913835,
          9.748031105913835,
          9.748031105913835,
          10.02561467199693,
          10.02561467199693,
          10.02561467199693,
          10.303198238080023,
          10.303198238080023,
          10.303198238080023,
          10.303198238080023,
          10.303198238080023,
          10.58078180416312,
          10.58078180416312,
          10.58078180416312,
          10.58078180416312,
          10.858365370246215,
          10.858365370246215,
          11.13594893632931,
          11.13594893632931,
          11.13594893632931,
          11.413532502412407,
          11.413532502412407,
          11.413532502412407,
          11.413532502412407,
          11.6911160684955,
          11.6911160684955,
          11.6911160684955,
          11.6911160684955,
          11.968699634578597,
          11.968699634578597,
          11.968699634578597,
          11.968699634578597,
          11.968699634578597,
          12.246283200661692,
          12.523866766744785,
          12.523866766744785,
          12.523866766744785,
          12.523866766744785,
          12.523866766744785,
          12.523866766744785,
          12.523866766744785,
          12.523866766744785,
          12.523866766744785,
          12.523866766744785,
          12.801450332827882,
          12.801450332827882,
          13.079033898910977,
          13.079033898910977,
          13.079033898910977,
          13.079033898910977,
          13.356617464994073,
          13.356617464994073,
          13.356617464994073,
          13.356617464994073,
          13.634201031077167,
          13.634201031077167,
          13.634201031077167,
          13.634201031077167,
          13.911784597160262,
          13.911784597160262,
          13.911784597160262,
          13.911784597160262,
          13.911784597160262,
          14.189368163243358,
          14.189368163243358,
          14.189368163243358,
          14.189368163243358,
          14.466951729326452,
          14.466951729326452,
          14.466951729326452,
          14.744535295409548,
          14.744535295409548,
          14.744535295409548,
          14.744535295409548,
          15.022118861492643,
          15.022118861492643,
          15.299702427575737,
          15.299702427575737,
          15.299702427575737,
          15.299702427575737,
          15.577285993658833,
          15.854869559741926,
          16.132453125825027,
          16.132453125825027,
          16.132453125825027,
          16.41003669190812,
          16.687620257991217,
          16.687620257991217,
          16.687620257991217,
          16.687620257991217,
          16.687620257991217,
          16.96520382407431,
          16.96520382407431,
          17.242787390157407,
          17.242787390157407,
          17.242787390157407,
          17.5203709562405,
          17.5203709562405,
          18.63070522057288,
          18.63070522057288,
          18.90828878665598,
          18.90828878665598,
          19.18587235273907,
          19.18587235273907,
          20.018623050988356,
          20.296206617071455,
          20.296206617071455,
          20.57379018315455,
          20.57379018315455,
          20.57379018315455,
          20.85137374923764,
          20.85137374923764,
          20.85137374923764,
          20.85137374923764,
          21.12895731532074,
          21.12895731532074,
          21.406540881403835,
          21.406540881403835,
          21.406540881403835,
          21.68412444748693,
          21.68412444748693,
          21.961708013570025,
          21.961708013570025,
          22.23929157965312,
          22.516875145736215,
          22.516875145736215,
          22.516875145736215,
          22.516875145736215,
          22.794458711819313,
          23.07204227790241,
          23.3496258439855,
          23.3496258439855,
          23.627209410068595,
          23.627209410068595,
          24.18237654223479,
          24.459960108317883,
          24.73754367440098,
          25.01512724048407,
          25.01512724048407,
          25.570294372650263,
          25.570294372650263,
          26.125461504816453,
          26.403045070899548,
          26.403045070899548,
          26.95821220306574,
          27.235795769148833,
          28.068546467398118,
          28.068546467398118,
          30.011631429979786,
          31.677132826478356,
          31.954716392561448
         ],
         "yaxis": "y"
        }
       ],
       "layout": {
        "autosize": true,
        "legend": {
         "itemsizing": "constant",
         "tracegroupgap": 0
        },
        "margin": {
         "t": 60
        },
        "template": {
         "data": {
          "bar": [
           {
            "error_x": {
             "color": "#2a3f5f"
            },
            "error_y": {
             "color": "#2a3f5f"
            },
            "marker": {
             "line": {
              "color": "#E5ECF6",
              "width": 0.5
             },
             "pattern": {
              "fillmode": "overlay",
              "size": 10,
              "solidity": 0.2
             }
            },
            "type": "bar"
           }
          ],
          "barpolar": [
           {
            "marker": {
             "line": {
              "color": "#E5ECF6",
              "width": 0.5
             },
             "pattern": {
              "fillmode": "overlay",
              "size": 10,
              "solidity": 0.2
             }
            },
            "type": "barpolar"
           }
          ],
          "carpet": [
           {
            "aaxis": {
             "endlinecolor": "#2a3f5f",
             "gridcolor": "white",
             "linecolor": "white",
             "minorgridcolor": "white",
             "startlinecolor": "#2a3f5f"
            },
            "baxis": {
             "endlinecolor": "#2a3f5f",
             "gridcolor": "white",
             "linecolor": "white",
             "minorgridcolor": "white",
             "startlinecolor": "#2a3f5f"
            },
            "type": "carpet"
           }
          ],
          "choropleth": [
           {
            "colorbar": {
             "outlinewidth": 0,
             "ticks": ""
            },
            "type": "choropleth"
           }
          ],
          "contour": [
           {
            "colorbar": {
             "outlinewidth": 0,
             "ticks": ""
            },
            "colorscale": [
             [
              0,
              "#0d0887"
             ],
             [
              0.1111111111111111,
              "#46039f"
             ],
             [
              0.2222222222222222,
              "#7201a8"
             ],
             [
              0.3333333333333333,
              "#9c179e"
             ],
             [
              0.4444444444444444,
              "#bd3786"
             ],
             [
              0.5555555555555556,
              "#d8576b"
             ],
             [
              0.6666666666666666,
              "#ed7953"
             ],
             [
              0.7777777777777778,
              "#fb9f3a"
             ],
             [
              0.8888888888888888,
              "#fdca26"
             ],
             [
              1,
              "#f0f921"
             ]
            ],
            "type": "contour"
           }
          ],
          "contourcarpet": [
           {
            "colorbar": {
             "outlinewidth": 0,
             "ticks": ""
            },
            "type": "contourcarpet"
           }
          ],
          "heatmap": [
           {
            "colorbar": {
             "outlinewidth": 0,
             "ticks": ""
            },
            "colorscale": [
             [
              0,
              "#0d0887"
             ],
             [
              0.1111111111111111,
              "#46039f"
             ],
             [
              0.2222222222222222,
              "#7201a8"
             ],
             [
              0.3333333333333333,
              "#9c179e"
             ],
             [
              0.4444444444444444,
              "#bd3786"
             ],
             [
              0.5555555555555556,
              "#d8576b"
             ],
             [
              0.6666666666666666,
              "#ed7953"
             ],
             [
              0.7777777777777778,
              "#fb9f3a"
             ],
             [
              0.8888888888888888,
              "#fdca26"
             ],
             [
              1,
              "#f0f921"
             ]
            ],
            "type": "heatmap"
           }
          ],
          "heatmapgl": [
           {
            "colorbar": {
             "outlinewidth": 0,
             "ticks": ""
            },
            "colorscale": [
             [
              0,
              "#0d0887"
             ],
             [
              0.1111111111111111,
              "#46039f"
             ],
             [
              0.2222222222222222,
              "#7201a8"
             ],
             [
              0.3333333333333333,
              "#9c179e"
             ],
             [
              0.4444444444444444,
              "#bd3786"
             ],
             [
              0.5555555555555556,
              "#d8576b"
             ],
             [
              0.6666666666666666,
              "#ed7953"
             ],
             [
              0.7777777777777778,
              "#fb9f3a"
             ],
             [
              0.8888888888888888,
              "#fdca26"
             ],
             [
              1,
              "#f0f921"
             ]
            ],
            "type": "heatmapgl"
           }
          ],
          "histogram": [
           {
            "marker": {
             "pattern": {
              "fillmode": "overlay",
              "size": 10,
              "solidity": 0.2
             }
            },
            "type": "histogram"
           }
          ],
          "histogram2d": [
           {
            "colorbar": {
             "outlinewidth": 0,
             "ticks": ""
            },
            "colorscale": [
             [
              0,
              "#0d0887"
             ],
             [
              0.1111111111111111,
              "#46039f"
             ],
             [
              0.2222222222222222,
              "#7201a8"
             ],
             [
              0.3333333333333333,
              "#9c179e"
             ],
             [
              0.4444444444444444,
              "#bd3786"
             ],
             [
              0.5555555555555556,
              "#d8576b"
             ],
             [
              0.6666666666666666,
              "#ed7953"
             ],
             [
              0.7777777777777778,
              "#fb9f3a"
             ],
             [
              0.8888888888888888,
              "#fdca26"
             ],
             [
              1,
              "#f0f921"
             ]
            ],
            "type": "histogram2d"
           }
          ],
          "histogram2dcontour": [
           {
            "colorbar": {
             "outlinewidth": 0,
             "ticks": ""
            },
            "colorscale": [
             [
              0,
              "#0d0887"
             ],
             [
              0.1111111111111111,
              "#46039f"
             ],
             [
              0.2222222222222222,
              "#7201a8"
             ],
             [
              0.3333333333333333,
              "#9c179e"
             ],
             [
              0.4444444444444444,
              "#bd3786"
             ],
             [
              0.5555555555555556,
              "#d8576b"
             ],
             [
              0.6666666666666666,
              "#ed7953"
             ],
             [
              0.7777777777777778,
              "#fb9f3a"
             ],
             [
              0.8888888888888888,
              "#fdca26"
             ],
             [
              1,
              "#f0f921"
             ]
            ],
            "type": "histogram2dcontour"
           }
          ],
          "mesh3d": [
           {
            "colorbar": {
             "outlinewidth": 0,
             "ticks": ""
            },
            "type": "mesh3d"
           }
          ],
          "parcoords": [
           {
            "line": {
             "colorbar": {
              "outlinewidth": 0,
              "ticks": ""
             }
            },
            "type": "parcoords"
           }
          ],
          "pie": [
           {
            "automargin": true,
            "type": "pie"
           }
          ],
          "scatter": [
           {
            "marker": {
             "colorbar": {
              "outlinewidth": 0,
              "ticks": ""
             }
            },
            "type": "scatter"
           }
          ],
          "scatter3d": [
           {
            "line": {
             "colorbar": {
              "outlinewidth": 0,
              "ticks": ""
             }
            },
            "marker": {
             "colorbar": {
              "outlinewidth": 0,
              "ticks": ""
             }
            },
            "type": "scatter3d"
           }
          ],
          "scattercarpet": [
           {
            "marker": {
             "colorbar": {
              "outlinewidth": 0,
              "ticks": ""
             }
            },
            "type": "scattercarpet"
           }
          ],
          "scattergeo": [
           {
            "marker": {
             "colorbar": {
              "outlinewidth": 0,
              "ticks": ""
             }
            },
            "type": "scattergeo"
           }
          ],
          "scattergl": [
           {
            "marker": {
             "colorbar": {
              "outlinewidth": 0,
              "ticks": ""
             }
            },
            "type": "scattergl"
           }
          ],
          "scattermapbox": [
           {
            "marker": {
             "colorbar": {
              "outlinewidth": 0,
              "ticks": ""
             }
            },
            "type": "scattermapbox"
           }
          ],
          "scatterpolar": [
           {
            "marker": {
             "colorbar": {
              "outlinewidth": 0,
              "ticks": ""
             }
            },
            "type": "scatterpolar"
           }
          ],
          "scatterpolargl": [
           {
            "marker": {
             "colorbar": {
              "outlinewidth": 0,
              "ticks": ""
             }
            },
            "type": "scatterpolargl"
           }
          ],
          "scatterternary": [
           {
            "marker": {
             "colorbar": {
              "outlinewidth": 0,
              "ticks": ""
             }
            },
            "type": "scatterternary"
           }
          ],
          "surface": [
           {
            "colorbar": {
             "outlinewidth": 0,
             "ticks": ""
            },
            "colorscale": [
             [
              0,
              "#0d0887"
             ],
             [
              0.1111111111111111,
              "#46039f"
             ],
             [
              0.2222222222222222,
              "#7201a8"
             ],
             [
              0.3333333333333333,
              "#9c179e"
             ],
             [
              0.4444444444444444,
              "#bd3786"
             ],
             [
              0.5555555555555556,
              "#d8576b"
             ],
             [
              0.6666666666666666,
              "#ed7953"
             ],
             [
              0.7777777777777778,
              "#fb9f3a"
             ],
             [
              0.8888888888888888,
              "#fdca26"
             ],
             [
              1,
              "#f0f921"
             ]
            ],
            "type": "surface"
           }
          ],
          "table": [
           {
            "cells": {
             "fill": {
              "color": "#EBF0F8"
             },
             "line": {
              "color": "white"
             }
            },
            "header": {
             "fill": {
              "color": "#C8D4E3"
             },
             "line": {
              "color": "white"
             }
            },
            "type": "table"
           }
          ]
         },
         "layout": {
          "annotationdefaults": {
           "arrowcolor": "#2a3f5f",
           "arrowhead": 0,
           "arrowwidth": 1
          },
          "autotypenumbers": "strict",
          "coloraxis": {
           "colorbar": {
            "outlinewidth": 0,
            "ticks": ""
           }
          },
          "colorscale": {
           "diverging": [
            [
             0,
             "#8e0152"
            ],
            [
             0.1,
             "#c51b7d"
            ],
            [
             0.2,
             "#de77ae"
            ],
            [
             0.3,
             "#f1b6da"
            ],
            [
             0.4,
             "#fde0ef"
            ],
            [
             0.5,
             "#f7f7f7"
            ],
            [
             0.6,
             "#e6f5d0"
            ],
            [
             0.7,
             "#b8e186"
            ],
            [
             0.8,
             "#7fbc41"
            ],
            [
             0.9,
             "#4d9221"
            ],
            [
             1,
             "#276419"
            ]
           ],
           "sequential": [
            [
             0,
             "#0d0887"
            ],
            [
             0.1111111111111111,
             "#46039f"
            ],
            [
             0.2222222222222222,
             "#7201a8"
            ],
            [
             0.3333333333333333,
             "#9c179e"
            ],
            [
             0.4444444444444444,
             "#bd3786"
            ],
            [
             0.5555555555555556,
             "#d8576b"
            ],
            [
             0.6666666666666666,
             "#ed7953"
            ],
            [
             0.7777777777777778,
             "#fb9f3a"
            ],
            [
             0.8888888888888888,
             "#fdca26"
            ],
            [
             1,
             "#f0f921"
            ]
           ],
           "sequentialminus": [
            [
             0,
             "#0d0887"
            ],
            [
             0.1111111111111111,
             "#46039f"
            ],
            [
             0.2222222222222222,
             "#7201a8"
            ],
            [
             0.3333333333333333,
             "#9c179e"
            ],
            [
             0.4444444444444444,
             "#bd3786"
            ],
            [
             0.5555555555555556,
             "#d8576b"
            ],
            [
             0.6666666666666666,
             "#ed7953"
            ],
            [
             0.7777777777777778,
             "#fb9f3a"
            ],
            [
             0.8888888888888888,
             "#fdca26"
            ],
            [
             1,
             "#f0f921"
            ]
           ]
          },
          "colorway": [
           "#636efa",
           "#EF553B",
           "#00cc96",
           "#ab63fa",
           "#FFA15A",
           "#19d3f3",
           "#FF6692",
           "#B6E880",
           "#FF97FF",
           "#FECB52"
          ],
          "font": {
           "color": "#2a3f5f"
          },
          "geo": {
           "bgcolor": "white",
           "lakecolor": "white",
           "landcolor": "#E5ECF6",
           "showlakes": true,
           "showland": true,
           "subunitcolor": "white"
          },
          "hoverlabel": {
           "align": "left"
          },
          "hovermode": "closest",
          "mapbox": {
           "style": "light"
          },
          "paper_bgcolor": "white",
          "plot_bgcolor": "#E5ECF6",
          "polar": {
           "angularaxis": {
            "gridcolor": "white",
            "linecolor": "white",
            "ticks": ""
           },
           "bgcolor": "#E5ECF6",
           "radialaxis": {
            "gridcolor": "white",
            "linecolor": "white",
            "ticks": ""
           }
          },
          "scene": {
           "xaxis": {
            "backgroundcolor": "#E5ECF6",
            "gridcolor": "white",
            "gridwidth": 2,
            "linecolor": "white",
            "showbackground": true,
            "ticks": "",
            "zerolinecolor": "white"
           },
           "yaxis": {
            "backgroundcolor": "#E5ECF6",
            "gridcolor": "white",
            "gridwidth": 2,
            "linecolor": "white",
            "showbackground": true,
            "ticks": "",
            "zerolinecolor": "white"
           },
           "zaxis": {
            "backgroundcolor": "#E5ECF6",
            "gridcolor": "white",
            "gridwidth": 2,
            "linecolor": "white",
            "showbackground": true,
            "ticks": "",
            "zerolinecolor": "white"
           }
          },
          "shapedefaults": {
           "line": {
            "color": "#2a3f5f"
           }
          },
          "ternary": {
           "aaxis": {
            "gridcolor": "white",
            "linecolor": "white",
            "ticks": ""
           },
           "baxis": {
            "gridcolor": "white",
            "linecolor": "white",
            "ticks": ""
           },
           "bgcolor": "#E5ECF6",
           "caxis": {
            "gridcolor": "white",
            "linecolor": "white",
            "ticks": ""
           }
          },
          "title": {
           "x": 0.05
          },
          "xaxis": {
           "automargin": true,
           "gridcolor": "white",
           "linecolor": "white",
           "ticks": "",
           "title": {
            "standoff": 15
           },
           "zerolinecolor": "white",
           "zerolinewidth": 2
          },
          "yaxis": {
           "automargin": true,
           "gridcolor": "white",
           "linecolor": "white",
           "ticks": "",
           "title": {
            "standoff": 15
           },
           "zerolinecolor": "white",
           "zerolinewidth": 2
          }
         }
        },
        "xaxis": {
         "anchor": "y",
         "autorange": true,
         "domain": [
          0,
          1
         ],
         "range": [
          0.32480902668677225,
          12.448407699789765
         ],
         "title": {
          "text": "FGM"
         },
         "type": "linear"
        },
        "yaxis": {
         "anchor": "x",
         "autorange": true,
         "domain": [
          0,
          1
         ],
         "range": [
          -0.22162647116784262,
          38.97715319318195
         ],
         "title": {
          "text": "PTS"
         },
         "type": "linear"
        }
       }
      },
      "image/png": "[encoded data removed]",
      "text/html": [
       "<div>                            <div id=\"4b8d6e1c-c4dc-4fec-beb7-11abda5c4d1b\" class=\"plotly-graph-div\" style=\"height:525px; width:100%;\"></div>            <script type=\"text/javascript\">                require([\"plotly\"], function(Plotly) {                    window.PLOTLYENV=window.PLOTLYENV || {};                                    if (document.getElementById(\"4b8d6e1c-c4dc-4fec-beb7-11abda5c4d1b\")) {                    Plotly.newPlot(                        \"4b8d6e1c-c4dc-4fec-beb7-11abda5c4d1b\",                        [{\"hovertemplate\":\"FGM=%{x}<br>PTS=%{marker.size}<extra></extra>\",\"legendgroup\":\"\",\"marker\":{\"color\":\"#636efa\",\"size\":[34.2,31.1,30.8,28.4,28.2,28.0,27.6,27.5,27.1,26.8,26.7,26.3,26.1,25.7,24.9,24.8,24.6,24.1,24.0,23.4,23.0,22.7,22.5,22.5,22.4,22.3,22.0,22.0,21.9,21.8,21.8,21.7,21.7,21.5,21.4,21.4,21.2,21.2,21.1,20.6,20.5,20.5,20.2,20.2,20.1,20.1,19.6,19.2,19.2,19.0,18.9,18.0,17.9,17.7,17.5,17.5,17.5,17.3,17.3,17.3,17.2,16.9,16.7,16.6,16.5,16.1,15.9,15.8,15.7,15.7,15.6,15.6,15.6,15.5,15.5,15.3,15.3,15.1,14.8,14.8,14.4,14.3,14.2,14.1,14.0,14.0,13.8,13.8,13.7,13.7,13.7,13.6,13.5,13.4,13.4,13.3,13.3,13.2,13.1,13.0,12.9,12.9,12.8,12.7,12.7,12.6,12.6,12.6,12.6,12.5,12.4,12.3,12.2,12.2,12.2,12.2,12.0,12.0,11.9,11.9,11.8,11.7,11.5,11.5,11.5,11.5,11.4,11.4,11.4,11.3,11.1,11.1,11.0,11.0,10.9,10.8,10.7,10.7,10.6,10.6,10.4,10.2,10.1,10.0,10.0,9.9,9.9,9.8,9.7,9.6,9.6,9.6,9.6,9.6,9.4,9.3,9.0,9.0,9.0,9.0,8.9,8.9,8.7,8.7,8.6,8.5,8.5,8.3,8.3,8.3,8.2,8.2,8.2,8.2,8.1,8.1,8.1,8.0,8.0,8.0,7.8,7.8,7.6,7.6,7.5,7.4,7.4,7.4,7.3,7.3,7.2,7.1,7.1,7.0,7.0,7.0,6.9,6.9,6.9,6.9,6.8,6.6,6.5,6.4,6.3,6.3,6.3,6.2,6.2,6.1,6.1,6.0,5.9,5.9,5.9,5.9,5.8,5.7,5.6,5.6,5.5,5.4,5.3,5.3,5.2,5.2,5.1,5.0,5.0,5.0,4.9,4.9,4.9,4.8,4.7,4.7,4.7,4.5,4.4,4.4,4.4,4.3,4.1,4.1,3.9,3.9,3.7,3.6,3.6,3.4,3.3,3.2,3.0,2.5],\"sizemode\":\"area\",\"sizeref\":0.0855,\"symbol\":\"circle\"},\"mode\":\"markers\",\"name\":\"\",\"orientation\":\"v\",\"showlegend\":false,\"x\":[11.5,10.9,11.6,9.9,10.2,9.1,9.8,9.6,9.3,9.6,8.3,9.1,10.2,8.9,9.5,9.3,7.4,9.0,8.6,7.9,8.2,7.8,8.0,7.9,8.8,7.7,8.5,8.5,8.2,8.6,7.8,7.3,7.6,8.2,8.2,8.0,8.4,7.6,7.8,7.5,7.6,7.7,6.8,7.6,8.1,7.5,7.0,7.0,7.5,6.9,6.9,6.2,6.1,6.8,7.4,5.1,6.4,6.1,5.9,6.1,6.3,6.0,6.3,6.2,5.5,5.9,6.1,5.5,5.6,6.3,5.6,5.4,6.4,5.9,5.2,5.8,5.4,5.3,5.6,5.6,5.3,5.7,5.1,4.9,5.2,6.1,5.4,5.1,5.2,5.4,5.0,4.8,4.6,4.8,4.7,4.6,5.1,4.9,5.0,4.9,4.4,5.0,4.3,4.7,5.1,4.6,5.2,3.8,4.6,4.8,4.0,4.4,4.6,4.2,5.3,4.4,4.3,4.6,5.0,4.1,4.6,3.7,4.8,4.4,4.2,4.6,4.1,4.6,4.5,4.3,4.6,4.2,4.9,3.9,4.3,4.1,4.4,4.2,3.6,3.5,3.9,4.0,3.9,3.5,3.7,3.9,3.6,3.4,3.8,3.1,3.8,3.5,3.2,3.5,3.3,3.4,3.8,3.4,3.2,2.8,3.3,3.3,3.2,3.0,3.6,2.9,3.8,3.0,3.0,3.2,3.0,3.0,3.7,2.9,2.9,2.8,3.3,2.8,3.3,3.0,3.3,3.0,2.9,2.6,2.6,2.9,2.9,2.6,2.5,2.6,2.9,2.9,2.6,2.6,2.5,2.5,2.5,2.8,2.6,2.8,2.6,2.9,2.3,2.7,2.0,2.2,2.2,2.5,2.4,2.3,2.1,2.4,2.4,2.1,2.0,2.1,1.9,2.3,1.8,1.9,2.2,2.2,2.1,1.9,1.9,2.0,2.0,1.8,1.6,1.8,2.1,2.1,1.8,1.5,1.6,1.7,1.8,1.7,1.8,1.9,1.5,1.7,1.4,1.4,1.5,1.5,1.2,1.5,1.2,1.5,1.2,1.5,1.2,1.0],\"xaxis\":\"x\",\"y\":[34.2,31.1,30.8,28.4,28.2,28.0,27.6,27.5,27.1,26.8,26.7,26.3,26.1,25.7,24.9,24.8,24.6,24.1,24.0,23.4,23.0,22.7,22.5,22.5,22.4,22.3,22.0,22.0,21.9,21.8,21.8,21.7,21.7,21.5,21.4,21.4,21.2,21.2,21.1,20.6,20.5,20.5,20.2,20.2,20.1,20.1,19.6,19.2,19.2,19.0,18.9,18.0,17.9,17.7,17.5,17.5,17.5,17.3,17.3,17.3,17.2,16.9,16.7,16.6,16.5,16.1,15.9,15.8,15.7,15.7,15.6,15.6,15.6,15.5,15.5,15.3,15.3,15.1,14.8,14.8,14.4,14.3,14.2,14.1,14.0,14.0,13.8,13.8,13.7,13.7,13.7,13.6,13.5,13.4,13.4,13.3,13.3,13.2,13.1,13.0,12.9,12.9,12.8,12.7,12.7,12.6,12.6,12.6,12.6,12.5,12.4,12.3,12.2,12.2,12.2,12.2,12.0,12.0,11.9,11.9,11.8,11.7,11.5,11.5,11.5,11.5,11.4,11.4,11.4,11.3,11.1,11.1,11.0,11.0,10.9,10.8,10.7,10.7,10.6,10.6,10.4,10.2,10.1,10.0,10.0,9.9,9.9,9.8,9.7,9.6,9.6,9.6,9.6,9.6,9.4,9.3,9.0,9.0,9.0,9.0,8.9,8.9,8.7,8.7,8.6,8.5,8.5,8.3,8.3,8.3,8.2,8.2,8.2,8.2,8.1,8.1,8.1,8.0,8.0,8.0,7.8,7.8,7.6,7.6,7.5,7.4,7.4,7.4,7.3,7.3,7.2,7.1,7.1,7.0,7.0,7.0,6.9,6.9,6.9,6.9,6.8,6.6,6.5,6.4,6.3,6.3,6.3,6.2,6.2,6.1,6.1,6.0,5.9,5.9,5.9,5.9,5.8,5.7,5.6,5.6,5.5,5.4,5.3,5.3,5.2,5.2,5.1,5.0,5.0,5.0,4.9,4.9,4.9,4.8,4.7,4.7,4.7,4.5,4.4,4.4,4.4,4.3,4.1,4.1,3.9,3.9,3.7,3.6,3.6,3.4,3.3,3.2,3.0,2.5],\"yaxis\":\"y\",\"type\":\"scatter\"},{\"hovertemplate\":\"<b>OLS trendline</b><br>PTS = 2.77584 * FGM + -0.244977<br>R<sup>2</sup>=0.978298<br><br>FGM=%{x}<br>PTS=%{y} <b>(trend)</b><extra></extra>\",\"legendgroup\":\"\",\"marker\":{\"color\":\"#636efa\",\"symbol\":\"circle\"},\"mode\":\"lines\",\"name\":\"\",\"showlegend\":false,\"x\":[1.0,1.2,1.2,1.2,1.2,1.4,1.4,1.5,1.5,1.5,1.5,1.5,1.5,1.5,1.6,1.6,1.7,1.7,1.7,1.8,1.8,1.8,1.8,1.8,1.8,1.9,1.9,1.9,1.9,1.9,2.0,2.0,2.0,2.0,2.1,2.1,2.1,2.1,2.1,2.1,2.2,2.2,2.2,2.2,2.3,2.3,2.3,2.4,2.4,2.4,2.5,2.5,2.5,2.5,2.5,2.6,2.6,2.6,2.6,2.6,2.6,2.6,2.6,2.7,2.8,2.8,2.8,2.8,2.8,2.9,2.9,2.9,2.9,2.9,2.9,2.9,2.9,2.9,3.0,3.0,3.0,3.0,3.0,3.0,3.0,3.1,3.2,3.2,3.2,3.2,3.3,3.3,3.3,3.3,3.3,3.3,3.4,3.4,3.4,3.5,3.5,3.5,3.5,3.6,3.6,3.6,3.7,3.7,3.7,3.8,3.8,3.8,3.8,3.8,3.9,3.9,3.9,3.9,4.0,4.0,4.1,4.1,4.1,4.2,4.2,4.2,4.2,4.3,4.3,4.3,4.3,4.4,4.4,4.4,4.4,4.4,4.5,4.6,4.6,4.6,4.6,4.6,4.6,4.6,4.6,4.6,4.6,4.7,4.7,4.8,4.8,4.8,4.8,4.9,4.9,4.9,4.9,5.0,5.0,5.0,5.0,5.1,5.1,5.1,5.1,5.1,5.2,5.2,5.2,5.2,5.3,5.3,5.3,5.4,5.4,5.4,5.4,5.5,5.5,5.6,5.6,5.6,5.6,5.7,5.8,5.9,5.9,5.9,6.0,6.1,6.1,6.1,6.1,6.1,6.2,6.2,6.3,6.3,6.3,6.4,6.4,6.8,6.8,6.9,6.9,7.0,7.0,7.3,7.4,7.4,7.5,7.5,7.5,7.6,7.6,7.6,7.6,7.7,7.7,7.8,7.8,7.8,7.9,7.9,8.0,8.0,8.1,8.2,8.2,8.2,8.2,8.3,8.4,8.5,8.5,8.6,8.6,8.8,8.9,9.0,9.1,9.1,9.3,9.3,9.5,9.6,9.6,9.8,9.9,10.2,10.2,10.9,11.5,11.6],\"xaxis\":\"x\",\"y\":[2.53085838775336,3.0860255199195503,3.0860255199195503,3.0860255199195503,3.0860255199195503,3.6411926520857403,3.6411926520857403,3.918776218168836,3.918776218168836,3.918776218168836,3.918776218168836,3.918776218168836,3.918776218168836,3.918776218168836,4.196359784251931,4.196359784251931,4.473943350335026,4.473943350335026,4.473943350335026,4.751526916418122,4.751526916418122,4.751526916418122,4.751526916418122,4.751526916418122,4.751526916418122,5.029110482501216,5.029110482501216,5.029110482501216,5.029110482501216,5.029110482501216,5.306694048584312,5.306694048584312,5.306694048584312,5.306694048584312,5.584277614667408,5.584277614667408,5.584277614667408,5.584277614667408,5.584277614667408,5.584277614667408,5.861861180750503,5.861861180750503,5.861861180750503,5.861861180750503,6.139444746833597,6.139444746833597,6.139444746833597,6.417028312916693,6.417028312916693,6.417028312916693,6.694611878999788,6.694611878999788,6.694611878999788,6.694611878999788,6.694611878999788,6.972195445082884,6.972195445082884,6.972195445082884,6.972195445082884,6.972195445082884,6.972195445082884,6.972195445082884,6.972195445082884,7.249779011165979,7.527362577249073,7.527362577249073,7.527362577249073,7.527362577249073,7.527362577249073,7.804946143332168,7.804946143332168,7.804946143332168,7.804946143332168,7.804946143332168,7.804946143332168,7.804946143332168,7.804946143332168,7.804946143332168,8.082529709415263,8.082529709415263,8.082529709415263,8.082529709415263,8.082529709415263,8.082529709415263,8.082529709415263,8.360113275498358,8.637696841581453,8.637696841581453,8.637696841581453,8.637696841581453,8.915280407664548,8.915280407664548,8.915280407664548,8.915280407664548,8.915280407664548,8.915280407664548,9.192863973747643,9.192863973747643,9.192863973747643,9.470447539830738,9.470447539830738,9.470447539830738,9.470447539830738,9.748031105913835,9.748031105913835,9.748031105913835,10.02561467199693,10.02561467199693,10.02561467199693,10.303198238080023,10.303198238080023,10.303198238080023,10.303198238080023,10.303198238080023,10.58078180416312,10.58078180416312,10.58078180416312,10.58078180416312,10.858365370246215,10.858365370246215,11.13594893632931,11.13594893632931,11.13594893632931,11.413532502412407,11.413532502412407,11.413532502412407,11.413532502412407,11.6911160684955,11.6911160684955,11.6911160684955,11.6911160684955,11.968699634578597,11.968699634578597,11.968699634578597,11.968699634578597,11.968699634578597,12.246283200661692,12.523866766744785,12.523866766744785,12.523866766744785,12.523866766744785,12.523866766744785,12.523866766744785,12.523866766744785,12.523866766744785,12.523866766744785,12.523866766744785,12.801450332827882,12.801450332827882,13.079033898910977,13.079033898910977,13.079033898910977,13.079033898910977,13.356617464994073,13.356617464994073,13.356617464994073,13.356617464994073,13.634201031077167,13.634201031077167,13.634201031077167,13.634201031077167,13.911784597160262,13.911784597160262,13.911784597160262,13.911784597160262,13.911784597160262,14.189368163243358,14.189368163243358,14.189368163243358,14.189368163243358,14.466951729326452,14.466951729326452,14.466951729326452,14.744535295409548,14.744535295409548,14.744535295409548,14.744535295409548,15.022118861492643,15.022118861492643,15.299702427575737,15.299702427575737,15.299702427575737,15.299702427575737,15.577285993658833,15.854869559741926,16.132453125825027,16.132453125825027,16.132453125825027,16.41003669190812,16.687620257991217,16.687620257991217,16.687620257991217,16.687620257991217,16.687620257991217,16.96520382407431,16.96520382407431,17.242787390157407,17.242787390157407,17.242787390157407,17.5203709562405,17.5203709562405,18.63070522057288,18.63070522057288,18.90828878665598,18.90828878665598,19.18587235273907,19.18587235273907,20.018623050988356,20.296206617071455,20.296206617071455,20.57379018315455,20.57379018315455,20.57379018315455,20.85137374923764,20.85137374923764,20.85137374923764,20.85137374923764,21.12895731532074,21.12895731532074,21.406540881403835,21.406540881403835,21.406540881403835,21.68412444748693,21.68412444748693,21.961708013570025,21.961708013570025,22.23929157965312,22.516875145736215,22.516875145736215,22.516875145736215,22.516875145736215,22.794458711819313,23.07204227790241,23.3496258439855,23.3496258439855,23.627209410068595,23.627209410068595,24.18237654223479,24.459960108317883,24.73754367440098,25.01512724048407,25.01512724048407,25.570294372650263,25.570294372650263,26.125461504816453,26.403045070899548,26.403045070899548,26.95821220306574,27.235795769148833,28.068546467398118,28.068546467398118,30.011631429979786,31.677132826478356,31.954716392561448],\"yaxis\":\"y\",\"type\":\"scatter\"}],                        {\"template\":{\"data\":{\"bar\":[{\"error_x\":{\"color\":\"#2a3f5f\"},\"error_y\":{\"color\":\"#2a3f5f\"},\"marker\":{\"line\":{\"color\":\"#E5ECF6\",\"width\":0.5},\"pattern\":{\"fillmode\":\"overlay\",\"size\":10,\"solidity\":0.2}},\"type\":\"bar\"}],\"barpolar\":[{\"marker\":{\"line\":{\"color\":\"#E5ECF6\",\"width\":0.5},\"pattern\":{\"fillmode\":\"overlay\",\"size\":10,\"solidity\":0.2}},\"type\":\"barpolar\"}],\"carpet\":[{\"aaxis\":{\"endlinecolor\":\"#2a3f5f\",\"gridcolor\":\"white\",\"linecolor\":\"white\",\"minorgridcolor\":\"white\",\"startlinecolor\":\"#2a3f5f\"},\"baxis\":{\"endlinecolor\":\"#2a3f5f\",\"gridcolor\":\"white\",\"linecolor\":\"white\",\"minorgridcolor\":\"white\",\"startlinecolor\":\"#2a3f5f\"},\"type\":\"carpet\"}],\"choropleth\":[{\"colorbar\":{\"outlinewidth\":0,\"ticks\":\"\"},\"type\":\"choropleth\"}],\"contour\":[{\"colorbar\":{\"outlinewidth\":0,\"ticks\":\"\"},\"colorscale\":[[0.0,\"#0d0887\"],[0.1111111111111111,\"#46039f\"],[0.2222222222222222,\"#7201a8\"],[0.3333333333333333,\"#9c179e\"],[0.4444444444444444,\"#bd3786\"],[0.5555555555555556,\"#d8576b\"],[0.6666666666666666,\"#ed7953\"],[0.7777777777777778,\"#fb9f3a\"],[0.8888888888888888,\"#fdca26\"],[1.0,\"#f0f921\"]],\"type\":\"contour\"}],\"contourcarpet\":[{\"colorbar\":{\"outlinewidth\":0,\"ticks\":\"\"},\"type\":\"contourcarpet\"}],\"heatmap\":[{\"colorbar\":{\"outlinewidth\":0,\"ticks\":\"\"},\"colorscale\":[[0.0,\"#0d0887\"],[0.1111111111111111,\"#46039f\"],[0.2222222222222222,\"#7201a8\"],[0.3333333333333333,\"#9c179e\"],[0.4444444444444444,\"#bd3786\"],[0.5555555555555556,\"#d8576b\"],[0.6666666666666666,\"#ed7953\"],[0.7777777777777778,\"#fb9f3a\"],[0.8888888888888888,\"#fdca26\"],[1.0,\"#f0f921\"]],\"type\":\"heatmap\"}],\"heatmapgl\":[{\"colorbar\":{\"outlinewidth\":0,\"ticks\":\"\"},\"colorscale\":[[0.0,\"#0d0887\"],[0.1111111111111111,\"#46039f\"],[0.2222222222222222,\"#7201a8\"],[0.3333333333333333,\"#9c179e\"],[0.4444444444444444,\"#bd3786\"],[0.5555555555555556,\"#d8576b\"],[0.6666666666666666,\"#ed7953\"],[0.7777777777777778,\"#fb9f3a\"],[0.8888888888888888,\"#fdca26\"],[1.0,\"#f0f921\"]],\"type\":\"heatmapgl\"}],\"histogram\":[{\"marker\":{\"pattern\":{\"fillmode\":\"overlay\",\"size\":10,\"solidity\":0.2}},\"type\":\"histogram\"}],\"histogram2d\":[{\"colorbar\":{\"outlinewidth\":0,\"ticks\":\"\"},\"colorscale\":[[0.0,\"#0d0887\"],[0.1111111111111111,\"#46039f\"],[0.2222222222222222,\"#7201a8\"],[0.3333333333333333,\"#9c179e\"],[0.4444444444444444,\"#bd3786\"],[0.5555555555555556,\"#d8576b\"],[0.6666666666666666,\"#ed7953\"],[0.7777777777777778,\"#fb9f3a\"],[0.8888888888888888,\"#fdca26\"],[1.0,\"#f0f921\"]],\"type\":\"histogram2d\"}],\"histogram2dcontour\":[{\"colorbar\":{\"outlinewidth\":0,\"ticks\":\"\"},\"colorscale\":[[0.0,\"#0d0887\"],[0.1111111111111111,\"#46039f\"],[0.2222222222222222,\"#7201a8\"],[0.3333333333333333,\"#9c179e\"],[0.4444444444444444,\"#bd3786\"],[0.5555555555555556,\"#d8576b\"],[0.6666666666666666,\"#ed7953\"],[0.7777777777777778,\"#fb9f3a\"],[0.8888888888888888,\"#fdca26\"],[1.0,\"#f0f921\"]],\"type\":\"histogram2dcontour\"}],\"mesh3d\":[{\"colorbar\":{\"outlinewidth\":0,\"ticks\":\"\"},\"type\":\"mesh3d\"}],\"parcoords\":[{\"line\":{\"colorbar\":{\"outlinewidth\":0,\"ticks\":\"\"}},\"type\":\"parcoords\"}],\"pie\":[{\"automargin\":true,\"type\":\"pie\"}],\"scatter\":[{\"marker\":{\"colorbar\":{\"outlinewidth\":0,\"ticks\":\"\"}},\"type\":\"scatter\"}],\"scatter3d\":[{\"line\":{\"colorbar\":{\"outlinewidth\":0,\"ticks\":\"\"}},\"marker\":{\"colorbar\":{\"outlinewidth\":0,\"ticks\":\"\"}},\"type\":\"scatter3d\"}],\"scattercarpet\":[{\"marker\":{\"colorbar\":{\"outlinewidth\":0,\"ticks\":\"\"}},\"type\":\"scattercarpet\"}],\"scattergeo\":[{\"marker\":{\"colorbar\":{\"outlinewidth\":0,\"ticks\":\"\"}},\"type\":\"scattergeo\"}],\"scattergl\":[{\"marker\":{\"colorbar\":{\"outlinewidth\":0,\"ticks\":\"\"}},\"type\":\"scattergl\"}],\"scattermapbox\":[{\"marker\":{\"colorbar\":{\"outlinewidth\":0,\"ticks\":\"\"}},\"type\":\"scattermapbox\"}],\"scatterpolar\":[{\"marker\":{\"colorbar\":{\"outlinewidth\":0,\"ticks\":\"\"}},\"type\":\"scatterpolar\"}],\"scatterpolargl\":[{\"marker\":{\"colorbar\":{\"outlinewidth\":0,\"ticks\":\"\"}},\"type\":\"scatterpolargl\"}],\"scatterternary\":[{\"marker\":{\"colorbar\":{\"outlinewidth\":0,\"ticks\":\"\"}},\"type\":\"scatterternary\"}],\"surface\":[{\"colorbar\":{\"outlinewidth\":0,\"ticks\":\"\"},\"colorscale\":[[0.0,\"#0d0887\"],[0.1111111111111111,\"#46039f\"],[0.2222222222222222,\"#7201a8\"],[0.3333333333333333,\"#9c179e\"],[0.4444444444444444,\"#bd3786\"],[0.5555555555555556,\"#d8576b\"],[0.6666666666666666,\"#ed7953\"],[0.7777777777777778,\"#fb9f3a\"],[0.8888888888888888,\"#fdca26\"],[1.0,\"#f0f921\"]],\"type\":\"surface\"}],\"table\":[{\"cells\":{\"fill\":{\"color\":\"#EBF0F8\"},\"line\":{\"color\":\"white\"}},\"header\":{\"fill\":{\"color\":\"#C8D4E3\"},\"line\":{\"color\":\"white\"}},\"type\":\"table\"}]},\"layout\":{\"annotationdefaults\":{\"arrowcolor\":\"#2a3f5f\",\"arrowhead\":0,\"arrowwidth\":1},\"autotypenumbers\":\"strict\",\"coloraxis\":{\"colorbar\":{\"outlinewidth\":0,\"ticks\":\"\"}},\"colorscale\":{\"diverging\":[[0,\"#8e0152\"],[0.1,\"#c51b7d\"],[0.2,\"#de77ae\"],[0.3,\"#f1b6da\"],[0.4,\"#fde0ef\"],[0.5,\"#f7f7f7\"],[0.6,\"#e6f5d0\"],[0.7,\"#b8e186\"],[0.8,\"#7fbc41\"],[0.9,\"#4d9221\"],[1,\"#276419\"]],\"sequential\":[[0.0,\"#0d0887\"],[0.1111111111111111,\"#46039f\"],[0.2222222222222222,\"#7201a8\"],[0.3333333333333333,\"#9c179e\"],[0.4444444444444444,\"#bd3786\"],[0.5555555555555556,\"#d8576b\"],[0.6666666666666666,\"#ed7953\"],[0.7777777777777778,\"#fb9f3a\"],[0.8888888888888888,\"#fdca26\"],[1.0,\"#f0f921\"]],\"sequentialminus\":[[0.0,\"#0d0887\"],[0.1111111111111111,\"#46039f\"],[0.2222222222222222,\"#7201a8\"],[0.3333333333333333,\"#9c179e\"],[0.4444444444444444,\"#bd3786\"],[0.5555555555555556,\"#d8576b\"],[0.6666666666666666,\"#ed7953\"],[0.7777777777777778,\"#fb9f3a\"],[0.8888888888888888,\"#fdca26\"],[1.0,\"#f0f921\"]]},\"colorway\":[\"#636efa\",\"#EF553B\",\"#00cc96\",\"#ab63fa\",\"#FFA15A\",\"#19d3f3\",\"#FF6692\",\"#B6E880\",\"#FF97FF\",\"#FECB52\"],\"font\":{\"color\":\"#2a3f5f\"},\"geo\":{\"bgcolor\":\"white\",\"lakecolor\":\"white\",\"landcolor\":\"#E5ECF6\",\"showlakes\":true,\"showland\":true,\"subunitcolor\":\"white\"},\"hoverlabel\":{\"align\":\"left\"},\"hovermode\":\"closest\",\"mapbox\":{\"style\":\"light\"},\"paper_bgcolor\":\"white\",\"plot_bgcolor\":\"#E5ECF6\",\"polar\":{\"angularaxis\":{\"gridcolor\":\"white\",\"linecolor\":\"white\",\"ticks\":\"\"},\"bgcolor\":\"#E5ECF6\",\"radialaxis\":{\"gridcolor\":\"white\",\"linecolor\":\"white\",\"ticks\":\"\"}},\"scene\":{\"xaxis\":{\"backgroundcolor\":\"#E5ECF6\",\"gridcolor\":\"white\",\"gridwidth\":2,\"linecolor\":\"white\",\"showbackground\":true,\"ticks\":\"\",\"zerolinecolor\":\"white\"},\"yaxis\":{\"backgroundcolor\":\"#E5ECF6\",\"gridcolor\":\"white\",\"gridwidth\":2,\"linecolor\":\"white\",\"showbackground\":true,\"ticks\":\"\",\"zerolinecolor\":\"white\"},\"zaxis\":{\"backgroundcolor\":\"#E5ECF6\",\"gridcolor\":\"white\",\"gridwidth\":2,\"linecolor\":\"white\",\"showbackground\":true,\"ticks\":\"\",\"zerolinecolor\":\"white\"}},\"shapedefaults\":{\"line\":{\"color\":\"#2a3f5f\"}},\"ternary\":{\"aaxis\":{\"gridcolor\":\"white\",\"linecolor\":\"white\",\"ticks\":\"\"},\"baxis\":{\"gridcolor\":\"white\",\"linecolor\":\"white\",\"ticks\":\"\"},\"bgcolor\":\"#E5ECF6\",\"caxis\":{\"gridcolor\":\"white\",\"linecolor\":\"white\",\"ticks\":\"\"}},\"title\":{\"x\":0.05},\"xaxis\":{\"automargin\":true,\"gridcolor\":\"white\",\"linecolor\":\"white\",\"ticks\":\"\",\"title\":{\"standoff\":15},\"zerolinecolor\":\"white\",\"zerolinewidth\":2},\"yaxis\":{\"automargin\":true,\"gridcolor\":\"white\",\"linecolor\":\"white\",\"ticks\":\"\",\"title\":{\"standoff\":15},\"zerolinecolor\":\"white\",\"zerolinewidth\":2}}},\"xaxis\":{\"anchor\":\"y\",\"domain\":[0.0,1.0],\"title\":{\"text\":\"FGM\"}},\"yaxis\":{\"anchor\":\"x\",\"domain\":[0.0,1.0],\"title\":{\"text\":\"PTS\"}},\"legend\":{\"tracegroupgap\":0,\"itemsizing\":\"constant\"},\"margin\":{\"t\":60}},                        {\"responsive\": true}                    ).then(function(){\n",
       "                            \n",
       "var gd = document.getElementById('4b8d6e1c-c4dc-4fec-beb7-11abda5c4d1b');\n",
       "var x = new MutationObserver(function (mutations, observer) {{\n",
       "        var display = window.getComputedStyle(gd).display;\n",
       "        if (!display || display === 'none') {{\n",
       "            console.log([gd, 'removed!']);\n",
       "            Plotly.purge(gd);\n",
       "            observer.disconnect();\n",
       "        }}\n",
       "}});\n",
       "\n",
       "// Listen for the removal of the full notebook cells\n",
       "var notebookContainer = gd.closest('#notebook-container');\n",
       "if (notebookContainer) {{\n",
       "    x.observe(notebookContainer, {childList: true});\n",
       "}}\n",
       "\n",
       "// Listen for the clearing of the current output cell\n",
       "var outputEl = gd.closest('.output');\n",
       "if (outputEl) {{\n",
       "    x.observe(outputEl, {childList: true});\n",
       "}}\n",
       "\n",
       "                        })                };                });            </script>        </div>"
      ]
     },
     "metadata": {},
     "output_type": "display_data"
    }
   ],
   "source": [
    "import plotly.express as px\n",
    "\n",
    "# Visualize the relationship between Field Goals Made (FGM) and Points (PTS)\n",
    "figure = px.scatter(data_frame=df, x='FGM', y='PTS', size='PTS', trendline='ols')\n",
    "figure.show()\n"
   ]
  },
  {
   "cell_type": "code",
   "execution_count": 47,
   "metadata": {},
   "outputs": [
    {
     "data": {
      "application/vnd.plotly.v1+json": {
       "config": {
        "plotlyServerURL": "https://plot.ly"
       },
       "data": [
        {
         "hovertemplate": "FTM=%{x}<br>PTS=%{marker.size}<extra></extra>",
         "legendgroup": "",
         "marker": {
          "color": "#636efa",
          "size": [
           34.2,
           31.1,
           30.8,
           28.4,
           28.2,
           28,
           27.6,
           27.5,
           27.1,
           26.8,
           26.7,
           26.3,
           26.1,
           25.7,
           24.9,
           24.8,
           24.6,
           24.1,
           24,
           23.4,
           23,
           22.7,
           22.5,
           22.5,
           22.4,
           22.3,
           22,
           22,
           21.9,
           21.8,
           21.8,
           21.7,
           21.7,
           21.5,
           21.4,
           21.4,
           21.2,
           21.2,
           21.1,
           20.6,
           20.5,
           20.5,
           20.2,
           20.2,
           20.1,
           20.1,
           19.6,
           19.2,
           19.2,
           19,
           18.9,
           18,
           17.9,
           17.7,
           17.5,
           17.5,
           17.5,
           17.3,
           17.3,
           17.3,
           17.2,
           16.9,
           16.7,
           16.6,
           16.5,
           16.1,
           15.9,
           15.8,
           15.7,
           15.7,
           15.6,
           15.6,
           15.6,
           15.5,
           15.5,
           15.3,
           15.3,
           15.1,
           14.8,
           14.8,
           14.4,
           14.3,
           14.2,
           14.1,
           14,
           14,
           13.8,
           13.8,
           13.7,
           13.7,
           13.7,
           13.6,
           13.5,
           13.4,
           13.4,
           13.3,
           13.3,
           13.2,
           13.1,
           13,
           12.9,
           12.9,
           12.8,
           12.7,
           12.7,
           12.6,
           12.6,
           12.6,
           12.6,
           12.5,
           12.4,
           12.3,
           12.2,
           12.2,
           12.2,
           12.2,
           12,
           12,
           11.9,
           11.9,
           11.8,
           11.7,
           11.5,
           11.5,
           11.5,
           11.5,
           11.4,
           11.4,
           11.4,
           11.3,
           11.1,
           11.1,
           11,
           11,
           10.9,
           10.8,
           10.7,
           10.7,
           10.6,
           10.6,
           10.4,
           10.2,
           10.1,
           10,
           10,
           9.9,
           9.9,
           9.8,
           9.7,
           9.6,
           9.6,
           9.6,
           9.6,
           9.6,
           9.4,
           9.3,
           9,
           9,
           9,
           9,
           8.9,
           8.9,
           8.7,
           8.7,
           8.6,
           8.5,
           8.5,
           8.3,
           8.3,
           8.3,
           8.2,
           8.2,
           8.2,
           8.2,
           8.1,
           8.1,
           8.1,
           8,
           8,
           8,
           7.8,
           7.8,
           7.6,
           7.6,
           7.5,
           7.4,
           7.4,
           7.4,
           7.3,
           7.3,
           7.2,
           7.1,
           7.1,
           7,
           7,
           7,
           6.9,
           6.9,
           6.9,
           6.9,
           6.8,
           6.6,
           6.5,
           6.4,
           6.3,
           6.3,
           6.3,
           6.2,
           6.2,
           6.1,
           6.1,
           6,
           5.9,
           5.9,
           5.9,
           5.9,
           5.8,
           5.7,
           5.6,
           5.6,
           5.5,
           5.4,
           5.3,
           5.3,
           5.2,
           5.2,
           5.1,
           5,
           5,
           5,
           4.9,
           4.9,
           4.9,
           4.8,
           4.7,
           4.7,
           4.7,
           4.5,
           4.4,
           4.4,
           4.4,
           4.3,
           4.1,
           4.1,
           3.9,
           3.9,
           3.7,
           3.6,
           3.6,
           3.4,
           3.3,
           3.2,
           3,
           2.5
          ],
          "sizemode": "area",
          "sizeref": 0.0855,
          "symbol": "circle"
         },
         "mode": "markers",
         "name": "",
         "orientation": "v",
         "showlegend": false,
         "type": "scatter",
         "x": [
          7.3,
          8,
          7.1,
          5.4,
          5.5,
          4.7,
          5.3,
          6.1,
          5.6,
          4.6,
          6.8,
          5.5,
          4.6,
          4.8,
          5.6,
          4.1,
          7,
          3.8,
          5.1,
          4.3,
          5.1,
          6.1,
          4.3,
          3.4,
          4.7,
          5,
          3,
          3.8,
          3.8,
          2.5,
          3.1,
          4.9,
          3.9,
          2.7,
          2.8,
          3.9,
          3.8,
          3.9,
          3.9,
          3.3,
          3.9,
          2.7,
          4.8,
          4.9,
          3.4,
          3.3,
          2.7,
          3.7,
          2.7,
          1.9,
          2.5,
          3.6,
          4.1,
          3.1,
          1.4,
          4.3,
          2,
          1.8,
          2.3,
          3.3,
          3.3,
          1.7,
          2.5,
          1.9,
          2.6,
          2.6,
          1,
          3.2,
          2.4,
          2,
          2.5,
          2.1,
          2.7,
          3,
          2.7,
          1.6,
          2.9,
          2.3,
          1.3,
          1.8,
          2.1,
          1.8,
          2.1,
          3,
          2.1,
          1.8,
          2.4,
          2.4,
          3.4,
          2.3,
          1.1,
          0.9,
          2.6,
          2.4,
          1.8,
          1.3,
          1.5,
          1.7,
          1.1,
          1.4,
          2.8,
          2,
          1.7,
          0.6,
          1.3,
          1.3,
          0.5,
          2.8,
          0.9,
          1.8,
          2.5,
          1.5,
          1.1,
          1.9,
          1.5,
          0.9,
          1.3,
          1.6,
          1.8,
          2.7,
          2.3,
          2.3,
          1.8,
          1.8,
          0.6,
          1.2,
          0.3,
          1.6,
          1.5,
          1.8,
          1.9,
          2.2,
          1.2,
          1.7,
          0.9,
          0.7,
          0.7,
          1,
          1.6,
          1.2,
          0.8,
          1.7,
          0.9,
          1.6,
          1.2,
          0.8,
          1.2,
          1.2,
          2.1,
          2,
          1.4,
          0.7,
          1.3,
          1.3,
          1.5,
          0.7,
          0.7,
          0.8,
          1.5,
          1.7,
          0.6,
          1,
          0.4,
          1,
          1.1,
          0.7,
          0.9,
          1.7,
          1.4,
          0.9,
          0.8,
          1.2,
          0.8,
          1.6,
          0.5,
          0.3,
          1.5,
          1.2,
          0.6,
          0.4,
          0.9,
          0.9,
          0.7,
          0.8,
          1.4,
          1.5,
          0.9,
          0.3,
          0.5,
          0.7,
          0.8,
          1.4,
          0.6,
          1,
          0.5,
          1.3,
          1.3,
          0.8,
          0.9,
          1.3,
          0.4,
          0.6,
          0.9,
          1.1,
          1.8,
          1.3,
          1,
          0.8,
          0.5,
          1.3,
          1,
          0.9,
          1,
          0.5,
          0.2,
          0.5,
          0.8,
          1,
          0.3,
          1,
          0.6,
          0.3,
          0.3,
          0.3,
          0.4,
          0.6,
          0.1,
          0.7,
          1.4,
          0.9,
          0.7,
          0.8,
          0.8,
          0.4,
          0.4,
          0.5,
          0.5,
          0.6,
          0.4,
          0.6,
          0.5,
          0.1,
          1.3,
          0.6,
          0.4,
          0.3,
          0.5,
          0.6,
          0.3,
          0.4,
          0.8,
          0.1,
          0.2,
          0.2
         ],
         "xaxis": "x",
         "y": [
          34.2,
          31.1,
          30.8,
          28.4,
          28.2,
          28,
          27.6,
          27.5,
          27.1,
          26.8,
          26.7,
          26.3,
          26.1,
          25.7,
          24.9,
          24.8,
          24.6,
          24.1,
          24,
          23.4,
          23,
          22.7,
          22.5,
          22.5,
          22.4,
          22.3,
          22,
          22,
          21.9,
          21.8,
          21.8,
          21.7,
          21.7,
          21.5,
          21.4,
          21.4,
          21.2,
          21.2,
          21.1,
          20.6,
          20.5,
          20.5,
          20.2,
          20.2,
          20.1,
          20.1,
          19.6,
          19.2,
          19.2,
          19,
          18.9,
          18,
          17.9,
          17.7,
          17.5,
          17.5,
          17.5,
          17.3,
          17.3,
          17.3,
          17.2,
          16.9,
          16.7,
          16.6,
          16.5,
          16.1,
          15.9,
          15.8,
          15.7,
          15.7,
          15.6,
          15.6,
          15.6,
          15.5,
          15.5,
          15.3,
          15.3,
          15.1,
          14.8,
          14.8,
          14.4,
          14.3,
          14.2,
          14.1,
          14,
          14,
          13.8,
          13.8,
          13.7,
          13.7,
          13.7,
          13.6,
          13.5,
          13.4,
          13.4,
          13.3,
          13.3,
          13.2,
          13.1,
          13,
          12.9,
          12.9,
          12.8,
          12.7,
          12.7,
          12.6,
          12.6,
          12.6,
          12.6,
          12.5,
          12.4,
          12.3,
          12.2,
          12.2,
          12.2,
          12.2,
          12,
          12,
          11.9,
          11.9,
          11.8,
          11.7,
          11.5,
          11.5,
          11.5,
          11.5,
          11.4,
          11.4,
          11.4,
          11.3,
          11.1,
          11.1,
          11,
          11,
          10.9,
          10.8,
          10.7,
          10.7,
          10.6,
          10.6,
          10.4,
          10.2,
          10.1,
          10,
          10,
          9.9,
          9.9,
          9.8,
          9.7,
          9.6,
          9.6,
          9.6,
          9.6,
          9.6,
          9.4,
          9.3,
          9,
          9,
          9,
          9,
          8.9,
          8.9,
          8.7,
          8.7,
          8.6,
          8.5,
          8.5,
          8.3,
          8.3,
          8.3,
          8.2,
          8.2,
          8.2,
          8.2,
          8.1,
          8.1,
          8.1,
          8,
          8,
          8,
          7.8,
          7.8,
          7.6,
          7.6,
          7.5,
          7.4,
          7.4,
          7.4,
          7.3,
          7.3,
          7.2,
          7.1,
          7.1,
          7,
          7,
          7,
          6.9,
          6.9,
          6.9,
          6.9,
          6.8,
          6.6,
          6.5,
          6.4,
          6.3,
          6.3,
          6.3,
          6.2,
          6.2,
          6.1,
          6.1,
          6,
          5.9,
          5.9,
          5.9,
          5.9,
          5.8,
          5.7,
          5.6,
          5.6,
          5.5,
          5.4,
          5.3,
          5.3,
          5.2,
          5.2,
          5.1,
          5,
          5,
          5,
          4.9,
          4.9,
          4.9,
          4.8,
          4.7,
          4.7,
          4.7,
          4.5,
          4.4,
          4.4,
          4.4,
          4.3,
          4.1,
          4.1,
          3.9,
          3.9,
          3.7,
          3.6,
          3.6,
          3.4,
          3.3,
          3.2,
          3,
          2.5
         ],
         "yaxis": "y"
        },
        {
         "hovertemplate": "<b>OLS trendline</b><br>PTS = 3.87794 * FTM + 5.0143<br>R<sup>2</sup>=0.829177<br><br>FTM=%{x}<br>PTS=%{y} <b>(trend)</b><extra></extra>",
         "legendgroup": "",
         "marker": {
          "color": "#636efa",
          "symbol": "circle"
         },
         "mode": "lines",
         "name": "",
         "showlegend": false,
         "type": "scatter",
         "x": [
          0.1,
          0.1,
          0.1,
          0.2,
          0.2,
          0.2,
          0.3,
          0.3,
          0.3,
          0.3,
          0.3,
          0.3,
          0.3,
          0.3,
          0.3,
          0.4,
          0.4,
          0.4,
          0.4,
          0.4,
          0.4,
          0.4,
          0.4,
          0.4,
          0.5,
          0.5,
          0.5,
          0.5,
          0.5,
          0.5,
          0.5,
          0.5,
          0.5,
          0.5,
          0.5,
          0.6,
          0.6,
          0.6,
          0.6,
          0.6,
          0.6,
          0.6,
          0.6,
          0.6,
          0.6,
          0.6,
          0.6,
          0.7,
          0.7,
          0.7,
          0.7,
          0.7,
          0.7,
          0.7,
          0.7,
          0.7,
          0.7,
          0.8,
          0.8,
          0.8,
          0.8,
          0.8,
          0.8,
          0.8,
          0.8,
          0.8,
          0.8,
          0.8,
          0.8,
          0.8,
          0.9,
          0.9,
          0.9,
          0.9,
          0.9,
          0.9,
          0.9,
          0.9,
          0.9,
          0.9,
          0.9,
          0.9,
          0.9,
          0.9,
          1,
          1,
          1,
          1,
          1,
          1,
          1,
          1,
          1,
          1,
          1.1,
          1.1,
          1.1,
          1.1,
          1.1,
          1.2,
          1.2,
          1.2,
          1.2,
          1.2,
          1.2,
          1.2,
          1.2,
          1.3,
          1.3,
          1.3,
          1.3,
          1.3,
          1.3,
          1.3,
          1.3,
          1.3,
          1.3,
          1.3,
          1.3,
          1.3,
          1.4,
          1.4,
          1.4,
          1.4,
          1.4,
          1.4,
          1.4,
          1.5,
          1.5,
          1.5,
          1.5,
          1.5,
          1.5,
          1.5,
          1.5,
          1.6,
          1.6,
          1.6,
          1.6,
          1.6,
          1.6,
          1.7,
          1.7,
          1.7,
          1.7,
          1.7,
          1.7,
          1.7,
          1.8,
          1.8,
          1.8,
          1.8,
          1.8,
          1.8,
          1.8,
          1.8,
          1.8,
          1.8,
          1.8,
          1.9,
          1.9,
          1.9,
          1.9,
          2,
          2,
          2,
          2,
          2.1,
          2.1,
          2.1,
          2.1,
          2.1,
          2.2,
          2.3,
          2.3,
          2.3,
          2.3,
          2.3,
          2.4,
          2.4,
          2.4,
          2.4,
          2.5,
          2.5,
          2.5,
          2.5,
          2.5,
          2.6,
          2.6,
          2.6,
          2.7,
          2.7,
          2.7,
          2.7,
          2.7,
          2.7,
          2.7,
          2.8,
          2.8,
          2.8,
          2.9,
          3,
          3,
          3,
          3.1,
          3.1,
          3.2,
          3.3,
          3.3,
          3.3,
          3.3,
          3.4,
          3.4,
          3.4,
          3.6,
          3.7,
          3.8,
          3.8,
          3.8,
          3.8,
          3.9,
          3.9,
          3.9,
          3.9,
          3.9,
          4.1,
          4.1,
          4.3,
          4.3,
          4.3,
          4.6,
          4.6,
          4.7,
          4.7,
          4.8,
          4.8,
          4.9,
          4.9,
          5,
          5.1,
          5.1,
          5.3,
          5.4,
          5.5,
          5.5,
          5.6,
          5.6,
          6.1,
          6.1,
          6.8,
          7,
          7.1,
          7.3,
          8
         ],
         "xaxis": "x",
         "y": [
          5.4020979215057965,
          5.4020979215057965,
          5.4020979215057965,
          5.789892147979998,
          5.789892147979998,
          5.789892147979998,
          6.177686374454199,
          6.177686374454199,
          6.177686374454199,
          6.177686374454199,
          6.177686374454199,
          6.177686374454199,
          6.177686374454199,
          6.177686374454199,
          6.177686374454199,
          6.5654806009284,
          6.5654806009284,
          6.5654806009284,
          6.5654806009284,
          6.5654806009284,
          6.5654806009284,
          6.5654806009284,
          6.5654806009284,
          6.5654806009284,
          6.953274827402601,
          6.953274827402601,
          6.953274827402601,
          6.953274827402601,
          6.953274827402601,
          6.953274827402601,
          6.953274827402601,
          6.953274827402601,
          6.953274827402601,
          6.953274827402601,
          6.953274827402601,
          7.341069053876803,
          7.341069053876803,
          7.341069053876803,
          7.341069053876803,
          7.341069053876803,
          7.341069053876803,
          7.341069053876803,
          7.341069053876803,
          7.341069053876803,
          7.341069053876803,
          7.341069053876803,
          7.341069053876803,
          7.728863280351003,
          7.728863280351003,
          7.728863280351003,
          7.728863280351003,
          7.728863280351003,
          7.728863280351003,
          7.728863280351003,
          7.728863280351003,
          7.728863280351003,
          7.728863280351003,
          8.116657506825204,
          8.116657506825204,
          8.116657506825204,
          8.116657506825204,
          8.116657506825204,
          8.116657506825204,
          8.116657506825204,
          8.116657506825204,
          8.116657506825204,
          8.116657506825204,
          8.116657506825204,
          8.116657506825204,
          8.116657506825204,
          8.504451733299405,
          8.504451733299405,
          8.504451733299405,
          8.504451733299405,
          8.504451733299405,
          8.504451733299405,
          8.504451733299405,
          8.504451733299405,
          8.504451733299405,
          8.504451733299405,
          8.504451733299405,
          8.504451733299405,
          8.504451733299405,
          8.504451733299405,
          8.892245959773607,
          8.892245959773607,
          8.892245959773607,
          8.892245959773607,
          8.892245959773607,
          8.892245959773607,
          8.892245959773607,
          8.892245959773607,
          8.892245959773607,
          8.892245959773607,
          9.280040186247808,
          9.280040186247808,
          9.280040186247808,
          9.280040186247808,
          9.280040186247808,
          9.667834412722009,
          9.667834412722009,
          9.667834412722009,
          9.667834412722009,
          9.667834412722009,
          9.667834412722009,
          9.667834412722009,
          9.667834412722009,
          10.05562863919621,
          10.05562863919621,
          10.05562863919621,
          10.05562863919621,
          10.05562863919621,
          10.05562863919621,
          10.05562863919621,
          10.05562863919621,
          10.05562863919621,
          10.05562863919621,
          10.05562863919621,
          10.05562863919621,
          10.05562863919621,
          10.44342286567041,
          10.44342286567041,
          10.44342286567041,
          10.44342286567041,
          10.44342286567041,
          10.44342286567041,
          10.44342286567041,
          10.831217092144612,
          10.831217092144612,
          10.831217092144612,
          10.831217092144612,
          10.831217092144612,
          10.831217092144612,
          10.831217092144612,
          10.831217092144612,
          11.219011318618813,
          11.219011318618813,
          11.219011318618813,
          11.219011318618813,
          11.219011318618813,
          11.219011318618813,
          11.606805545093014,
          11.606805545093014,
          11.606805545093014,
          11.606805545093014,
          11.606805545093014,
          11.606805545093014,
          11.606805545093014,
          11.994599771567215,
          11.994599771567215,
          11.994599771567215,
          11.994599771567215,
          11.994599771567215,
          11.994599771567215,
          11.994599771567215,
          11.994599771567215,
          11.994599771567215,
          11.994599771567215,
          11.994599771567215,
          12.382393998041415,
          12.382393998041415,
          12.382393998041415,
          12.382393998041415,
          12.770188224515618,
          12.770188224515618,
          12.770188224515618,
          12.770188224515618,
          13.157982450989817,
          13.157982450989817,
          13.157982450989817,
          13.157982450989817,
          13.157982450989817,
          13.54577667746402,
          13.933570903938218,
          13.933570903938218,
          13.933570903938218,
          13.933570903938218,
          13.933570903938218,
          14.32136513041242,
          14.32136513041242,
          14.32136513041242,
          14.32136513041242,
          14.709159356886623,
          14.709159356886623,
          14.709159356886623,
          14.709159356886623,
          14.709159356886623,
          15.096953583360822,
          15.096953583360822,
          15.096953583360822,
          15.484747809835024,
          15.484747809835024,
          15.484747809835024,
          15.484747809835024,
          15.484747809835024,
          15.484747809835024,
          15.484747809835024,
          15.872542036309223,
          15.872542036309223,
          15.872542036309223,
          16.260336262783426,
          16.64813048925763,
          16.64813048925763,
          16.64813048925763,
          17.035924715731827,
          17.035924715731827,
          17.42371894220603,
          17.81151316868023,
          17.81151316868023,
          17.81151316868023,
          17.81151316868023,
          18.19930739515443,
          18.19930739515443,
          18.19930739515443,
          18.974895848102832,
          19.362690074577035,
          19.750484301051234,
          19.750484301051234,
          19.750484301051234,
          19.750484301051234,
          20.138278527525436,
          20.138278527525436,
          20.138278527525436,
          20.138278527525436,
          20.138278527525436,
          20.913866980473838,
          20.913866980473838,
          21.689455433422243,
          21.689455433422243,
          21.689455433422243,
          22.852838112844843,
          22.852838112844843,
          23.240632339319045,
          23.240632339319045,
          23.628426565793248,
          23.628426565793248,
          24.01622079226745,
          24.01622079226745,
          24.40401501874165,
          24.79180924521585,
          24.79180924521585,
          25.567397698164253,
          25.955191924638456,
          26.342986151112655,
          26.342986151112655,
          26.730780377586854,
          26.730780377586854,
          28.66975150995786,
          28.66975150995786,
          31.38431109527727,
          32.15989954822567,
          32.547693774699866,
          33.32328222764827,
          36.03784181296768
         ],
         "yaxis": "y"
        }
       ],
       "layout": {
        "autosize": true,
        "legend": {
         "itemsizing": "constant",
         "tracegroupgap": 0
        },
        "margin": {
         "t": 60
        },
        "template": {
         "data": {
          "bar": [
           {
            "error_x": {
             "color": "#2a3f5f"
            },
            "error_y": {
             "color": "#2a3f5f"
            },
            "marker": {
             "line": {
              "color": "#E5ECF6",
              "width": 0.5
             },
             "pattern": {
              "fillmode": "overlay",
              "size": 10,
              "solidity": 0.2
             }
            },
            "type": "bar"
           }
          ],
          "barpolar": [
           {
            "marker": {
             "line": {
              "color": "#E5ECF6",
              "width": 0.5
             },
             "pattern": {
              "fillmode": "overlay",
              "size": 10,
              "solidity": 0.2
             }
            },
            "type": "barpolar"
           }
          ],
          "carpet": [
           {
            "aaxis": {
             "endlinecolor": "#2a3f5f",
             "gridcolor": "white",
             "linecolor": "white",
             "minorgridcolor": "white",
             "startlinecolor": "#2a3f5f"
            },
            "baxis": {
             "endlinecolor": "#2a3f5f",
             "gridcolor": "white",
             "linecolor": "white",
             "minorgridcolor": "white",
             "startlinecolor": "#2a3f5f"
            },
            "type": "carpet"
           }
          ],
          "choropleth": [
           {
            "colorbar": {
             "outlinewidth": 0,
             "ticks": ""
            },
            "type": "choropleth"
           }
          ],
          "contour": [
           {
            "colorbar": {
             "outlinewidth": 0,
             "ticks": ""
            },
            "colorscale": [
             [
              0,
              "#0d0887"
             ],
             [
              0.1111111111111111,
              "#46039f"
             ],
             [
              0.2222222222222222,
              "#7201a8"
             ],
             [
              0.3333333333333333,
              "#9c179e"
             ],
             [
              0.4444444444444444,
              "#bd3786"
             ],
             [
              0.5555555555555556,
              "#d8576b"
             ],
             [
              0.6666666666666666,
              "#ed7953"
             ],
             [
              0.7777777777777778,
              "#fb9f3a"
             ],
             [
              0.8888888888888888,
              "#fdca26"
             ],
             [
              1,
              "#f0f921"
             ]
            ],
            "type": "contour"
           }
          ],
          "contourcarpet": [
           {
            "colorbar": {
             "outlinewidth": 0,
             "ticks": ""
            },
            "type": "contourcarpet"
           }
          ],
          "heatmap": [
           {
            "colorbar": {
             "outlinewidth": 0,
             "ticks": ""
            },
            "colorscale": [
             [
              0,
              "#0d0887"
             ],
             [
              0.1111111111111111,
              "#46039f"
             ],
             [
              0.2222222222222222,
              "#7201a8"
             ],
             [
              0.3333333333333333,
              "#9c179e"
             ],
             [
              0.4444444444444444,
              "#bd3786"
             ],
             [
              0.5555555555555556,
              "#d8576b"
             ],
             [
              0.6666666666666666,
              "#ed7953"
             ],
             [
              0.7777777777777778,
              "#fb9f3a"
             ],
             [
              0.8888888888888888,
              "#fdca26"
             ],
             [
              1,
              "#f0f921"
             ]
            ],
            "type": "heatmap"
           }
          ],
          "heatmapgl": [
           {
            "colorbar": {
             "outlinewidth": 0,
             "ticks": ""
            },
            "colorscale": [
             [
              0,
              "#0d0887"
             ],
             [
              0.1111111111111111,
              "#46039f"
             ],
             [
              0.2222222222222222,
              "#7201a8"
             ],
             [
              0.3333333333333333,
              "#9c179e"
             ],
             [
              0.4444444444444444,
              "#bd3786"
             ],
             [
              0.5555555555555556,
              "#d8576b"
             ],
             [
              0.6666666666666666,
              "#ed7953"
             ],
             [
              0.7777777777777778,
              "#fb9f3a"
             ],
             [
              0.8888888888888888,
              "#fdca26"
             ],
             [
              1,
              "#f0f921"
             ]
            ],
            "type": "heatmapgl"
           }
          ],
          "histogram": [
           {
            "marker": {
             "pattern": {
              "fillmode": "overlay",
              "size": 10,
              "solidity": 0.2
             }
            },
            "type": "histogram"
           }
          ],
          "histogram2d": [
           {
            "colorbar": {
             "outlinewidth": 0,
             "ticks": ""
            },
            "colorscale": [
             [
              0,
              "#0d0887"
             ],
             [
              0.1111111111111111,
              "#46039f"
             ],
             [
              0.2222222222222222,
              "#7201a8"
             ],
             [
              0.3333333333333333,
              "#9c179e"
             ],
             [
              0.4444444444444444,
              "#bd3786"
             ],
             [
              0.5555555555555556,
              "#d8576b"
             ],
             [
              0.6666666666666666,
              "#ed7953"
             ],
             [
              0.7777777777777778,
              "#fb9f3a"
             ],
             [
              0.8888888888888888,
              "#fdca26"
             ],
             [
              1,
              "#f0f921"
             ]
            ],
            "type": "histogram2d"
           }
          ],
          "histogram2dcontour": [
           {
            "colorbar": {
             "outlinewidth": 0,
             "ticks": ""
            },
            "colorscale": [
             [
              0,
              "#0d0887"
             ],
             [
              0.1111111111111111,
              "#46039f"
             ],
             [
              0.2222222222222222,
              "#7201a8"
             ],
             [
              0.3333333333333333,
              "#9c179e"
             ],
             [
              0.4444444444444444,
              "#bd3786"
             ],
             [
              0.5555555555555556,
              "#d8576b"
             ],
             [
              0.6666666666666666,
              "#ed7953"
             ],
             [
              0.7777777777777778,
              "#fb9f3a"
             ],
             [
              0.8888888888888888,
              "#fdca26"
             ],
             [
              1,
              "#f0f921"
             ]
            ],
            "type": "histogram2dcontour"
           }
          ],
          "mesh3d": [
           {
            "colorbar": {
             "outlinewidth": 0,
             "ticks": ""
            },
            "type": "mesh3d"
           }
          ],
          "parcoords": [
           {
            "line": {
             "colorbar": {
              "outlinewidth": 0,
              "ticks": ""
             }
            },
            "type": "parcoords"
           }
          ],
          "pie": [
           {
            "automargin": true,
            "type": "pie"
           }
          ],
          "scatter": [
           {
            "marker": {
             "colorbar": {
              "outlinewidth": 0,
              "ticks": ""
             }
            },
            "type": "scatter"
           }
          ],
          "scatter3d": [
           {
            "line": {
             "colorbar": {
              "outlinewidth": 0,
              "ticks": ""
             }
            },
            "marker": {
             "colorbar": {
              "outlinewidth": 0,
              "ticks": ""
             }
            },
            "type": "scatter3d"
           }
          ],
          "scattercarpet": [
           {
            "marker": {
             "colorbar": {
              "outlinewidth": 0,
              "ticks": ""
             }
            },
            "type": "scattercarpet"
           }
          ],
          "scattergeo": [
           {
            "marker": {
             "colorbar": {
              "outlinewidth": 0,
              "ticks": ""
             }
            },
            "type": "scattergeo"
           }
          ],
          "scattergl": [
           {
            "marker": {
             "colorbar": {
              "outlinewidth": 0,
              "ticks": ""
             }
            },
            "type": "scattergl"
           }
          ],
          "scattermapbox": [
           {
            "marker": {
             "colorbar": {
              "outlinewidth": 0,
              "ticks": ""
             }
            },
            "type": "scattermapbox"
           }
          ],
          "scatterpolar": [
           {
            "marker": {
             "colorbar": {
              "outlinewidth": 0,
              "ticks": ""
             }
            },
            "type": "scatterpolar"
           }
          ],
          "scatterpolargl": [
           {
            "marker": {
             "colorbar": {
              "outlinewidth": 0,
              "ticks": ""
             }
            },
            "type": "scatterpolargl"
           }
          ],
          "scatterternary": [
           {
            "marker": {
             "colorbar": {
              "outlinewidth": 0,
              "ticks": ""
             }
            },
            "type": "scatterternary"
           }
          ],
          "surface": [
           {
            "colorbar": {
             "outlinewidth": 0,
             "ticks": ""
            },
            "colorscale": [
             [
              0,
              "#0d0887"
             ],
             [
              0.1111111111111111,
              "#46039f"
             ],
             [
              0.2222222222222222,
              "#7201a8"
             ],
             [
              0.3333333333333333,
              "#9c179e"
             ],
             [
              0.4444444444444444,
              "#bd3786"
             ],
             [
              0.5555555555555556,
              "#d8576b"
             ],
             [
              0.6666666666666666,
              "#ed7953"
             ],
             [
              0.7777777777777778,
              "#fb9f3a"
             ],
             [
              0.8888888888888888,
              "#fdca26"
             ],
             [
              1,
              "#f0f921"
             ]
            ],
            "type": "surface"
           }
          ],
          "table": [
           {
            "cells": {
             "fill": {
              "color": "#EBF0F8"
             },
             "line": {
              "color": "white"
             }
            },
            "header": {
             "fill": {
              "color": "#C8D4E3"
             },
             "line": {
              "color": "white"
             }
            },
            "type": "table"
           }
          ]
         },
         "layout": {
          "annotationdefaults": {
           "arrowcolor": "#2a3f5f",
           "arrowhead": 0,
           "arrowwidth": 1
          },
          "autotypenumbers": "strict",
          "coloraxis": {
           "colorbar": {
            "outlinewidth": 0,
            "ticks": ""
           }
          },
          "colorscale": {
           "diverging": [
            [
             0,
             "#8e0152"
            ],
            [
             0.1,
             "#c51b7d"
            ],
            [
             0.2,
             "#de77ae"
            ],
            [
             0.3,
             "#f1b6da"
            ],
            [
             0.4,
             "#fde0ef"
            ],
            [
             0.5,
             "#f7f7f7"
            ],
            [
             0.6,
             "#e6f5d0"
            ],
            [
             0.7,
             "#b8e186"
            ],
            [
             0.8,
             "#7fbc41"
            ],
            [
             0.9,
             "#4d9221"
            ],
            [
             1,
             "#276419"
            ]
           ],
           "sequential": [
            [
             0,
             "#0d0887"
            ],
            [
             0.1111111111111111,
             "#46039f"
            ],
            [
             0.2222222222222222,
             "#7201a8"
            ],
            [
             0.3333333333333333,
             "#9c179e"
            ],
            [
             0.4444444444444444,
             "#bd3786"
            ],
            [
             0.5555555555555556,
             "#d8576b"
            ],
            [
             0.6666666666666666,
             "#ed7953"
            ],
            [
             0.7777777777777778,
             "#fb9f3a"
            ],
            [
             0.8888888888888888,
             "#fdca26"
            ],
            [
             1,
             "#f0f921"
            ]
           ],
           "sequentialminus": [
            [
             0,
             "#0d0887"
            ],
            [
             0.1111111111111111,
             "#46039f"
            ],
            [
             0.2222222222222222,
             "#7201a8"
            ],
            [
             0.3333333333333333,
             "#9c179e"
            ],
            [
             0.4444444444444444,
             "#bd3786"
            ],
            [
             0.5555555555555556,
             "#d8576b"
            ],
            [
             0.6666666666666666,
             "#ed7953"
            ],
            [
             0.7777777777777778,
             "#fb9f3a"
            ],
            [
             0.8888888888888888,
             "#fdca26"
            ],
            [
             1,
             "#f0f921"
            ]
           ]
          },
          "colorway": [
           "#636efa",
           "#EF553B",
           "#00cc96",
           "#ab63fa",
           "#FFA15A",
           "#19d3f3",
           "#FF6692",
           "#B6E880",
           "#FF97FF",
           "#FECB52"
          ],
          "font": {
           "color": "#2a3f5f"
          },
          "geo": {
           "bgcolor": "white",
           "lakecolor": "white",
           "landcolor": "#E5ECF6",
           "showlakes": true,
           "showland": true,
           "subunitcolor": "white"
          },
          "hoverlabel": {
           "align": "left"
          },
          "hovermode": "closest",
          "mapbox": {
           "style": "light"
          },
          "paper_bgcolor": "white",
          "plot_bgcolor": "#E5ECF6",
          "polar": {
           "angularaxis": {
            "gridcolor": "white",
            "linecolor": "white",
            "ticks": ""
           },
           "bgcolor": "#E5ECF6",
           "radialaxis": {
            "gridcolor": "white",
            "linecolor": "white",
            "ticks": ""
           }
          },
          "scene": {
           "xaxis": {
            "backgroundcolor": "#E5ECF6",
            "gridcolor": "white",
            "gridwidth": 2,
            "linecolor": "white",
            "showbackground": true,
            "ticks": "",
            "zerolinecolor": "white"
           },
           "yaxis": {
            "backgroundcolor": "#E5ECF6",
            "gridcolor": "white",
            "gridwidth": 2,
            "linecolor": "white",
            "showbackground": true,
            "ticks": "",
            "zerolinecolor": "white"
           },
           "zaxis": {
            "backgroundcolor": "#E5ECF6",
            "gridcolor": "white",
            "gridwidth": 2,
            "linecolor": "white",
            "showbackground": true,
            "ticks": "",
            "zerolinecolor": "white"
           }
          },
          "shapedefaults": {
           "line": {
            "color": "#2a3f5f"
           }
          },
          "ternary": {
           "aaxis": {
            "gridcolor": "white",
            "linecolor": "white",
            "ticks": ""
           },
           "baxis": {
            "gridcolor": "white",
            "linecolor": "white",
            "ticks": ""
           },
           "bgcolor": "#E5ECF6",
           "caxis": {
            "gridcolor": "white",
            "linecolor": "white",
            "ticks": ""
           }
          },
          "title": {
           "x": 0.05
          },
          "xaxis": {
           "automargin": true,
           "gridcolor": "white",
           "linecolor": "white",
           "ticks": "",
           "title": {
            "standoff": 15
           },
           "zerolinecolor": "white",
           "zerolinewidth": 2
          },
          "yaxis": {
           "automargin": true,
           "gridcolor": "white",
           "linecolor": "white",
           "ticks": "",
           "title": {
            "standoff": 15
           },
           "zerolinecolor": "white",
           "zerolinewidth": 2
          }
         }
        },
        "xaxis": {
         "anchor": "y",
         "autorange": true,
         "domain": [
          0,
          1
         ],
         "range": [
          -0.42676355956365497,
          8.63502207756428
         ],
         "title": {
          "text": "FTM"
         },
         "type": "linear"
        },
        "yaxis": {
         "anchor": "x",
         "autorange": true,
         "domain": [
          0,
          1
         ],
         "range": [
          -0.22162647116784262,
          38.97715319318195
         ],
         "title": {
          "text": "PTS"
         },
         "type": "linear"
        }
       }
      },
      "image/png": "[encoded data removed]",
      "text/html": [
       "<div>                            <div id=\"c5cc7ec5-1d9c-47b0-9859-d9794aad403c\" class=\"plotly-graph-div\" style=\"height:525px; width:100%;\"></div>            <script type=\"text/javascript\">                require([\"plotly\"], function(Plotly) {                    window.PLOTLYENV=window.PLOTLYENV || {};                                    if (document.getElementById(\"c5cc7ec5-1d9c-47b0-9859-d9794aad403c\")) {                    Plotly.newPlot(                        \"c5cc7ec5-1d9c-47b0-9859-d9794aad403c\",                        [{\"hovertemplate\":\"FTM=%{x}<br>PTS=%{marker.size}<extra></extra>\",\"legendgroup\":\"\",\"marker\":{\"color\":\"#636efa\",\"size\":[34.2,31.1,30.8,28.4,28.2,28.0,27.6,27.5,27.1,26.8,26.7,26.3,26.1,25.7,24.9,24.8,24.6,24.1,24.0,23.4,23.0,22.7,22.5,22.5,22.4,22.3,22.0,22.0,21.9,21.8,21.8,21.7,21.7,21.5,21.4,21.4,21.2,21.2,21.1,20.6,20.5,20.5,20.2,20.2,20.1,20.1,19.6,19.2,19.2,19.0,18.9,18.0,17.9,17.7,17.5,17.5,17.5,17.3,17.3,17.3,17.2,16.9,16.7,16.6,16.5,16.1,15.9,15.8,15.7,15.7,15.6,15.6,15.6,15.5,15.5,15.3,15.3,15.1,14.8,14.8,14.4,14.3,14.2,14.1,14.0,14.0,13.8,13.8,13.7,13.7,13.7,13.6,13.5,13.4,13.4,13.3,13.3,13.2,13.1,13.0,12.9,12.9,12.8,12.7,12.7,12.6,12.6,12.6,12.6,12.5,12.4,12.3,12.2,12.2,12.2,12.2,12.0,12.0,11.9,11.9,11.8,11.7,11.5,11.5,11.5,11.5,11.4,11.4,11.4,11.3,11.1,11.1,11.0,11.0,10.9,10.8,10.7,10.7,10.6,10.6,10.4,10.2,10.1,10.0,10.0,9.9,9.9,9.8,9.7,9.6,9.6,9.6,9.6,9.6,9.4,9.3,9.0,9.0,9.0,9.0,8.9,8.9,8.7,8.7,8.6,8.5,8.5,8.3,8.3,8.3,8.2,8.2,8.2,8.2,8.1,8.1,8.1,8.0,8.0,8.0,7.8,7.8,7.6,7.6,7.5,7.4,7.4,7.4,7.3,7.3,7.2,7.1,7.1,7.0,7.0,7.0,6.9,6.9,6.9,6.9,6.8,6.6,6.5,6.4,6.3,6.3,6.3,6.2,6.2,6.1,6.1,6.0,5.9,5.9,5.9,5.9,5.8,5.7,5.6,5.6,5.5,5.4,5.3,5.3,5.2,5.2,5.1,5.0,5.0,5.0,4.9,4.9,4.9,4.8,4.7,4.7,4.7,4.5,4.4,4.4,4.4,4.3,4.1,4.1,3.9,3.9,3.7,3.6,3.6,3.4,3.3,3.2,3.0,2.5],\"sizemode\":\"area\",\"sizeref\":0.0855,\"symbol\":\"circle\"},\"mode\":\"markers\",\"name\":\"\",\"orientation\":\"v\",\"showlegend\":false,\"x\":[7.3,8.0,7.1,5.4,5.5,4.7,5.3,6.1,5.6,4.6,6.8,5.5,4.6,4.8,5.6,4.1,7.0,3.8,5.1,4.3,5.1,6.1,4.3,3.4,4.7,5.0,3.0,3.8,3.8,2.5,3.1,4.9,3.9,2.7,2.8,3.9,3.8,3.9,3.9,3.3,3.9,2.7,4.8,4.9,3.4,3.3,2.7,3.7,2.7,1.9,2.5,3.6,4.1,3.1,1.4,4.3,2.0,1.8,2.3,3.3,3.3,1.7,2.5,1.9,2.6,2.6,1.0,3.2,2.4,2.0,2.5,2.1,2.7,3.0,2.7,1.6,2.9,2.3,1.3,1.8,2.1,1.8,2.1,3.0,2.1,1.8,2.4,2.4,3.4,2.3,1.1,0.9,2.6,2.4,1.8,1.3,1.5,1.7,1.1,1.4,2.8,2.0,1.7,0.6,1.3,1.3,0.5,2.8,0.9,1.8,2.5,1.5,1.1,1.9,1.5,0.9,1.3,1.6,1.8,2.7,2.3,2.3,1.8,1.8,0.6,1.2,0.3,1.6,1.5,1.8,1.9,2.2,1.2,1.7,0.9,0.7,0.7,1.0,1.6,1.2,0.8,1.7,0.9,1.6,1.2,0.8,1.2,1.2,2.1,2.0,1.4,0.7,1.3,1.3,1.5,0.7,0.7,0.8,1.5,1.7,0.6,1.0,0.4,1.0,1.1,0.7,0.9,1.7,1.4,0.9,0.8,1.2,0.8,1.6,0.5,0.3,1.5,1.2,0.6,0.4,0.9,0.9,0.7,0.8,1.4,1.5,0.9,0.3,0.5,0.7,0.8,1.4,0.6,1.0,0.5,1.3,1.3,0.8,0.9,1.3,0.4,0.6,0.9,1.1,1.8,1.3,1.0,0.8,0.5,1.3,1.0,0.9,1.0,0.5,0.2,0.5,0.8,1.0,0.3,1.0,0.6,0.3,0.3,0.3,0.4,0.6,0.1,0.7,1.4,0.9,0.7,0.8,0.8,0.4,0.4,0.5,0.5,0.6,0.4,0.6,0.5,0.1,1.3,0.6,0.4,0.3,0.5,0.6,0.3,0.4,0.8,0.1,0.2,0.2],\"xaxis\":\"x\",\"y\":[34.2,31.1,30.8,28.4,28.2,28.0,27.6,27.5,27.1,26.8,26.7,26.3,26.1,25.7,24.9,24.8,24.6,24.1,24.0,23.4,23.0,22.7,22.5,22.5,22.4,22.3,22.0,22.0,21.9,21.8,21.8,21.7,21.7,21.5,21.4,21.4,21.2,21.2,21.1,20.6,20.5,20.5,20.2,20.2,20.1,20.1,19.6,19.2,19.2,19.0,18.9,18.0,17.9,17.7,17.5,17.5,17.5,17.3,17.3,17.3,17.2,16.9,16.7,16.6,16.5,16.1,15.9,15.8,15.7,15.7,15.6,15.6,15.6,15.5,15.5,15.3,15.3,15.1,14.8,14.8,14.4,14.3,14.2,14.1,14.0,14.0,13.8,13.8,13.7,13.7,13.7,13.6,13.5,13.4,13.4,13.3,13.3,13.2,13.1,13.0,12.9,12.9,12.8,12.7,12.7,12.6,12.6,12.6,12.6,12.5,12.4,12.3,12.2,12.2,12.2,12.2,12.0,12.0,11.9,11.9,11.8,11.7,11.5,11.5,11.5,11.5,11.4,11.4,11.4,11.3,11.1,11.1,11.0,11.0,10.9,10.8,10.7,10.7,10.6,10.6,10.4,10.2,10.1,10.0,10.0,9.9,9.9,9.8,9.7,9.6,9.6,9.6,9.6,9.6,9.4,9.3,9.0,9.0,9.0,9.0,8.9,8.9,8.7,8.7,8.6,8.5,8.5,8.3,8.3,8.3,8.2,8.2,8.2,8.2,8.1,8.1,8.1,8.0,8.0,8.0,7.8,7.8,7.6,7.6,7.5,7.4,7.4,7.4,7.3,7.3,7.2,7.1,7.1,7.0,7.0,7.0,6.9,6.9,6.9,6.9,6.8,6.6,6.5,6.4,6.3,6.3,6.3,6.2,6.2,6.1,6.1,6.0,5.9,5.9,5.9,5.9,5.8,5.7,5.6,5.6,5.5,5.4,5.3,5.3,5.2,5.2,5.1,5.0,5.0,5.0,4.9,4.9,4.9,4.8,4.7,4.7,4.7,4.5,4.4,4.4,4.4,4.3,4.1,4.1,3.9,3.9,3.7,3.6,3.6,3.4,3.3,3.2,3.0,2.5],\"yaxis\":\"y\",\"type\":\"scatter\"},{\"hovertemplate\":\"<b>OLS trendline</b><br>PTS = 3.87794 * FTM + 5.0143<br>R<sup>2</sup>=0.829177<br><br>FTM=%{x}<br>PTS=%{y} <b>(trend)</b><extra></extra>\",\"legendgroup\":\"\",\"marker\":{\"color\":\"#636efa\",\"symbol\":\"circle\"},\"mode\":\"lines\",\"name\":\"\",\"showlegend\":false,\"x\":[0.1,0.1,0.1,0.2,0.2,0.2,0.3,0.3,0.3,0.3,0.3,0.3,0.3,0.3,0.3,0.4,0.4,0.4,0.4,0.4,0.4,0.4,0.4,0.4,0.5,0.5,0.5,0.5,0.5,0.5,0.5,0.5,0.5,0.5,0.5,0.6,0.6,0.6,0.6,0.6,0.6,0.6,0.6,0.6,0.6,0.6,0.6,0.7,0.7,0.7,0.7,0.7,0.7,0.7,0.7,0.7,0.7,0.8,0.8,0.8,0.8,0.8,0.8,0.8,0.8,0.8,0.8,0.8,0.8,0.8,0.9,0.9,0.9,0.9,0.9,0.9,0.9,0.9,0.9,0.9,0.9,0.9,0.9,0.9,1.0,1.0,1.0,1.0,1.0,1.0,1.0,1.0,1.0,1.0,1.1,1.1,1.1,1.1,1.1,1.2,1.2,1.2,1.2,1.2,1.2,1.2,1.2,1.3,1.3,1.3,1.3,1.3,1.3,1.3,1.3,1.3,1.3,1.3,1.3,1.3,1.4,1.4,1.4,1.4,1.4,1.4,1.4,1.5,1.5,1.5,1.5,1.5,1.5,1.5,1.5,1.6,1.6,1.6,1.6,1.6,1.6,1.7,1.7,1.7,1.7,1.7,1.7,1.7,1.8,1.8,1.8,1.8,1.8,1.8,1.8,1.8,1.8,1.8,1.8,1.9,1.9,1.9,1.9,2.0,2.0,2.0,2.0,2.1,2.1,2.1,2.1,2.1,2.2,2.3,2.3,2.3,2.3,2.3,2.4,2.4,2.4,2.4,2.5,2.5,2.5,2.5,2.5,2.6,2.6,2.6,2.7,2.7,2.7,2.7,2.7,2.7,2.7,2.8,2.8,2.8,2.9,3.0,3.0,3.0,3.1,3.1,3.2,3.3,3.3,3.3,3.3,3.4,3.4,3.4,3.6,3.7,3.8,3.8,3.8,3.8,3.9,3.9,3.9,3.9,3.9,4.1,4.1,4.3,4.3,4.3,4.6,4.6,4.7,4.7,4.8,4.8,4.9,4.9,5.0,5.1,5.1,5.3,5.4,5.5,5.5,5.6,5.6,6.1,6.1,6.8,7.0,7.1,7.3,8.0],\"xaxis\":\"x\",\"y\":[5.4020979215057965,5.4020979215057965,5.4020979215057965,5.789892147979998,5.789892147979998,5.789892147979998,6.177686374454199,6.177686374454199,6.177686374454199,6.177686374454199,6.177686374454199,6.177686374454199,6.177686374454199,6.177686374454199,6.177686374454199,6.5654806009284,6.5654806009284,6.5654806009284,6.5654806009284,6.5654806009284,6.5654806009284,6.5654806009284,6.5654806009284,6.5654806009284,6.953274827402601,6.953274827402601,6.953274827402601,6.953274827402601,6.953274827402601,6.953274827402601,6.953274827402601,6.953274827402601,6.953274827402601,6.953274827402601,6.953274827402601,7.341069053876803,7.341069053876803,7.341069053876803,7.341069053876803,7.341069053876803,7.341069053876803,7.341069053876803,7.341069053876803,7.341069053876803,7.341069053876803,7.341069053876803,7.341069053876803,7.728863280351003,7.728863280351003,7.728863280351003,7.728863280351003,7.728863280351003,7.728863280351003,7.728863280351003,7.728863280351003,7.728863280351003,7.728863280351003,8.116657506825204,8.116657506825204,8.116657506825204,8.116657506825204,8.116657506825204,8.116657506825204,8.116657506825204,8.116657506825204,8.116657506825204,8.116657506825204,8.116657506825204,8.116657506825204,8.116657506825204,8.504451733299405,8.504451733299405,8.504451733299405,8.504451733299405,8.504451733299405,8.504451733299405,8.504451733299405,8.504451733299405,8.504451733299405,8.504451733299405,8.504451733299405,8.504451733299405,8.504451733299405,8.504451733299405,8.892245959773607,8.892245959773607,8.892245959773607,8.892245959773607,8.892245959773607,8.892245959773607,8.892245959773607,8.892245959773607,8.892245959773607,8.892245959773607,9.280040186247808,9.280040186247808,9.280040186247808,9.280040186247808,9.280040186247808,9.667834412722009,9.667834412722009,9.667834412722009,9.667834412722009,9.667834412722009,9.667834412722009,9.667834412722009,9.667834412722009,10.05562863919621,10.05562863919621,10.05562863919621,10.05562863919621,10.05562863919621,10.05562863919621,10.05562863919621,10.05562863919621,10.05562863919621,10.05562863919621,10.05562863919621,10.05562863919621,10.05562863919621,10.44342286567041,10.44342286567041,10.44342286567041,10.44342286567041,10.44342286567041,10.44342286567041,10.44342286567041,10.831217092144612,10.831217092144612,10.831217092144612,10.831217092144612,10.831217092144612,10.831217092144612,10.831217092144612,10.831217092144612,11.219011318618813,11.219011318618813,11.219011318618813,11.219011318618813,11.219011318618813,11.219011318618813,11.606805545093014,11.606805545093014,11.606805545093014,11.606805545093014,11.606805545093014,11.606805545093014,11.606805545093014,11.994599771567215,11.994599771567215,11.994599771567215,11.994599771567215,11.994599771567215,11.994599771567215,11.994599771567215,11.994599771567215,11.994599771567215,11.994599771567215,11.994599771567215,12.382393998041415,12.382393998041415,12.382393998041415,12.382393998041415,12.770188224515618,12.770188224515618,12.770188224515618,12.770188224515618,13.157982450989817,13.157982450989817,13.157982450989817,13.157982450989817,13.157982450989817,13.54577667746402,13.933570903938218,13.933570903938218,13.933570903938218,13.933570903938218,13.933570903938218,14.32136513041242,14.32136513041242,14.32136513041242,14.32136513041242,14.709159356886623,14.709159356886623,14.709159356886623,14.709159356886623,14.709159356886623,15.096953583360822,15.096953583360822,15.096953583360822,15.484747809835024,15.484747809835024,15.484747809835024,15.484747809835024,15.484747809835024,15.484747809835024,15.484747809835024,15.872542036309223,15.872542036309223,15.872542036309223,16.260336262783426,16.64813048925763,16.64813048925763,16.64813048925763,17.035924715731827,17.035924715731827,17.42371894220603,17.81151316868023,17.81151316868023,17.81151316868023,17.81151316868023,18.19930739515443,18.19930739515443,18.19930739515443,18.974895848102832,19.362690074577035,19.750484301051234,19.750484301051234,19.750484301051234,19.750484301051234,20.138278527525436,20.138278527525436,20.138278527525436,20.138278527525436,20.138278527525436,20.913866980473838,20.913866980473838,21.689455433422243,21.689455433422243,21.689455433422243,22.852838112844843,22.852838112844843,23.240632339319045,23.240632339319045,23.628426565793248,23.628426565793248,24.01622079226745,24.01622079226745,24.40401501874165,24.79180924521585,24.79180924521585,25.567397698164253,25.955191924638456,26.342986151112655,26.342986151112655,26.730780377586854,26.730780377586854,28.66975150995786,28.66975150995786,31.38431109527727,32.15989954822567,32.547693774699866,33.32328222764827,36.03784181296768],\"yaxis\":\"y\",\"type\":\"scatter\"}],                        {\"template\":{\"data\":{\"bar\":[{\"error_x\":{\"color\":\"#2a3f5f\"},\"error_y\":{\"color\":\"#2a3f5f\"},\"marker\":{\"line\":{\"color\":\"#E5ECF6\",\"width\":0.5},\"pattern\":{\"fillmode\":\"overlay\",\"size\":10,\"solidity\":0.2}},\"type\":\"bar\"}],\"barpolar\":[{\"marker\":{\"line\":{\"color\":\"#E5ECF6\",\"width\":0.5},\"pattern\":{\"fillmode\":\"overlay\",\"size\":10,\"solidity\":0.2}},\"type\":\"barpolar\"}],\"carpet\":[{\"aaxis\":{\"endlinecolor\":\"#2a3f5f\",\"gridcolor\":\"white\",\"linecolor\":\"white\",\"minorgridcolor\":\"white\",\"startlinecolor\":\"#2a3f5f\"},\"baxis\":{\"endlinecolor\":\"#2a3f5f\",\"gridcolor\":\"white\",\"linecolor\":\"white\",\"minorgridcolor\":\"white\",\"startlinecolor\":\"#2a3f5f\"},\"type\":\"carpet\"}],\"choropleth\":[{\"colorbar\":{\"outlinewidth\":0,\"ticks\":\"\"},\"type\":\"choropleth\"}],\"contour\":[{\"colorbar\":{\"outlinewidth\":0,\"ticks\":\"\"},\"colorscale\":[[0.0,\"#0d0887\"],[0.1111111111111111,\"#46039f\"],[0.2222222222222222,\"#7201a8\"],[0.3333333333333333,\"#9c179e\"],[0.4444444444444444,\"#bd3786\"],[0.5555555555555556,\"#d8576b\"],[0.6666666666666666,\"#ed7953\"],[0.7777777777777778,\"#fb9f3a\"],[0.8888888888888888,\"#fdca26\"],[1.0,\"#f0f921\"]],\"type\":\"contour\"}],\"contourcarpet\":[{\"colorbar\":{\"outlinewidth\":0,\"ticks\":\"\"},\"type\":\"contourcarpet\"}],\"heatmap\":[{\"colorbar\":{\"outlinewidth\":0,\"ticks\":\"\"},\"colorscale\":[[0.0,\"#0d0887\"],[0.1111111111111111,\"#46039f\"],[0.2222222222222222,\"#7201a8\"],[0.3333333333333333,\"#9c179e\"],[0.4444444444444444,\"#bd3786\"],[0.5555555555555556,\"#d8576b\"],[0.6666666666666666,\"#ed7953\"],[0.7777777777777778,\"#fb9f3a\"],[0.8888888888888888,\"#fdca26\"],[1.0,\"#f0f921\"]],\"type\":\"heatmap\"}],\"heatmapgl\":[{\"colorbar\":{\"outlinewidth\":0,\"ticks\":\"\"},\"colorscale\":[[0.0,\"#0d0887\"],[0.1111111111111111,\"#46039f\"],[0.2222222222222222,\"#7201a8\"],[0.3333333333333333,\"#9c179e\"],[0.4444444444444444,\"#bd3786\"],[0.5555555555555556,\"#d8576b\"],[0.6666666666666666,\"#ed7953\"],[0.7777777777777778,\"#fb9f3a\"],[0.8888888888888888,\"#fdca26\"],[1.0,\"#f0f921\"]],\"type\":\"heatmapgl\"}],\"histogram\":[{\"marker\":{\"pattern\":{\"fillmode\":\"overlay\",\"size\":10,\"solidity\":0.2}},\"type\":\"histogram\"}],\"histogram2d\":[{\"colorbar\":{\"outlinewidth\":0,\"ticks\":\"\"},\"colorscale\":[[0.0,\"#0d0887\"],[0.1111111111111111,\"#46039f\"],[0.2222222222222222,\"#7201a8\"],[0.3333333333333333,\"#9c179e\"],[0.4444444444444444,\"#bd3786\"],[0.5555555555555556,\"#d8576b\"],[0.6666666666666666,\"#ed7953\"],[0.7777777777777778,\"#fb9f3a\"],[0.8888888888888888,\"#fdca26\"],[1.0,\"#f0f921\"]],\"type\":\"histogram2d\"}],\"histogram2dcontour\":[{\"colorbar\":{\"outlinewidth\":0,\"ticks\":\"\"},\"colorscale\":[[0.0,\"#0d0887\"],[0.1111111111111111,\"#46039f\"],[0.2222222222222222,\"#7201a8\"],[0.3333333333333333,\"#9c179e\"],[0.4444444444444444,\"#bd3786\"],[0.5555555555555556,\"#d8576b\"],[0.6666666666666666,\"#ed7953\"],[0.7777777777777778,\"#fb9f3a\"],[0.8888888888888888,\"#fdca26\"],[1.0,\"#f0f921\"]],\"type\":\"histogram2dcontour\"}],\"mesh3d\":[{\"colorbar\":{\"outlinewidth\":0,\"ticks\":\"\"},\"type\":\"mesh3d\"}],\"parcoords\":[{\"line\":{\"colorbar\":{\"outlinewidth\":0,\"ticks\":\"\"}},\"type\":\"parcoords\"}],\"pie\":[{\"automargin\":true,\"type\":\"pie\"}],\"scatter\":[{\"marker\":{\"colorbar\":{\"outlinewidth\":0,\"ticks\":\"\"}},\"type\":\"scatter\"}],\"scatter3d\":[{\"line\":{\"colorbar\":{\"outlinewidth\":0,\"ticks\":\"\"}},\"marker\":{\"colorbar\":{\"outlinewidth\":0,\"ticks\":\"\"}},\"type\":\"scatter3d\"}],\"scattercarpet\":[{\"marker\":{\"colorbar\":{\"outlinewidth\":0,\"ticks\":\"\"}},\"type\":\"scattercarpet\"}],\"scattergeo\":[{\"marker\":{\"colorbar\":{\"outlinewidth\":0,\"ticks\":\"\"}},\"type\":\"scattergeo\"}],\"scattergl\":[{\"marker\":{\"colorbar\":{\"outlinewidth\":0,\"ticks\":\"\"}},\"type\":\"scattergl\"}],\"scattermapbox\":[{\"marker\":{\"colorbar\":{\"outlinewidth\":0,\"ticks\":\"\"}},\"type\":\"scattermapbox\"}],\"scatterpolar\":[{\"marker\":{\"colorbar\":{\"outlinewidth\":0,\"ticks\":\"\"}},\"type\":\"scatterpolar\"}],\"scatterpolargl\":[{\"marker\":{\"colorbar\":{\"outlinewidth\":0,\"ticks\":\"\"}},\"type\":\"scatterpolargl\"}],\"scatterternary\":[{\"marker\":{\"colorbar\":{\"outlinewidth\":0,\"ticks\":\"\"}},\"type\":\"scatterternary\"}],\"surface\":[{\"colorbar\":{\"outlinewidth\":0,\"ticks\":\"\"},\"colorscale\":[[0.0,\"#0d0887\"],[0.1111111111111111,\"#46039f\"],[0.2222222222222222,\"#7201a8\"],[0.3333333333333333,\"#9c179e\"],[0.4444444444444444,\"#bd3786\"],[0.5555555555555556,\"#d8576b\"],[0.6666666666666666,\"#ed7953\"],[0.7777777777777778,\"#fb9f3a\"],[0.8888888888888888,\"#fdca26\"],[1.0,\"#f0f921\"]],\"type\":\"surface\"}],\"table\":[{\"cells\":{\"fill\":{\"color\":\"#EBF0F8\"},\"line\":{\"color\":\"white\"}},\"header\":{\"fill\":{\"color\":\"#C8D4E3\"},\"line\":{\"color\":\"white\"}},\"type\":\"table\"}]},\"layout\":{\"annotationdefaults\":{\"arrowcolor\":\"#2a3f5f\",\"arrowhead\":0,\"arrowwidth\":1},\"autotypenumbers\":\"strict\",\"coloraxis\":{\"colorbar\":{\"outlinewidth\":0,\"ticks\":\"\"}},\"colorscale\":{\"diverging\":[[0,\"#8e0152\"],[0.1,\"#c51b7d\"],[0.2,\"#de77ae\"],[0.3,\"#f1b6da\"],[0.4,\"#fde0ef\"],[0.5,\"#f7f7f7\"],[0.6,\"#e6f5d0\"],[0.7,\"#b8e186\"],[0.8,\"#7fbc41\"],[0.9,\"#4d9221\"],[1,\"#276419\"]],\"sequential\":[[0.0,\"#0d0887\"],[0.1111111111111111,\"#46039f\"],[0.2222222222222222,\"#7201a8\"],[0.3333333333333333,\"#9c179e\"],[0.4444444444444444,\"#bd3786\"],[0.5555555555555556,\"#d8576b\"],[0.6666666666666666,\"#ed7953\"],[0.7777777777777778,\"#fb9f3a\"],[0.8888888888888888,\"#fdca26\"],[1.0,\"#f0f921\"]],\"sequentialminus\":[[0.0,\"#0d0887\"],[0.1111111111111111,\"#46039f\"],[0.2222222222222222,\"#7201a8\"],[0.3333333333333333,\"#9c179e\"],[0.4444444444444444,\"#bd3786\"],[0.5555555555555556,\"#d8576b\"],[0.6666666666666666,\"#ed7953\"],[0.7777777777777778,\"#fb9f3a\"],[0.8888888888888888,\"#fdca26\"],[1.0,\"#f0f921\"]]},\"colorway\":[\"#636efa\",\"#EF553B\",\"#00cc96\",\"#ab63fa\",\"#FFA15A\",\"#19d3f3\",\"#FF6692\",\"#B6E880\",\"#FF97FF\",\"#FECB52\"],\"font\":{\"color\":\"#2a3f5f\"},\"geo\":{\"bgcolor\":\"white\",\"lakecolor\":\"white\",\"landcolor\":\"#E5ECF6\",\"showlakes\":true,\"showland\":true,\"subunitcolor\":\"white\"},\"hoverlabel\":{\"align\":\"left\"},\"hovermode\":\"closest\",\"mapbox\":{\"style\":\"light\"},\"paper_bgcolor\":\"white\",\"plot_bgcolor\":\"#E5ECF6\",\"polar\":{\"angularaxis\":{\"gridcolor\":\"white\",\"linecolor\":\"white\",\"ticks\":\"\"},\"bgcolor\":\"#E5ECF6\",\"radialaxis\":{\"gridcolor\":\"white\",\"linecolor\":\"white\",\"ticks\":\"\"}},\"scene\":{\"xaxis\":{\"backgroundcolor\":\"#E5ECF6\",\"gridcolor\":\"white\",\"gridwidth\":2,\"linecolor\":\"white\",\"showbackground\":true,\"ticks\":\"\",\"zerolinecolor\":\"white\"},\"yaxis\":{\"backgroundcolor\":\"#E5ECF6\",\"gridcolor\":\"white\",\"gridwidth\":2,\"linecolor\":\"white\",\"showbackground\":true,\"ticks\":\"\",\"zerolinecolor\":\"white\"},\"zaxis\":{\"backgroundcolor\":\"#E5ECF6\",\"gridcolor\":\"white\",\"gridwidth\":2,\"linecolor\":\"white\",\"showbackground\":true,\"ticks\":\"\",\"zerolinecolor\":\"white\"}},\"shapedefaults\":{\"line\":{\"color\":\"#2a3f5f\"}},\"ternary\":{\"aaxis\":{\"gridcolor\":\"white\",\"linecolor\":\"white\",\"ticks\":\"\"},\"baxis\":{\"gridcolor\":\"white\",\"linecolor\":\"white\",\"ticks\":\"\"},\"bgcolor\":\"#E5ECF6\",\"caxis\":{\"gridcolor\":\"white\",\"linecolor\":\"white\",\"ticks\":\"\"}},\"title\":{\"x\":0.05},\"xaxis\":{\"automargin\":true,\"gridcolor\":\"white\",\"linecolor\":\"white\",\"ticks\":\"\",\"title\":{\"standoff\":15},\"zerolinecolor\":\"white\",\"zerolinewidth\":2},\"yaxis\":{\"automargin\":true,\"gridcolor\":\"white\",\"linecolor\":\"white\",\"ticks\":\"\",\"title\":{\"standoff\":15},\"zerolinecolor\":\"white\",\"zerolinewidth\":2}}},\"xaxis\":{\"anchor\":\"y\",\"domain\":[0.0,1.0],\"title\":{\"text\":\"FTM\"}},\"yaxis\":{\"anchor\":\"x\",\"domain\":[0.0,1.0],\"title\":{\"text\":\"PTS\"}},\"legend\":{\"tracegroupgap\":0,\"itemsizing\":\"constant\"},\"margin\":{\"t\":60}},                        {\"responsive\": true}                    ).then(function(){\n",
       "                            \n",
       "var gd = document.getElementById('c5cc7ec5-1d9c-47b0-9859-d9794aad403c');\n",
       "var x = new MutationObserver(function (mutations, observer) {{\n",
       "        var display = window.getComputedStyle(gd).display;\n",
       "        if (!display || display === 'none') {{\n",
       "            console.log([gd, 'removed!']);\n",
       "            Plotly.purge(gd);\n",
       "            observer.disconnect();\n",
       "        }}\n",
       "}});\n",
       "\n",
       "// Listen for the removal of the full notebook cells\n",
       "var notebookContainer = gd.closest('#notebook-container');\n",
       "if (notebookContainer) {{\n",
       "    x.observe(notebookContainer, {childList: true});\n",
       "}}\n",
       "\n",
       "// Listen for the clearing of the current output cell\n",
       "var outputEl = gd.closest('.output');\n",
       "if (outputEl) {{\n",
       "    x.observe(outputEl, {childList: true});\n",
       "}}\n",
       "\n",
       "                        })                };                });            </script>        </div>"
      ]
     },
     "metadata": {},
     "output_type": "display_data"
    }
   ],
   "source": [
    "# Visualize the relationship between Field Throws Made (FGM) and Points (PTS)\n",
    "figure = px.scatter(data_frame=df, x='FTM', y='PTS', size='PTS', trendline='ols')\n",
    "figure.show()"
   ]
  },
  {
   "cell_type": "code",
   "execution_count": 49,
   "metadata": {},
   "outputs": [
    {
     "data": {
      "application/vnd.plotly.v1+json": {
       "config": {
        "plotlyServerURL": "https://plot.ly"
       },
       "data": [
        {
         "hovertemplate": "3PM=%{x}<br>PTS=%{marker.size}<extra></extra>",
         "legendgroup": "",
         "marker": {
          "color": "#636efa",
          "size": [
           34.2,
           31.1,
           30.8,
           28.4,
           28.2,
           28,
           27.6,
           27.5,
           27.1,
           26.8,
           26.7,
           26.3,
           26.1,
           25.7,
           24.9,
           24.8,
           24.6,
           24.1,
           24,
           23.4,
           23,
           22.7,
           22.5,
           22.5,
           22.4,
           22.3,
           22,
           22,
           21.9,
           21.8,
           21.8,
           21.7,
           21.7,
           21.5,
           21.4,
           21.4,
           21.2,
           21.2,
           21.1,
           20.6,
           20.5,
           20.5,
           20.2,
           20.2,
           20.1,
           20.1,
           19.6,
           19.2,
           19.2,
           19,
           18.9,
           18,
           17.9,
           17.7,
           17.5,
           17.5,
           17.5,
           17.3,
           17.3,
           17.3,
           17.2,
           16.9,
           16.7,
           16.6,
           16.5,
           16.1,
           15.9,
           15.8,
           15.7,
           15.7,
           15.6,
           15.6,
           15.6,
           15.5,
           15.5,
           15.3,
           15.3,
           15.1,
           14.8,
           14.8,
           14.4,
           14.3,
           14.2,
           14.1,
           14,
           14,
           13.8,
           13.8,
           13.7,
           13.7,
           13.7,
           13.6,
           13.5,
           13.4,
           13.4,
           13.3,
           13.3,
           13.2,
           13.1,
           13,
           12.9,
           12.9,
           12.8,
           12.7,
           12.7,
           12.6,
           12.6,
           12.6,
           12.6,
           12.5,
           12.4,
           12.3,
           12.2,
           12.2,
           12.2,
           12.2,
           12,
           12,
           11.9,
           11.9,
           11.8,
           11.7,
           11.5,
           11.5,
           11.5,
           11.5,
           11.4,
           11.4,
           11.4,
           11.3,
           11.1,
           11.1,
           11,
           11,
           10.9,
           10.8,
           10.7,
           10.7,
           10.6,
           10.6,
           10.4,
           10.2,
           10.1,
           10,
           10,
           9.9,
           9.9,
           9.8,
           9.7,
           9.6,
           9.6,
           9.6,
           9.6,
           9.6,
           9.4,
           9.3,
           9,
           9,
           9,
           9,
           8.9,
           8.9,
           8.7,
           8.7,
           8.6,
           8.5,
           8.5,
           8.3,
           8.3,
           8.3,
           8.2,
           8.2,
           8.2,
           8.2,
           8.1,
           8.1,
           8.1,
           8,
           8,
           8,
           7.8,
           7.8,
           7.6,
           7.6,
           7.5,
           7.4,
           7.4,
           7.4,
           7.3,
           7.3,
           7.2,
           7.1,
           7.1,
           7,
           7,
           7,
           6.9,
           6.9,
           6.9,
           6.9,
           6.8,
           6.6,
           6.5,
           6.4,
           6.3,
           6.3,
           6.3,
           6.2,
           6.2,
           6.1,
           6.1,
           6,
           5.9,
           5.9,
           5.9,
           5.9,
           5.8,
           5.7,
           5.6,
           5.6,
           5.5,
           5.4,
           5.3,
           5.3,
           5.2,
           5.2,
           5.1,
           5,
           5,
           5,
           4.9,
           4.9,
           4.9,
           4.8,
           4.7,
           4.7,
           4.7,
           4.5,
           4.4,
           4.4,
           4.4,
           4.3,
           4.1,
           4.1,
           3.9,
           3.9,
           3.7,
           3.6,
           3.6,
           3.4,
           3.3,
           3.2,
           3,
           2.5
          ],
          "sizemode": "area",
          "sizeref": 0.0855,
          "symbol": "circle"
         },
         "mode": "markers",
         "name": "",
         "orientation": "v",
         "showlegend": false,
         "type": "scatter",
         "x": [
          3.9,
          1.2,
          0.4,
          3.3,
          2.3,
          5,
          2.7,
          2.2,
          3.1,
          2.9,
          3.3,
          2.6,
          1.1,
          3,
          0.4,
          2.1,
          2.9,
          2.3,
          1.7,
          3.2,
          1.5,
          0.9,
          2.2,
          3.3,
          0.1,
          1.8,
          1.9,
          1.2,
          1.7,
          2.3,
          3.2,
          2.1,
          2.6,
          2.4,
          2.3,
          1.4,
          0.5,
          2,
          1.6,
          2.4,
          1.6,
          2.4,
          1.9,
          0,
          0.5,
          1.8,
          2.9,
          1.5,
          1.5,
          3.4,
          2.5,
          2,
          1.6,
          1.2,
          1.1,
          2.8,
          2.7,
          3.3,
          3.2,
          1.7,
          1.4,
          3.1,
          1.7,
          2.3,
          2.9,
          1.7,
          2.7,
          1.7,
          2.1,
          1.2,
          1.9,
          2.7,
          0,
          0.8,
          2.3,
          2.1,
          1.6,
          2.2,
          2.2,
          1.7,
          1.7,
          1.2,
          2,
          1.2,
          1.5,
          0,
          0.6,
          1.1,
          0,
          0.5,
          2.4,
          3,
          1.8,
          1.5,
          2.1,
          2.8,
          1.7,
          1.6,
          2.1,
          1.8,
          1.2,
          0.9,
          2.5,
          2.8,
          1.2,
          2.1,
          1.6,
          2.3,
          2.5,
          1.1,
          1.8,
          2.1,
          1.9,
          1.9,
          0,
          2.4,
          2,
          1.2,
          0,
          1.1,
          0.4,
          1.9,
          0,
          0.8,
          2.4,
          1,
          2.9,
          0.7,
          0.9,
          0.9,
          0,
          0.5,
          0,
          1.4,
          1.3,
          2,
          1.2,
          1.3,
          1.9,
          2.3,
          1.7,
          0.4,
          1.4,
          1.4,
          1.4,
          1.3,
          1.5,
          1.7,
          0,
          1.5,
          0.6,
          2,
          2,
          1.2,
          1.4,
          1.8,
          0.8,
          1.5,
          1,
          1.6,
          1.7,
          1.4,
          2,
          1.7,
          0.2,
          2,
          0.1,
          0.5,
          1,
          1,
          1.4,
          1.1,
          0.1,
          0.7,
          1.7,
          2.2,
          0,
          1.2,
          1,
          1.6,
          0.4,
          0.9,
          1.2,
          1.6,
          0.8,
          0.1,
          0.9,
          2,
          1.7,
          1.3,
          0.5,
          0,
          1.2,
          0.8,
          1.5,
          0.7,
          0.7,
          0.5,
          0.7,
          0,
          1.2,
          0.2,
          1.1,
          0,
          0.4,
          0.6,
          0.9,
          0.4,
          0.8,
          0.1,
          0.8,
          0.3,
          0,
          1.1,
          1.6,
          1.1,
          1.3,
          0.1,
          1.5,
          0.7,
          0.6,
          0.7,
          0.9,
          1.3,
          1.1,
          0.6,
          1.2,
          0.7,
          0.5,
          0.4,
          0,
          0,
          0.5,
          1.3,
          1.1,
          0.8,
          0.7,
          0.5,
          0.4,
          0,
          0.9,
          0.8,
          0,
          0.7,
          0.6,
          0.6,
          0.7,
          0,
          1,
          0.1,
          0.1,
          0.1,
          0.4,
          0.3
         ],
         "xaxis": "x",
         "y": [
          34.2,
          31.1,
          30.8,
          28.4,
          28.2,
          28,
          27.6,
          27.5,
          27.1,
          26.8,
          26.7,
          26.3,
          26.1,
          25.7,
          24.9,
          24.8,
          24.6,
          24.1,
          24,
          23.4,
          23,
          22.7,
          22.5,
          22.5,
          22.4,
          22.3,
          22,
          22,
          21.9,
          21.8,
          21.8,
          21.7,
          21.7,
          21.5,
          21.4,
          21.4,
          21.2,
          21.2,
          21.1,
          20.6,
          20.5,
          20.5,
          20.2,
          20.2,
          20.1,
          20.1,
          19.6,
          19.2,
          19.2,
          19,
          18.9,
          18,
          17.9,
          17.7,
          17.5,
          17.5,
          17.5,
          17.3,
          17.3,
          17.3,
          17.2,
          16.9,
          16.7,
          16.6,
          16.5,
          16.1,
          15.9,
          15.8,
          15.7,
          15.7,
          15.6,
          15.6,
          15.6,
          15.5,
          15.5,
          15.3,
          15.3,
          15.1,
          14.8,
          14.8,
          14.4,
          14.3,
          14.2,
          14.1,
          14,
          14,
          13.8,
          13.8,
          13.7,
          13.7,
          13.7,
          13.6,
          13.5,
          13.4,
          13.4,
          13.3,
          13.3,
          13.2,
          13.1,
          13,
          12.9,
          12.9,
          12.8,
          12.7,
          12.7,
          12.6,
          12.6,
          12.6,
          12.6,
          12.5,
          12.4,
          12.3,
          12.2,
          12.2,
          12.2,
          12.2,
          12,
          12,
          11.9,
          11.9,
          11.8,
          11.7,
          11.5,
          11.5,
          11.5,
          11.5,
          11.4,
          11.4,
          11.4,
          11.3,
          11.1,
          11.1,
          11,
          11,
          10.9,
          10.8,
          10.7,
          10.7,
          10.6,
          10.6,
          10.4,
          10.2,
          10.1,
          10,
          10,
          9.9,
          9.9,
          9.8,
          9.7,
          9.6,
          9.6,
          9.6,
          9.6,
          9.6,
          9.4,
          9.3,
          9,
          9,
          9,
          9,
          8.9,
          8.9,
          8.7,
          8.7,
          8.6,
          8.5,
          8.5,
          8.3,
          8.3,
          8.3,
          8.2,
          8.2,
          8.2,
          8.2,
          8.1,
          8.1,
          8.1,
          8,
          8,
          8,
          7.8,
          7.8,
          7.6,
          7.6,
          7.5,
          7.4,
          7.4,
          7.4,
          7.3,
          7.3,
          7.2,
          7.1,
          7.1,
          7,
          7,
          7,
          6.9,
          6.9,
          6.9,
          6.9,
          6.8,
          6.6,
          6.5,
          6.4,
          6.3,
          6.3,
          6.3,
          6.2,
          6.2,
          6.1,
          6.1,
          6,
          5.9,
          5.9,
          5.9,
          5.9,
          5.8,
          5.7,
          5.6,
          5.6,
          5.5,
          5.4,
          5.3,
          5.3,
          5.2,
          5.2,
          5.1,
          5,
          5,
          5,
          4.9,
          4.9,
          4.9,
          4.8,
          4.7,
          4.7,
          4.7,
          4.5,
          4.4,
          4.4,
          4.4,
          4.3,
          4.1,
          4.1,
          3.9,
          3.9,
          3.7,
          3.6,
          3.6,
          3.4,
          3.3,
          3.2,
          3,
          2.5
         ],
         "yaxis": "y"
        },
        {
         "hovertemplate": "<b>OLS trendline</b><br>PTS = 4.31471 * 3PM + 6.58159<br>R<sup>2</sup>=0.348193<br><br>3PM=%{x}<br>PTS=%{y} <b>(trend)</b><extra></extra>",
         "legendgroup": "",
         "marker": {
          "color": "#636efa",
          "symbol": "circle"
         },
         "mode": "lines",
         "name": "",
         "showlegend": false,
         "type": "scatter",
         "x": [
          0,
          0,
          0,
          0,
          0,
          0,
          0,
          0,
          0,
          0,
          0,
          0,
          0,
          0,
          0,
          0,
          0,
          0,
          0,
          0,
          0.1,
          0.1,
          0.1,
          0.1,
          0.1,
          0.1,
          0.1,
          0.1,
          0.1,
          0.2,
          0.2,
          0.3,
          0.3,
          0.4,
          0.4,
          0.4,
          0.4,
          0.4,
          0.4,
          0.4,
          0.4,
          0.4,
          0.4,
          0.5,
          0.5,
          0.5,
          0.5,
          0.5,
          0.5,
          0.5,
          0.5,
          0.5,
          0.5,
          0.6,
          0.6,
          0.6,
          0.6,
          0.6,
          0.6,
          0.6,
          0.7,
          0.7,
          0.7,
          0.7,
          0.7,
          0.7,
          0.7,
          0.7,
          0.7,
          0.7,
          0.7,
          0.8,
          0.8,
          0.8,
          0.8,
          0.8,
          0.8,
          0.8,
          0.8,
          0.8,
          0.9,
          0.9,
          0.9,
          0.9,
          0.9,
          0.9,
          0.9,
          0.9,
          0.9,
          1,
          1,
          1,
          1,
          1,
          1,
          1.1,
          1.1,
          1.1,
          1.1,
          1.1,
          1.1,
          1.1,
          1.1,
          1.1,
          1.1,
          1.1,
          1.2,
          1.2,
          1.2,
          1.2,
          1.2,
          1.2,
          1.2,
          1.2,
          1.2,
          1.2,
          1.2,
          1.2,
          1.2,
          1.2,
          1.2,
          1.2,
          1.3,
          1.3,
          1.3,
          1.3,
          1.3,
          1.3,
          1.3,
          1.4,
          1.4,
          1.4,
          1.4,
          1.4,
          1.4,
          1.4,
          1.4,
          1.4,
          1.5,
          1.5,
          1.5,
          1.5,
          1.5,
          1.5,
          1.5,
          1.5,
          1.5,
          1.5,
          1.6,
          1.6,
          1.6,
          1.6,
          1.6,
          1.6,
          1.6,
          1.6,
          1.6,
          1.6,
          1.7,
          1.7,
          1.7,
          1.7,
          1.7,
          1.7,
          1.7,
          1.7,
          1.7,
          1.7,
          1.7,
          1.7,
          1.7,
          1.7,
          1.7,
          1.8,
          1.8,
          1.8,
          1.8,
          1.8,
          1.8,
          1.9,
          1.9,
          1.9,
          1.9,
          1.9,
          1.9,
          1.9,
          2,
          2,
          2,
          2,
          2,
          2,
          2,
          2,
          2,
          2,
          2.1,
          2.1,
          2.1,
          2.1,
          2.1,
          2.1,
          2.1,
          2.1,
          2.2,
          2.2,
          2.2,
          2.2,
          2.2,
          2.3,
          2.3,
          2.3,
          2.3,
          2.3,
          2.3,
          2.3,
          2.3,
          2.4,
          2.4,
          2.4,
          2.4,
          2.4,
          2.4,
          2.5,
          2.5,
          2.5,
          2.6,
          2.6,
          2.7,
          2.7,
          2.7,
          2.7,
          2.8,
          2.8,
          2.8,
          2.9,
          2.9,
          2.9,
          2.9,
          2.9,
          3,
          3,
          3.1,
          3.1,
          3.2,
          3.2,
          3.2,
          3.3,
          3.3,
          3.3,
          3.3,
          3.4,
          3.9,
          5
         ],
         "xaxis": "x",
         "y": [
          6.581586305877362,
          6.581586305877362,
          6.581586305877362,
          6.581586305877362,
          6.581586305877362,
          6.581586305877362,
          6.581586305877362,
          6.581586305877362,
          6.581586305877362,
          6.581586305877362,
          6.581586305877362,
          6.581586305877362,
          6.581586305877362,
          6.581586305877362,
          6.581586305877362,
          6.581586305877362,
          6.581586305877362,
          6.581586305877362,
          6.581586305877362,
          6.581586305877362,
          7.013057066760076,
          7.013057066760076,
          7.013057066760076,
          7.013057066760076,
          7.013057066760076,
          7.013057066760076,
          7.013057066760076,
          7.013057066760076,
          7.013057066760076,
          7.444527827642789,
          7.444527827642789,
          7.875998588525501,
          7.875998588525501,
          8.307469349408215,
          8.307469349408215,
          8.307469349408215,
          8.307469349408215,
          8.307469349408215,
          8.307469349408215,
          8.307469349408215,
          8.307469349408215,
          8.307469349408215,
          8.307469349408215,
          8.738940110290928,
          8.738940110290928,
          8.738940110290928,
          8.738940110290928,
          8.738940110290928,
          8.738940110290928,
          8.738940110290928,
          8.738940110290928,
          8.738940110290928,
          8.738940110290928,
          9.17041087117364,
          9.17041087117364,
          9.17041087117364,
          9.17041087117364,
          9.17041087117364,
          9.17041087117364,
          9.17041087117364,
          9.601881632056354,
          9.601881632056354,
          9.601881632056354,
          9.601881632056354,
          9.601881632056354,
          9.601881632056354,
          9.601881632056354,
          9.601881632056354,
          9.601881632056354,
          9.601881632056354,
          9.601881632056354,
          10.033352392939067,
          10.033352392939067,
          10.033352392939067,
          10.033352392939067,
          10.033352392939067,
          10.033352392939067,
          10.033352392939067,
          10.033352392939067,
          10.033352392939067,
          10.464823153821781,
          10.464823153821781,
          10.464823153821781,
          10.464823153821781,
          10.464823153821781,
          10.464823153821781,
          10.464823153821781,
          10.464823153821781,
          10.464823153821781,
          10.896293914704493,
          10.896293914704493,
          10.896293914704493,
          10.896293914704493,
          10.896293914704493,
          10.896293914704493,
          11.327764675587208,
          11.327764675587208,
          11.327764675587208,
          11.327764675587208,
          11.327764675587208,
          11.327764675587208,
          11.327764675587208,
          11.327764675587208,
          11.327764675587208,
          11.327764675587208,
          11.327764675587208,
          11.759235436469918,
          11.759235436469918,
          11.759235436469918,
          11.759235436469918,
          11.759235436469918,
          11.759235436469918,
          11.759235436469918,
          11.759235436469918,
          11.759235436469918,
          11.759235436469918,
          11.759235436469918,
          11.759235436469918,
          11.759235436469918,
          11.759235436469918,
          11.759235436469918,
          11.759235436469918,
          12.190706197352633,
          12.190706197352633,
          12.190706197352633,
          12.190706197352633,
          12.190706197352633,
          12.190706197352633,
          12.190706197352633,
          12.622176958235347,
          12.622176958235347,
          12.622176958235347,
          12.622176958235347,
          12.622176958235347,
          12.622176958235347,
          12.622176958235347,
          12.622176958235347,
          12.622176958235347,
          13.053647719118059,
          13.053647719118059,
          13.053647719118059,
          13.053647719118059,
          13.053647719118059,
          13.053647719118059,
          13.053647719118059,
          13.053647719118059,
          13.053647719118059,
          13.053647719118059,
          13.485118480000772,
          13.485118480000772,
          13.485118480000772,
          13.485118480000772,
          13.485118480000772,
          13.485118480000772,
          13.485118480000772,
          13.485118480000772,
          13.485118480000772,
          13.485118480000772,
          13.916589240883486,
          13.916589240883486,
          13.916589240883486,
          13.916589240883486,
          13.916589240883486,
          13.916589240883486,
          13.916589240883486,
          13.916589240883486,
          13.916589240883486,
          13.916589240883486,
          13.916589240883486,
          13.916589240883486,
          13.916589240883486,
          13.916589240883486,
          13.916589240883486,
          14.3480600017662,
          14.3480600017662,
          14.3480600017662,
          14.3480600017662,
          14.3480600017662,
          14.3480600017662,
          14.77953076264891,
          14.77953076264891,
          14.77953076264891,
          14.77953076264891,
          14.77953076264891,
          14.77953076264891,
          14.77953076264891,
          15.211001523531625,
          15.211001523531625,
          15.211001523531625,
          15.211001523531625,
          15.211001523531625,
          15.211001523531625,
          15.211001523531625,
          15.211001523531625,
          15.211001523531625,
          15.211001523531625,
          15.642472284414339,
          15.642472284414339,
          15.642472284414339,
          15.642472284414339,
          15.642472284414339,
          15.642472284414339,
          15.642472284414339,
          15.642472284414339,
          16.07394304529705,
          16.07394304529705,
          16.07394304529705,
          16.07394304529705,
          16.07394304529705,
          16.505413806179764,
          16.505413806179764,
          16.505413806179764,
          16.505413806179764,
          16.505413806179764,
          16.505413806179764,
          16.505413806179764,
          16.505413806179764,
          16.936884567062478,
          16.936884567062478,
          16.936884567062478,
          16.936884567062478,
          16.936884567062478,
          16.936884567062478,
          17.36835532794519,
          17.36835532794519,
          17.36835532794519,
          17.799826088827906,
          17.799826088827906,
          18.231296849710617,
          18.231296849710617,
          18.231296849710617,
          18.231296849710617,
          18.662767610593328,
          18.662767610593328,
          18.662767610593328,
          19.09423837147604,
          19.09423837147604,
          19.09423837147604,
          19.09423837147604,
          19.09423837147604,
          19.525709132358756,
          19.525709132358756,
          19.95717989324147,
          19.95717989324147,
          20.388650654124184,
          20.388650654124184,
          20.388650654124184,
          20.820121415006895,
          20.820121415006895,
          20.820121415006895,
          20.820121415006895,
          21.251592175889606,
          23.408945980303173,
          28.15512435001302
         ],
         "yaxis": "y"
        }
       ],
       "layout": {
        "autosize": true,
        "legend": {
         "itemsizing": "constant",
         "tracegroupgap": 0
        },
        "margin": {
         "t": 60
        },
        "template": {
         "data": {
          "bar": [
           {
            "error_x": {
             "color": "#2a3f5f"
            },
            "error_y": {
             "color": "#2a3f5f"
            },
            "marker": {
             "line": {
              "color": "#E5ECF6",
              "width": 0.5
             },
             "pattern": {
              "fillmode": "overlay",
              "size": 10,
              "solidity": 0.2
             }
            },
            "type": "bar"
           }
          ],
          "barpolar": [
           {
            "marker": {
             "line": {
              "color": "#E5ECF6",
              "width": 0.5
             },
             "pattern": {
              "fillmode": "overlay",
              "size": 10,
              "solidity": 0.2
             }
            },
            "type": "barpolar"
           }
          ],
          "carpet": [
           {
            "aaxis": {
             "endlinecolor": "#2a3f5f",
             "gridcolor": "white",
             "linecolor": "white",
             "minorgridcolor": "white",
             "startlinecolor": "#2a3f5f"
            },
            "baxis": {
             "endlinecolor": "#2a3f5f",
             "gridcolor": "white",
             "linecolor": "white",
             "minorgridcolor": "white",
             "startlinecolor": "#2a3f5f"
            },
            "type": "carpet"
           }
          ],
          "choropleth": [
           {
            "colorbar": {
             "outlinewidth": 0,
             "ticks": ""
            },
            "type": "choropleth"
           }
          ],
          "contour": [
           {
            "colorbar": {
             "outlinewidth": 0,
             "ticks": ""
            },
            "colorscale": [
             [
              0,
              "#0d0887"
             ],
             [
              0.1111111111111111,
              "#46039f"
             ],
             [
              0.2222222222222222,
              "#7201a8"
             ],
             [
              0.3333333333333333,
              "#9c179e"
             ],
             [
              0.4444444444444444,
              "#bd3786"
             ],
             [
              0.5555555555555556,
              "#d8576b"
             ],
             [
              0.6666666666666666,
              "#ed7953"
             ],
             [
              0.7777777777777778,
              "#fb9f3a"
             ],
             [
              0.8888888888888888,
              "#fdca26"
             ],
             [
              1,
              "#f0f921"
             ]
            ],
            "type": "contour"
           }
          ],
          "contourcarpet": [
           {
            "colorbar": {
             "outlinewidth": 0,
             "ticks": ""
            },
            "type": "contourcarpet"
           }
          ],
          "heatmap": [
           {
            "colorbar": {
             "outlinewidth": 0,
             "ticks": ""
            },
            "colorscale": [
             [
              0,
              "#0d0887"
             ],
             [
              0.1111111111111111,
              "#46039f"
             ],
             [
              0.2222222222222222,
              "#7201a8"
             ],
             [
              0.3333333333333333,
              "#9c179e"
             ],
             [
              0.4444444444444444,
              "#bd3786"
             ],
             [
              0.5555555555555556,
              "#d8576b"
             ],
             [
              0.6666666666666666,
              "#ed7953"
             ],
             [
              0.7777777777777778,
              "#fb9f3a"
             ],
             [
              0.8888888888888888,
              "#fdca26"
             ],
             [
              1,
              "#f0f921"
             ]
            ],
            "type": "heatmap"
           }
          ],
          "heatmapgl": [
           {
            "colorbar": {
             "outlinewidth": 0,
             "ticks": ""
            },
            "colorscale": [
             [
              0,
              "#0d0887"
             ],
             [
              0.1111111111111111,
              "#46039f"
             ],
             [
              0.2222222222222222,
              "#7201a8"
             ],
             [
              0.3333333333333333,
              "#9c179e"
             ],
             [
              0.4444444444444444,
              "#bd3786"
             ],
             [
              0.5555555555555556,
              "#d8576b"
             ],
             [
              0.6666666666666666,
              "#ed7953"
             ],
             [
              0.7777777777777778,
              "#fb9f3a"
             ],
             [
              0.8888888888888888,
              "#fdca26"
             ],
             [
              1,
              "#f0f921"
             ]
            ],
            "type": "heatmapgl"
           }
          ],
          "histogram": [
           {
            "marker": {
             "pattern": {
              "fillmode": "overlay",
              "size": 10,
              "solidity": 0.2
             }
            },
            "type": "histogram"
           }
          ],
          "histogram2d": [
           {
            "colorbar": {
             "outlinewidth": 0,
             "ticks": ""
            },
            "colorscale": [
             [
              0,
              "#0d0887"
             ],
             [
              0.1111111111111111,
              "#46039f"
             ],
             [
              0.2222222222222222,
              "#7201a8"
             ],
             [
              0.3333333333333333,
              "#9c179e"
             ],
             [
              0.4444444444444444,
              "#bd3786"
             ],
             [
              0.5555555555555556,
              "#d8576b"
             ],
             [
              0.6666666666666666,
              "#ed7953"
             ],
             [
              0.7777777777777778,
              "#fb9f3a"
             ],
             [
              0.8888888888888888,
              "#fdca26"
             ],
             [
              1,
              "#f0f921"
             ]
            ],
            "type": "histogram2d"
           }
          ],
          "histogram2dcontour": [
           {
            "colorbar": {
             "outlinewidth": 0,
             "ticks": ""
            },
            "colorscale": [
             [
              0,
              "#0d0887"
             ],
             [
              0.1111111111111111,
              "#46039f"
             ],
             [
              0.2222222222222222,
              "#7201a8"
             ],
             [
              0.3333333333333333,
              "#9c179e"
             ],
             [
              0.4444444444444444,
              "#bd3786"
             ],
             [
              0.5555555555555556,
              "#d8576b"
             ],
             [
              0.6666666666666666,
              "#ed7953"
             ],
             [
              0.7777777777777778,
              "#fb9f3a"
             ],
             [
              0.8888888888888888,
              "#fdca26"
             ],
             [
              1,
              "#f0f921"
             ]
            ],
            "type": "histogram2dcontour"
           }
          ],
          "mesh3d": [
           {
            "colorbar": {
             "outlinewidth": 0,
             "ticks": ""
            },
            "type": "mesh3d"
           }
          ],
          "parcoords": [
           {
            "line": {
             "colorbar": {
              "outlinewidth": 0,
              "ticks": ""
             }
            },
            "type": "parcoords"
           }
          ],
          "pie": [
           {
            "automargin": true,
            "type": "pie"
           }
          ],
          "scatter": [
           {
            "marker": {
             "colorbar": {
              "outlinewidth": 0,
              "ticks": ""
             }
            },
            "type": "scatter"
           }
          ],
          "scatter3d": [
           {
            "line": {
             "colorbar": {
              "outlinewidth": 0,
              "ticks": ""
             }
            },
            "marker": {
             "colorbar": {
              "outlinewidth": 0,
              "ticks": ""
             }
            },
            "type": "scatter3d"
           }
          ],
          "scattercarpet": [
           {
            "marker": {
             "colorbar": {
              "outlinewidth": 0,
              "ticks": ""
             }
            },
            "type": "scattercarpet"
           }
          ],
          "scattergeo": [
           {
            "marker": {
             "colorbar": {
              "outlinewidth": 0,
              "ticks": ""
             }
            },
            "type": "scattergeo"
           }
          ],
          "scattergl": [
           {
            "marker": {
             "colorbar": {
              "outlinewidth": 0,
              "ticks": ""
             }
            },
            "type": "scattergl"
           }
          ],
          "scattermapbox": [
           {
            "marker": {
             "colorbar": {
              "outlinewidth": 0,
              "ticks": ""
             }
            },
            "type": "scattermapbox"
           }
          ],
          "scatterpolar": [
           {
            "marker": {
             "colorbar": {
              "outlinewidth": 0,
              "ticks": ""
             }
            },
            "type": "scatterpolar"
           }
          ],
          "scatterpolargl": [
           {
            "marker": {
             "colorbar": {
              "outlinewidth": 0,
              "ticks": ""
             }
            },
            "type": "scatterpolargl"
           }
          ],
          "scatterternary": [
           {
            "marker": {
             "colorbar": {
              "outlinewidth": 0,
              "ticks": ""
             }
            },
            "type": "scatterternary"
           }
          ],
          "surface": [
           {
            "colorbar": {
             "outlinewidth": 0,
             "ticks": ""
            },
            "colorscale": [
             [
              0,
              "#0d0887"
             ],
             [
              0.1111111111111111,
              "#46039f"
             ],
             [
              0.2222222222222222,
              "#7201a8"
             ],
             [
              0.3333333333333333,
              "#9c179e"
             ],
             [
              0.4444444444444444,
              "#bd3786"
             ],
             [
              0.5555555555555556,
              "#d8576b"
             ],
             [
              0.6666666666666666,
              "#ed7953"
             ],
             [
              0.7777777777777778,
              "#fb9f3a"
             ],
             [
              0.8888888888888888,
              "#fdca26"
             ],
             [
              1,
              "#f0f921"
             ]
            ],
            "type": "surface"
           }
          ],
          "table": [
           {
            "cells": {
             "fill": {
              "color": "#EBF0F8"
             },
             "line": {
              "color": "white"
             }
            },
            "header": {
             "fill": {
              "color": "#C8D4E3"
             },
             "line": {
              "color": "white"
             }
            },
            "type": "table"
           }
          ]
         },
         "layout": {
          "annotationdefaults": {
           "arrowcolor": "#2a3f5f",
           "arrowhead": 0,
           "arrowwidth": 1
          },
          "autotypenumbers": "strict",
          "coloraxis": {
           "colorbar": {
            "outlinewidth": 0,
            "ticks": ""
           }
          },
          "colorscale": {
           "diverging": [
            [
             0,
             "#8e0152"
            ],
            [
             0.1,
             "#c51b7d"
            ],
            [
             0.2,
             "#de77ae"
            ],
            [
             0.3,
             "#f1b6da"
            ],
            [
             0.4,
             "#fde0ef"
            ],
            [
             0.5,
             "#f7f7f7"
            ],
            [
             0.6,
             "#e6f5d0"
            ],
            [
             0.7,
             "#b8e186"
            ],
            [
             0.8,
             "#7fbc41"
            ],
            [
             0.9,
             "#4d9221"
            ],
            [
             1,
             "#276419"
            ]
           ],
           "sequential": [
            [
             0,
             "#0d0887"
            ],
            [
             0.1111111111111111,
             "#46039f"
            ],
            [
             0.2222222222222222,
             "#7201a8"
            ],
            [
             0.3333333333333333,
             "#9c179e"
            ],
            [
             0.4444444444444444,
             "#bd3786"
            ],
            [
             0.5555555555555556,
             "#d8576b"
            ],
            [
             0.6666666666666666,
             "#ed7953"
            ],
            [
             0.7777777777777778,
             "#fb9f3a"
            ],
            [
             0.8888888888888888,
             "#fdca26"
            ],
            [
             1,
             "#f0f921"
            ]
           ],
           "sequentialminus": [
            [
             0,
             "#0d0887"
            ],
            [
             0.1111111111111111,
             "#46039f"
            ],
            [
             0.2222222222222222,
             "#7201a8"
            ],
            [
             0.3333333333333333,
             "#9c179e"
            ],
            [
             0.4444444444444444,
             "#bd3786"
            ],
            [
             0.5555555555555556,
             "#d8576b"
            ],
            [
             0.6666666666666666,
             "#ed7953"
            ],
            [
             0.7777777777777778,
             "#fb9f3a"
            ],
            [
             0.8888888888888888,
             "#fdca26"
            ],
            [
             1,
             "#f0f921"
            ]
           ]
          },
          "colorway": [
           "#636efa",
           "#EF553B",
           "#00cc96",
           "#ab63fa",
           "#FFA15A",
           "#19d3f3",
           "#FF6692",
           "#B6E880",
           "#FF97FF",
           "#FECB52"
          ],
          "font": {
           "color": "#2a3f5f"
          },
          "geo": {
           "bgcolor": "white",
           "lakecolor": "white",
           "landcolor": "#E5ECF6",
           "showlakes": true,
           "showland": true,
           "subunitcolor": "white"
          },
          "hoverlabel": {
           "align": "left"
          },
          "hovermode": "closest",
          "mapbox": {
           "style": "light"
          },
          "paper_bgcolor": "white",
          "plot_bgcolor": "#E5ECF6",
          "polar": {
           "angularaxis": {
            "gridcolor": "white",
            "linecolor": "white",
            "ticks": ""
           },
           "bgcolor": "#E5ECF6",
           "radialaxis": {
            "gridcolor": "white",
            "linecolor": "white",
            "ticks": ""
           }
          },
          "scene": {
           "xaxis": {
            "backgroundcolor": "#E5ECF6",
            "gridcolor": "white",
            "gridwidth": 2,
            "linecolor": "white",
            "showbackground": true,
            "ticks": "",
            "zerolinecolor": "white"
           },
           "yaxis": {
            "backgroundcolor": "#E5ECF6",
            "gridcolor": "white",
            "gridwidth": 2,
            "linecolor": "white",
            "showbackground": true,
            "ticks": "",
            "zerolinecolor": "white"
           },
           "zaxis": {
            "backgroundcolor": "#E5ECF6",
            "gridcolor": "white",
            "gridwidth": 2,
            "linecolor": "white",
            "showbackground": true,
            "ticks": "",
            "zerolinecolor": "white"
           }
          },
          "shapedefaults": {
           "line": {
            "color": "#2a3f5f"
           }
          },
          "ternary": {
           "aaxis": {
            "gridcolor": "white",
            "linecolor": "white",
            "ticks": ""
           },
           "baxis": {
            "gridcolor": "white",
            "linecolor": "white",
            "ticks": ""
           },
           "bgcolor": "#E5ECF6",
           "caxis": {
            "gridcolor": "white",
            "linecolor": "white",
            "ticks": ""
           }
          },
          "title": {
           "x": 0.05
          },
          "xaxis": {
           "automargin": true,
           "gridcolor": "white",
           "linecolor": "white",
           "ticks": "",
           "title": {
            "standoff": 15
           },
           "zerolinecolor": "white",
           "zerolinewidth": 2
          },
          "yaxis": {
           "automargin": true,
           "gridcolor": "white",
           "linecolor": "white",
           "ticks": "",
           "title": {
            "standoff": 15
           },
           "zerolinecolor": "white",
           "zerolinewidth": 2
          }
         }
        },
        "xaxis": {
         "anchor": "y",
         "autorange": true,
         "domain": [
          0,
          1
         ],
         "range": [
          -0.38264840548041035,
          5.3992396355212335
         ],
         "title": {
          "text": "3PM"
         },
         "type": "linear"
        },
        "yaxis": {
         "anchor": "x",
         "autorange": true,
         "domain": [
          0,
          1
         ],
         "range": [
          -0.22162647116784262,
          38.97715319318195
         ],
         "title": {
          "text": "PTS"
         },
         "type": "linear"
        }
       }
      },
      "image/png": "[encoded data removed]",
      "text/html": [
       "<div>                            <div id=\"50b93928-6b2f-4947-8a80-39dc057fa9a0\" class=\"plotly-graph-div\" style=\"height:525px; width:100%;\"></div>            <script type=\"text/javascript\">                require([\"plotly\"], function(Plotly) {                    window.PLOTLYENV=window.PLOTLYENV || {};                                    if (document.getElementById(\"50b93928-6b2f-4947-8a80-39dc057fa9a0\")) {                    Plotly.newPlot(                        \"50b93928-6b2f-4947-8a80-39dc057fa9a0\",                        [{\"hovertemplate\":\"3PM=%{x}<br>PTS=%{marker.size}<extra></extra>\",\"legendgroup\":\"\",\"marker\":{\"color\":\"#636efa\",\"size\":[34.2,31.1,30.8,28.4,28.2,28.0,27.6,27.5,27.1,26.8,26.7,26.3,26.1,25.7,24.9,24.8,24.6,24.1,24.0,23.4,23.0,22.7,22.5,22.5,22.4,22.3,22.0,22.0,21.9,21.8,21.8,21.7,21.7,21.5,21.4,21.4,21.2,21.2,21.1,20.6,20.5,20.5,20.2,20.2,20.1,20.1,19.6,19.2,19.2,19.0,18.9,18.0,17.9,17.7,17.5,17.5,17.5,17.3,17.3,17.3,17.2,16.9,16.7,16.6,16.5,16.1,15.9,15.8,15.7,15.7,15.6,15.6,15.6,15.5,15.5,15.3,15.3,15.1,14.8,14.8,14.4,14.3,14.2,14.1,14.0,14.0,13.8,13.8,13.7,13.7,13.7,13.6,13.5,13.4,13.4,13.3,13.3,13.2,13.1,13.0,12.9,12.9,12.8,12.7,12.7,12.6,12.6,12.6,12.6,12.5,12.4,12.3,12.2,12.2,12.2,12.2,12.0,12.0,11.9,11.9,11.8,11.7,11.5,11.5,11.5,11.5,11.4,11.4,11.4,11.3,11.1,11.1,11.0,11.0,10.9,10.8,10.7,10.7,10.6,10.6,10.4,10.2,10.1,10.0,10.0,9.9,9.9,9.8,9.7,9.6,9.6,9.6,9.6,9.6,9.4,9.3,9.0,9.0,9.0,9.0,8.9,8.9,8.7,8.7,8.6,8.5,8.5,8.3,8.3,8.3,8.2,8.2,8.2,8.2,8.1,8.1,8.1,8.0,8.0,8.0,7.8,7.8,7.6,7.6,7.5,7.4,7.4,7.4,7.3,7.3,7.2,7.1,7.1,7.0,7.0,7.0,6.9,6.9,6.9,6.9,6.8,6.6,6.5,6.4,6.3,6.3,6.3,6.2,6.2,6.1,6.1,6.0,5.9,5.9,5.9,5.9,5.8,5.7,5.6,5.6,5.5,5.4,5.3,5.3,5.2,5.2,5.1,5.0,5.0,5.0,4.9,4.9,4.9,4.8,4.7,4.7,4.7,4.5,4.4,4.4,4.4,4.3,4.1,4.1,3.9,3.9,3.7,3.6,3.6,3.4,3.3,3.2,3.0,2.5],\"sizemode\":\"area\",\"sizeref\":0.0855,\"symbol\":\"circle\"},\"mode\":\"markers\",\"name\":\"\",\"orientation\":\"v\",\"showlegend\":false,\"x\":[3.9,1.2,0.4,3.3,2.3,5.0,2.7,2.2,3.1,2.9,3.3,2.6,1.1,3.0,0.4,2.1,2.9,2.3,1.7,3.2,1.5,0.9,2.2,3.3,0.1,1.8,1.9,1.2,1.7,2.3,3.2,2.1,2.6,2.4,2.3,1.4,0.5,2.0,1.6,2.4,1.6,2.4,1.9,0.0,0.5,1.8,2.9,1.5,1.5,3.4,2.5,2.0,1.6,1.2,1.1,2.8,2.7,3.3,3.2,1.7,1.4,3.1,1.7,2.3,2.9,1.7,2.7,1.7,2.1,1.2,1.9,2.7,0.0,0.8,2.3,2.1,1.6,2.2,2.2,1.7,1.7,1.2,2.0,1.2,1.5,0.0,0.6,1.1,0.0,0.5,2.4,3.0,1.8,1.5,2.1,2.8,1.7,1.6,2.1,1.8,1.2,0.9,2.5,2.8,1.2,2.1,1.6,2.3,2.5,1.1,1.8,2.1,1.9,1.9,0.0,2.4,2.0,1.2,0.0,1.1,0.4,1.9,0.0,0.8,2.4,1.0,2.9,0.7,0.9,0.9,0.0,0.5,0.0,1.4,1.3,2.0,1.2,1.3,1.9,2.3,1.7,0.4,1.4,1.4,1.4,1.3,1.5,1.7,0.0,1.5,0.6,2.0,2.0,1.2,1.4,1.8,0.8,1.5,1.0,1.6,1.7,1.4,2.0,1.7,0.2,2.0,0.1,0.5,1.0,1.0,1.4,1.1,0.1,0.7,1.7,2.2,0.0,1.2,1.0,1.6,0.4,0.9,1.2,1.6,0.8,0.1,0.9,2.0,1.7,1.3,0.5,0.0,1.2,0.8,1.5,0.7,0.7,0.5,0.7,0.0,1.2,0.2,1.1,0.0,0.4,0.6,0.9,0.4,0.8,0.1,0.8,0.3,0.0,1.1,1.6,1.1,1.3,0.1,1.5,0.7,0.6,0.7,0.9,1.3,1.1,0.6,1.2,0.7,0.5,0.4,0.0,0.0,0.5,1.3,1.1,0.8,0.7,0.5,0.4,0.0,0.9,0.8,0.0,0.7,0.6,0.6,0.7,0.0,1.0,0.1,0.1,0.1,0.4,0.3],\"xaxis\":\"x\",\"y\":[34.2,31.1,30.8,28.4,28.2,28.0,27.6,27.5,27.1,26.8,26.7,26.3,26.1,25.7,24.9,24.8,24.6,24.1,24.0,23.4,23.0,22.7,22.5,22.5,22.4,22.3,22.0,22.0,21.9,21.8,21.8,21.7,21.7,21.5,21.4,21.4,21.2,21.2,21.1,20.6,20.5,20.5,20.2,20.2,20.1,20.1,19.6,19.2,19.2,19.0,18.9,18.0,17.9,17.7,17.5,17.5,17.5,17.3,17.3,17.3,17.2,16.9,16.7,16.6,16.5,16.1,15.9,15.8,15.7,15.7,15.6,15.6,15.6,15.5,15.5,15.3,15.3,15.1,14.8,14.8,14.4,14.3,14.2,14.1,14.0,14.0,13.8,13.8,13.7,13.7,13.7,13.6,13.5,13.4,13.4,13.3,13.3,13.2,13.1,13.0,12.9,12.9,12.8,12.7,12.7,12.6,12.6,12.6,12.6,12.5,12.4,12.3,12.2,12.2,12.2,12.2,12.0,12.0,11.9,11.9,11.8,11.7,11.5,11.5,11.5,11.5,11.4,11.4,11.4,11.3,11.1,11.1,11.0,11.0,10.9,10.8,10.7,10.7,10.6,10.6,10.4,10.2,10.1,10.0,10.0,9.9,9.9,9.8,9.7,9.6,9.6,9.6,9.6,9.6,9.4,9.3,9.0,9.0,9.0,9.0,8.9,8.9,8.7,8.7,8.6,8.5,8.5,8.3,8.3,8.3,8.2,8.2,8.2,8.2,8.1,8.1,8.1,8.0,8.0,8.0,7.8,7.8,7.6,7.6,7.5,7.4,7.4,7.4,7.3,7.3,7.2,7.1,7.1,7.0,7.0,7.0,6.9,6.9,6.9,6.9,6.8,6.6,6.5,6.4,6.3,6.3,6.3,6.2,6.2,6.1,6.1,6.0,5.9,5.9,5.9,5.9,5.8,5.7,5.6,5.6,5.5,5.4,5.3,5.3,5.2,5.2,5.1,5.0,5.0,5.0,4.9,4.9,4.9,4.8,4.7,4.7,4.7,4.5,4.4,4.4,4.4,4.3,4.1,4.1,3.9,3.9,3.7,3.6,3.6,3.4,3.3,3.2,3.0,2.5],\"yaxis\":\"y\",\"type\":\"scatter\"},{\"hovertemplate\":\"<b>OLS trendline</b><br>PTS = 4.31471 * 3PM + 6.58159<br>R<sup>2</sup>=0.348193<br><br>3PM=%{x}<br>PTS=%{y} <b>(trend)</b><extra></extra>\",\"legendgroup\":\"\",\"marker\":{\"color\":\"#636efa\",\"symbol\":\"circle\"},\"mode\":\"lines\",\"name\":\"\",\"showlegend\":false,\"x\":[0.0,0.0,0.0,0.0,0.0,0.0,0.0,0.0,0.0,0.0,0.0,0.0,0.0,0.0,0.0,0.0,0.0,0.0,0.0,0.0,0.1,0.1,0.1,0.1,0.1,0.1,0.1,0.1,0.1,0.2,0.2,0.3,0.3,0.4,0.4,0.4,0.4,0.4,0.4,0.4,0.4,0.4,0.4,0.5,0.5,0.5,0.5,0.5,0.5,0.5,0.5,0.5,0.5,0.6,0.6,0.6,0.6,0.6,0.6,0.6,0.7,0.7,0.7,0.7,0.7,0.7,0.7,0.7,0.7,0.7,0.7,0.8,0.8,0.8,0.8,0.8,0.8,0.8,0.8,0.8,0.9,0.9,0.9,0.9,0.9,0.9,0.9,0.9,0.9,1.0,1.0,1.0,1.0,1.0,1.0,1.1,1.1,1.1,1.1,1.1,1.1,1.1,1.1,1.1,1.1,1.1,1.2,1.2,1.2,1.2,1.2,1.2,1.2,1.2,1.2,1.2,1.2,1.2,1.2,1.2,1.2,1.2,1.3,1.3,1.3,1.3,1.3,1.3,1.3,1.4,1.4,1.4,1.4,1.4,1.4,1.4,1.4,1.4,1.5,1.5,1.5,1.5,1.5,1.5,1.5,1.5,1.5,1.5,1.6,1.6,1.6,1.6,1.6,1.6,1.6,1.6,1.6,1.6,1.7,1.7,1.7,1.7,1.7,1.7,1.7,1.7,1.7,1.7,1.7,1.7,1.7,1.7,1.7,1.8,1.8,1.8,1.8,1.8,1.8,1.9,1.9,1.9,1.9,1.9,1.9,1.9,2.0,2.0,2.0,2.0,2.0,2.0,2.0,2.0,2.0,2.0,2.1,2.1,2.1,2.1,2.1,2.1,2.1,2.1,2.2,2.2,2.2,2.2,2.2,2.3,2.3,2.3,2.3,2.3,2.3,2.3,2.3,2.4,2.4,2.4,2.4,2.4,2.4,2.5,2.5,2.5,2.6,2.6,2.7,2.7,2.7,2.7,2.8,2.8,2.8,2.9,2.9,2.9,2.9,2.9,3.0,3.0,3.1,3.1,3.2,3.2,3.2,3.3,3.3,3.3,3.3,3.4,3.9,5.0],\"xaxis\":\"x\",\"y\":[6.581586305877362,6.581586305877362,6.581586305877362,6.581586305877362,6.581586305877362,6.581586305877362,6.581586305877362,6.581586305877362,6.581586305877362,6.581586305877362,6.581586305877362,6.581586305877362,6.581586305877362,6.581586305877362,6.581586305877362,6.581586305877362,6.581586305877362,6.581586305877362,6.581586305877362,6.581586305877362,7.013057066760076,7.013057066760076,7.013057066760076,7.013057066760076,7.013057066760076,7.013057066760076,7.013057066760076,7.013057066760076,7.013057066760076,7.444527827642789,7.444527827642789,7.875998588525501,7.875998588525501,8.307469349408215,8.307469349408215,8.307469349408215,8.307469349408215,8.307469349408215,8.307469349408215,8.307469349408215,8.307469349408215,8.307469349408215,8.307469349408215,8.738940110290928,8.738940110290928,8.738940110290928,8.738940110290928,8.738940110290928,8.738940110290928,8.738940110290928,8.738940110290928,8.738940110290928,8.738940110290928,9.17041087117364,9.17041087117364,9.17041087117364,9.17041087117364,9.17041087117364,9.17041087117364,9.17041087117364,9.601881632056354,9.601881632056354,9.601881632056354,9.601881632056354,9.601881632056354,9.601881632056354,9.601881632056354,9.601881632056354,9.601881632056354,9.601881632056354,9.601881632056354,10.033352392939067,10.033352392939067,10.033352392939067,10.033352392939067,10.033352392939067,10.033352392939067,10.033352392939067,10.033352392939067,10.033352392939067,10.464823153821781,10.464823153821781,10.464823153821781,10.464823153821781,10.464823153821781,10.464823153821781,10.464823153821781,10.464823153821781,10.464823153821781,10.896293914704493,10.896293914704493,10.896293914704493,10.896293914704493,10.896293914704493,10.896293914704493,11.327764675587208,11.327764675587208,11.327764675587208,11.327764675587208,11.327764675587208,11.327764675587208,11.327764675587208,11.327764675587208,11.327764675587208,11.327764675587208,11.327764675587208,11.759235436469918,11.759235436469918,11.759235436469918,11.759235436469918,11.759235436469918,11.759235436469918,11.759235436469918,11.759235436469918,11.759235436469918,11.759235436469918,11.759235436469918,11.759235436469918,11.759235436469918,11.759235436469918,11.759235436469918,11.759235436469918,12.190706197352633,12.190706197352633,12.190706197352633,12.190706197352633,12.190706197352633,12.190706197352633,12.190706197352633,12.622176958235347,12.622176958235347,12.622176958235347,12.622176958235347,12.622176958235347,12.622176958235347,12.622176958235347,12.622176958235347,12.622176958235347,13.053647719118059,13.053647719118059,13.053647719118059,13.053647719118059,13.053647719118059,13.053647719118059,13.053647719118059,13.053647719118059,13.053647719118059,13.053647719118059,13.485118480000772,13.485118480000772,13.485118480000772,13.485118480000772,13.485118480000772,13.485118480000772,13.485118480000772,13.485118480000772,13.485118480000772,13.485118480000772,13.916589240883486,13.916589240883486,13.916589240883486,13.916589240883486,13.916589240883486,13.916589240883486,13.916589240883486,13.916589240883486,13.916589240883486,13.916589240883486,13.916589240883486,13.916589240883486,13.916589240883486,13.916589240883486,13.916589240883486,14.3480600017662,14.3480600017662,14.3480600017662,14.3480600017662,14.3480600017662,14.3480600017662,14.77953076264891,14.77953076264891,14.77953076264891,14.77953076264891,14.77953076264891,14.77953076264891,14.77953076264891,15.211001523531625,15.211001523531625,15.211001523531625,15.211001523531625,15.211001523531625,15.211001523531625,15.211001523531625,15.211001523531625,15.211001523531625,15.211001523531625,15.642472284414339,15.642472284414339,15.642472284414339,15.642472284414339,15.642472284414339,15.642472284414339,15.642472284414339,15.642472284414339,16.07394304529705,16.07394304529705,16.07394304529705,16.07394304529705,16.07394304529705,16.505413806179764,16.505413806179764,16.505413806179764,16.505413806179764,16.505413806179764,16.505413806179764,16.505413806179764,16.505413806179764,16.936884567062478,16.936884567062478,16.936884567062478,16.936884567062478,16.936884567062478,16.936884567062478,17.36835532794519,17.36835532794519,17.36835532794519,17.799826088827906,17.799826088827906,18.231296849710617,18.231296849710617,18.231296849710617,18.231296849710617,18.662767610593328,18.662767610593328,18.662767610593328,19.09423837147604,19.09423837147604,19.09423837147604,19.09423837147604,19.09423837147604,19.525709132358756,19.525709132358756,19.95717989324147,19.95717989324147,20.388650654124184,20.388650654124184,20.388650654124184,20.820121415006895,20.820121415006895,20.820121415006895,20.820121415006895,21.251592175889606,23.408945980303173,28.15512435001302],\"yaxis\":\"y\",\"type\":\"scatter\"}],                        {\"template\":{\"data\":{\"bar\":[{\"error_x\":{\"color\":\"#2a3f5f\"},\"error_y\":{\"color\":\"#2a3f5f\"},\"marker\":{\"line\":{\"color\":\"#E5ECF6\",\"width\":0.5},\"pattern\":{\"fillmode\":\"overlay\",\"size\":10,\"solidity\":0.2}},\"type\":\"bar\"}],\"barpolar\":[{\"marker\":{\"line\":{\"color\":\"#E5ECF6\",\"width\":0.5},\"pattern\":{\"fillmode\":\"overlay\",\"size\":10,\"solidity\":0.2}},\"type\":\"barpolar\"}],\"carpet\":[{\"aaxis\":{\"endlinecolor\":\"#2a3f5f\",\"gridcolor\":\"white\",\"linecolor\":\"white\",\"minorgridcolor\":\"white\",\"startlinecolor\":\"#2a3f5f\"},\"baxis\":{\"endlinecolor\":\"#2a3f5f\",\"gridcolor\":\"white\",\"linecolor\":\"white\",\"minorgridcolor\":\"white\",\"startlinecolor\":\"#2a3f5f\"},\"type\":\"carpet\"}],\"choropleth\":[{\"colorbar\":{\"outlinewidth\":0,\"ticks\":\"\"},\"type\":\"choropleth\"}],\"contour\":[{\"colorbar\":{\"outlinewidth\":0,\"ticks\":\"\"},\"colorscale\":[[0.0,\"#0d0887\"],[0.1111111111111111,\"#46039f\"],[0.2222222222222222,\"#7201a8\"],[0.3333333333333333,\"#9c179e\"],[0.4444444444444444,\"#bd3786\"],[0.5555555555555556,\"#d8576b\"],[0.6666666666666666,\"#ed7953\"],[0.7777777777777778,\"#fb9f3a\"],[0.8888888888888888,\"#fdca26\"],[1.0,\"#f0f921\"]],\"type\":\"contour\"}],\"contourcarpet\":[{\"colorbar\":{\"outlinewidth\":0,\"ticks\":\"\"},\"type\":\"contourcarpet\"}],\"heatmap\":[{\"colorbar\":{\"outlinewidth\":0,\"ticks\":\"\"},\"colorscale\":[[0.0,\"#0d0887\"],[0.1111111111111111,\"#46039f\"],[0.2222222222222222,\"#7201a8\"],[0.3333333333333333,\"#9c179e\"],[0.4444444444444444,\"#bd3786\"],[0.5555555555555556,\"#d8576b\"],[0.6666666666666666,\"#ed7953\"],[0.7777777777777778,\"#fb9f3a\"],[0.8888888888888888,\"#fdca26\"],[1.0,\"#f0f921\"]],\"type\":\"heatmap\"}],\"heatmapgl\":[{\"colorbar\":{\"outlinewidth\":0,\"ticks\":\"\"},\"colorscale\":[[0.0,\"#0d0887\"],[0.1111111111111111,\"#46039f\"],[0.2222222222222222,\"#7201a8\"],[0.3333333333333333,\"#9c179e\"],[0.4444444444444444,\"#bd3786\"],[0.5555555555555556,\"#d8576b\"],[0.6666666666666666,\"#ed7953\"],[0.7777777777777778,\"#fb9f3a\"],[0.8888888888888888,\"#fdca26\"],[1.0,\"#f0f921\"]],\"type\":\"heatmapgl\"}],\"histogram\":[{\"marker\":{\"pattern\":{\"fillmode\":\"overlay\",\"size\":10,\"solidity\":0.2}},\"type\":\"histogram\"}],\"histogram2d\":[{\"colorbar\":{\"outlinewidth\":0,\"ticks\":\"\"},\"colorscale\":[[0.0,\"#0d0887\"],[0.1111111111111111,\"#46039f\"],[0.2222222222222222,\"#7201a8\"],[0.3333333333333333,\"#9c179e\"],[0.4444444444444444,\"#bd3786\"],[0.5555555555555556,\"#d8576b\"],[0.6666666666666666,\"#ed7953\"],[0.7777777777777778,\"#fb9f3a\"],[0.8888888888888888,\"#fdca26\"],[1.0,\"#f0f921\"]],\"type\":\"histogram2d\"}],\"histogram2dcontour\":[{\"colorbar\":{\"outlinewidth\":0,\"ticks\":\"\"},\"colorscale\":[[0.0,\"#0d0887\"],[0.1111111111111111,\"#46039f\"],[0.2222222222222222,\"#7201a8\"],[0.3333333333333333,\"#9c179e\"],[0.4444444444444444,\"#bd3786\"],[0.5555555555555556,\"#d8576b\"],[0.6666666666666666,\"#ed7953\"],[0.7777777777777778,\"#fb9f3a\"],[0.8888888888888888,\"#fdca26\"],[1.0,\"#f0f921\"]],\"type\":\"histogram2dcontour\"}],\"mesh3d\":[{\"colorbar\":{\"outlinewidth\":0,\"ticks\":\"\"},\"type\":\"mesh3d\"}],\"parcoords\":[{\"line\":{\"colorbar\":{\"outlinewidth\":0,\"ticks\":\"\"}},\"type\":\"parcoords\"}],\"pie\":[{\"automargin\":true,\"type\":\"pie\"}],\"scatter\":[{\"marker\":{\"colorbar\":{\"outlinewidth\":0,\"ticks\":\"\"}},\"type\":\"scatter\"}],\"scatter3d\":[{\"line\":{\"colorbar\":{\"outlinewidth\":0,\"ticks\":\"\"}},\"marker\":{\"colorbar\":{\"outlinewidth\":0,\"ticks\":\"\"}},\"type\":\"scatter3d\"}],\"scattercarpet\":[{\"marker\":{\"colorbar\":{\"outlinewidth\":0,\"ticks\":\"\"}},\"type\":\"scattercarpet\"}],\"scattergeo\":[{\"marker\":{\"colorbar\":{\"outlinewidth\":0,\"ticks\":\"\"}},\"type\":\"scattergeo\"}],\"scattergl\":[{\"marker\":{\"colorbar\":{\"outlinewidth\":0,\"ticks\":\"\"}},\"type\":\"scattergl\"}],\"scattermapbox\":[{\"marker\":{\"colorbar\":{\"outlinewidth\":0,\"ticks\":\"\"}},\"type\":\"scattermapbox\"}],\"scatterpolar\":[{\"marker\":{\"colorbar\":{\"outlinewidth\":0,\"ticks\":\"\"}},\"type\":\"scatterpolar\"}],\"scatterpolargl\":[{\"marker\":{\"colorbar\":{\"outlinewidth\":0,\"ticks\":\"\"}},\"type\":\"scatterpolargl\"}],\"scatterternary\":[{\"marker\":{\"colorbar\":{\"outlinewidth\":0,\"ticks\":\"\"}},\"type\":\"scatterternary\"}],\"surface\":[{\"colorbar\":{\"outlinewidth\":0,\"ticks\":\"\"},\"colorscale\":[[0.0,\"#0d0887\"],[0.1111111111111111,\"#46039f\"],[0.2222222222222222,\"#7201a8\"],[0.3333333333333333,\"#9c179e\"],[0.4444444444444444,\"#bd3786\"],[0.5555555555555556,\"#d8576b\"],[0.6666666666666666,\"#ed7953\"],[0.7777777777777778,\"#fb9f3a\"],[0.8888888888888888,\"#fdca26\"],[1.0,\"#f0f921\"]],\"type\":\"surface\"}],\"table\":[{\"cells\":{\"fill\":{\"color\":\"#EBF0F8\"},\"line\":{\"color\":\"white\"}},\"header\":{\"fill\":{\"color\":\"#C8D4E3\"},\"line\":{\"color\":\"white\"}},\"type\":\"table\"}]},\"layout\":{\"annotationdefaults\":{\"arrowcolor\":\"#2a3f5f\",\"arrowhead\":0,\"arrowwidth\":1},\"autotypenumbers\":\"strict\",\"coloraxis\":{\"colorbar\":{\"outlinewidth\":0,\"ticks\":\"\"}},\"colorscale\":{\"diverging\":[[0,\"#8e0152\"],[0.1,\"#c51b7d\"],[0.2,\"#de77ae\"],[0.3,\"#f1b6da\"],[0.4,\"#fde0ef\"],[0.5,\"#f7f7f7\"],[0.6,\"#e6f5d0\"],[0.7,\"#b8e186\"],[0.8,\"#7fbc41\"],[0.9,\"#4d9221\"],[1,\"#276419\"]],\"sequential\":[[0.0,\"#0d0887\"],[0.1111111111111111,\"#46039f\"],[0.2222222222222222,\"#7201a8\"],[0.3333333333333333,\"#9c179e\"],[0.4444444444444444,\"#bd3786\"],[0.5555555555555556,\"#d8576b\"],[0.6666666666666666,\"#ed7953\"],[0.7777777777777778,\"#fb9f3a\"],[0.8888888888888888,\"#fdca26\"],[1.0,\"#f0f921\"]],\"sequentialminus\":[[0.0,\"#0d0887\"],[0.1111111111111111,\"#46039f\"],[0.2222222222222222,\"#7201a8\"],[0.3333333333333333,\"#9c179e\"],[0.4444444444444444,\"#bd3786\"],[0.5555555555555556,\"#d8576b\"],[0.6666666666666666,\"#ed7953\"],[0.7777777777777778,\"#fb9f3a\"],[0.8888888888888888,\"#fdca26\"],[1.0,\"#f0f921\"]]},\"colorway\":[\"#636efa\",\"#EF553B\",\"#00cc96\",\"#ab63fa\",\"#FFA15A\",\"#19d3f3\",\"#FF6692\",\"#B6E880\",\"#FF97FF\",\"#FECB52\"],\"font\":{\"color\":\"#2a3f5f\"},\"geo\":{\"bgcolor\":\"white\",\"lakecolor\":\"white\",\"landcolor\":\"#E5ECF6\",\"showlakes\":true,\"showland\":true,\"subunitcolor\":\"white\"},\"hoverlabel\":{\"align\":\"left\"},\"hovermode\":\"closest\",\"mapbox\":{\"style\":\"light\"},\"paper_bgcolor\":\"white\",\"plot_bgcolor\":\"#E5ECF6\",\"polar\":{\"angularaxis\":{\"gridcolor\":\"white\",\"linecolor\":\"white\",\"ticks\":\"\"},\"bgcolor\":\"#E5ECF6\",\"radialaxis\":{\"gridcolor\":\"white\",\"linecolor\":\"white\",\"ticks\":\"\"}},\"scene\":{\"xaxis\":{\"backgroundcolor\":\"#E5ECF6\",\"gridcolor\":\"white\",\"gridwidth\":2,\"linecolor\":\"white\",\"showbackground\":true,\"ticks\":\"\",\"zerolinecolor\":\"white\"},\"yaxis\":{\"backgroundcolor\":\"#E5ECF6\",\"gridcolor\":\"white\",\"gridwidth\":2,\"linecolor\":\"white\",\"showbackground\":true,\"ticks\":\"\",\"zerolinecolor\":\"white\"},\"zaxis\":{\"backgroundcolor\":\"#E5ECF6\",\"gridcolor\":\"white\",\"gridwidth\":2,\"linecolor\":\"white\",\"showbackground\":true,\"ticks\":\"\",\"zerolinecolor\":\"white\"}},\"shapedefaults\":{\"line\":{\"color\":\"#2a3f5f\"}},\"ternary\":{\"aaxis\":{\"gridcolor\":\"white\",\"linecolor\":\"white\",\"ticks\":\"\"},\"baxis\":{\"gridcolor\":\"white\",\"linecolor\":\"white\",\"ticks\":\"\"},\"bgcolor\":\"#E5ECF6\",\"caxis\":{\"gridcolor\":\"white\",\"linecolor\":\"white\",\"ticks\":\"\"}},\"title\":{\"x\":0.05},\"xaxis\":{\"automargin\":true,\"gridcolor\":\"white\",\"linecolor\":\"white\",\"ticks\":\"\",\"title\":{\"standoff\":15},\"zerolinecolor\":\"white\",\"zerolinewidth\":2},\"yaxis\":{\"automargin\":true,\"gridcolor\":\"white\",\"linecolor\":\"white\",\"ticks\":\"\",\"title\":{\"standoff\":15},\"zerolinecolor\":\"white\",\"zerolinewidth\":2}}},\"xaxis\":{\"anchor\":\"y\",\"domain\":[0.0,1.0],\"title\":{\"text\":\"3PM\"}},\"yaxis\":{\"anchor\":\"x\",\"domain\":[0.0,1.0],\"title\":{\"text\":\"PTS\"}},\"legend\":{\"tracegroupgap\":0,\"itemsizing\":\"constant\"},\"margin\":{\"t\":60}},                        {\"responsive\": true}                    ).then(function(){\n",
       "                            \n",
       "var gd = document.getElementById('50b93928-6b2f-4947-8a80-39dc057fa9a0');\n",
       "var x = new MutationObserver(function (mutations, observer) {{\n",
       "        var display = window.getComputedStyle(gd).display;\n",
       "        if (!display || display === 'none') {{\n",
       "            console.log([gd, 'removed!']);\n",
       "            Plotly.purge(gd);\n",
       "            observer.disconnect();\n",
       "        }}\n",
       "}});\n",
       "\n",
       "// Listen for the removal of the full notebook cells\n",
       "var notebookContainer = gd.closest('#notebook-container');\n",
       "if (notebookContainer) {{\n",
       "    x.observe(notebookContainer, {childList: true});\n",
       "}}\n",
       "\n",
       "// Listen for the clearing of the current output cell\n",
       "var outputEl = gd.closest('.output');\n",
       "if (outputEl) {{\n",
       "    x.observe(outputEl, {childList: true});\n",
       "}}\n",
       "\n",
       "                        })                };                });            </script>        </div>"
      ]
     },
     "metadata": {},
     "output_type": "display_data"
    }
   ],
   "source": [
    "# Visualize the relationship between Field Goals Made (FGM) and Points (PTS)\n",
    "figure = px.scatter(data_frame=df, x='3PM', y='PTS', size='PTS', trendline='ols')\n",
    "figure.show()"
   ]
  },
  {
   "cell_type": "code",
   "execution_count": 52,
   "metadata": {},
   "outputs": [
    {
     "name": "stdout",
     "output_type": "stream",
     "text": [
      "PTS     1.000000\n",
      "FGM     0.989090\n",
      "FGA     0.981380\n",
      "FTM     0.910592\n",
      "EFF     0.904308\n",
      "FTA     0.894923\n",
      "MIN     0.860407\n",
      "TOV     0.843643\n",
      "AST     0.697262\n",
      "3PA     0.612752\n",
      "3PM     0.590079\n",
      "DREB    0.581387\n",
      "STL     0.576721\n",
      "REB     0.465153\n",
      "FT%     0.362580\n",
      "GP      0.223138\n",
      "BLK     0.213741\n",
      "3P%     0.115158\n",
      "OREB    0.103778\n",
      "FG%     0.067679\n",
      "Name: PTS, dtype: float64\n"
     ]
    }
   ],
   "source": [
    "# Correlation with all columns with the Points column\n",
    "correlation = df.corr()\n",
    "print(correlation['PTS'].sort_values(ascending=False))"
   ]
  },
  {
   "cell_type": "code",
   "execution_count": 56,
   "metadata": {},
   "outputs": [
    {
     "data": {
      "text/html": [
       "<div>\n",
       "<style scoped>\n",
       "    .dataframe tbody tr th:only-of-type {\n",
       "        vertical-align: middle;\n",
       "    }\n",
       "\n",
       "    .dataframe tbody tr th {\n",
       "        vertical-align: top;\n",
       "    }\n",
       "\n",
       "    .dataframe thead th {\n",
       "        text-align: right;\n",
       "    }\n",
       "</style>\n",
       "<table border=\"1\" class=\"dataframe\">\n",
       "  <thead>\n",
       "    <tr style=\"text-align: right;\">\n",
       "      <th></th>\n",
       "      <th>GP</th>\n",
       "      <th>MIN</th>\n",
       "      <th>PTS</th>\n",
       "      <th>FGM</th>\n",
       "      <th>FGA</th>\n",
       "      <th>FG%</th>\n",
       "      <th>3PM</th>\n",
       "      <th>3PA</th>\n",
       "      <th>3P%</th>\n",
       "      <th>FTM</th>\n",
       "      <th>FTA</th>\n",
       "      <th>FT%</th>\n",
       "      <th>OREB</th>\n",
       "      <th>DREB</th>\n",
       "      <th>REB</th>\n",
       "      <th>AST</th>\n",
       "      <th>STL</th>\n",
       "      <th>BLK</th>\n",
       "      <th>TOV</th>\n",
       "      <th>EFF</th>\n",
       "    </tr>\n",
       "  </thead>\n",
       "  <tbody>\n",
       "    <tr>\n",
       "      <th>0.25</th>\n",
       "      <td>44.00</td>\n",
       "      <td>19.325</td>\n",
       "      <td>7.225</td>\n",
       "      <td>2.725</td>\n",
       "      <td>5.700</td>\n",
       "      <td>43.900</td>\n",
       "      <td>0.7</td>\n",
       "      <td>2.0</td>\n",
       "      <td>31.925</td>\n",
       "      <td>0.800</td>\n",
       "      <td>1.1</td>\n",
       "      <td>72.125</td>\n",
       "      <td>0.5</td>\n",
       "      <td>2.2</td>\n",
       "      <td>2.800</td>\n",
       "      <td>1.3</td>\n",
       "      <td>0.5</td>\n",
       "      <td>0.20</td>\n",
       "      <td>0.8</td>\n",
       "      <td>9.300</td>\n",
       "    </tr>\n",
       "    <tr>\n",
       "      <th>0.50</th>\n",
       "      <td>49.50</td>\n",
       "      <td>26.350</td>\n",
       "      <td>11.400</td>\n",
       "      <td>4.250</td>\n",
       "      <td>8.750</td>\n",
       "      <td>46.450</td>\n",
       "      <td>1.3</td>\n",
       "      <td>3.5</td>\n",
       "      <td>36.300</td>\n",
       "      <td>1.450</td>\n",
       "      <td>1.9</td>\n",
       "      <td>78.700</td>\n",
       "      <td>0.9</td>\n",
       "      <td>3.0</td>\n",
       "      <td>3.900</td>\n",
       "      <td>2.3</td>\n",
       "      <td>0.7</td>\n",
       "      <td>0.45</td>\n",
       "      <td>1.2</td>\n",
       "      <td>13.350</td>\n",
       "    </tr>\n",
       "    <tr>\n",
       "      <th>0.75</th>\n",
       "      <td>52.75</td>\n",
       "      <td>31.475</td>\n",
       "      <td>16.575</td>\n",
       "      <td>6.100</td>\n",
       "      <td>12.775</td>\n",
       "      <td>50.475</td>\n",
       "      <td>2.0</td>\n",
       "      <td>5.2</td>\n",
       "      <td>39.475</td>\n",
       "      <td>2.675</td>\n",
       "      <td>3.2</td>\n",
       "      <td>83.975</td>\n",
       "      <td>1.3</td>\n",
       "      <td>4.3</td>\n",
       "      <td>5.575</td>\n",
       "      <td>4.0</td>\n",
       "      <td>1.0</td>\n",
       "      <td>0.70</td>\n",
       "      <td>1.8</td>\n",
       "      <td>18.875</td>\n",
       "    </tr>\n",
       "  </tbody>\n",
       "</table>\n",
       "</div>"
      ],
      "text/plain": [
       "         GP     MIN     PTS    FGM     FGA     FG%  3PM  3PA     3P%    FTM  \\\n",
       "0.25  44.00  19.325   7.225  2.725   5.700  43.900  0.7  2.0  31.925  0.800   \n",
       "0.50  49.50  26.350  11.400  4.250   8.750  46.450  1.3  3.5  36.300  1.450   \n",
       "0.75  52.75  31.475  16.575  6.100  12.775  50.475  2.0  5.2  39.475  2.675   \n",
       "\n",
       "      FTA     FT%  OREB  DREB    REB  AST  STL   BLK  TOV     EFF  \n",
       "0.25  1.1  72.125   0.5   2.2  2.800  1.3  0.5  0.20  0.8   9.300  \n",
       "0.50  1.9  78.700   0.9   3.0  3.900  2.3  0.7  0.45  1.2  13.350  \n",
       "0.75  3.2  83.975   1.3   4.3  5.575  4.0  1.0  0.70  1.8  18.875  "
      ]
     },
     "execution_count": 56,
     "metadata": {},
     "output_type": "execute_result"
    }
   ],
   "source": [
    "# Calculate specific percentiles\n",
    "percentiles = df.quantile([0.25, 0.5, 0.75])\n",
    "percentiles"
   ]
  },
  {
   "cell_type": "code",
   "execution_count": 58,
   "metadata": {},
   "outputs": [
    {
     "data": {
      "text/plain": [
       "(12.561023622047244, 6.683533689168114)"
      ]
     },
     "execution_count": 58,
     "metadata": {},
     "output_type": "execute_result"
    }
   ],
   "source": []
  }
 ],
 "metadata": {
  "kernelspec": {
   "display_name": "Python 3 (ipykernel)",
   "language": "python",
   "name": "python3"
  },
  "language_info": {
   "codemirror_mode": {
    "name": "ipython",
    "version": 3
   },
   "file_extension": ".py",
   "mimetype": "text/x-python",
   "name": "python",
   "nbconvert_exporter": "python",
   "pygments_lexer": "ipython3",
   "version": "3.9.12"
  }
 },
 "nbformat": 4,
 "nbformat_minor": 4
}
